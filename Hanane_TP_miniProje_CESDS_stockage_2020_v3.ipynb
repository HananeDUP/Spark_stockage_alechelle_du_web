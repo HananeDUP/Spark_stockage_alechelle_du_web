{
  "nbformat": 4,
  "nbformat_minor": 0,
  "metadata": {
    "colab": {
      "name": "Hanane_TP_miniProje_CESDS_stockage_2020-v3.ipynb",
      "provenance": [],
      "collapsed_sections": [],
      "toc_visible": true
    },
    "kernelspec": {
      "display_name": "Python 3",
      "language": "python",
      "name": "python3"
    },
    "language_info": {
      "codemirror_mode": {
        "name": "ipython",
        "version": 3
      },
      "file_extension": ".py",
      "mimetype": "text/x-python",
      "name": "python",
      "nbconvert_exporter": "python",
      "pygments_lexer": "ipython3",
      "version": "3.7.3"
    }
  },
  "cells": [
    {
      "cell_type": "markdown",
      "metadata": {
        "colab_type": "text",
        "id": "_jwpNz1D-yhY"
      },
      "source": [
        "# CES DS : Stockage à l'échelle du Web\n",
        "Stockage Persistance en mémoire / plans d'exécution"
      ]
    },
    {
      "cell_type": "markdown",
      "metadata": {
        "id": "ZxuYHWCNwKLQ",
        "colab_type": "text"
      },
      "source": [
        "Mars 2020"
      ]
    },
    {
      "cell_type": "markdown",
      "metadata": {
        "id": "216O3_osv_jW",
        "colab_type": "text"
      },
      "source": [
        "# Préparation\n",
        "Commencer par **effacer** la sortie de toutes les cellules : Menu Modifier -> Supprimer tous les éléments de sortie\n"
      ]
    },
    {
      "cell_type": "code",
      "metadata": {
        "id": "73WYkkJkIN5Y",
        "colab_type": "code",
        "outputId": "a9f1db3d-86e4-4a0f-9e2b-4b7baaf0c0d6",
        "colab": {
          "base_uri": "https://localhost:8080/",
          "height": 87
        }
      },
      "source": [
        "!echo $JAVA_HOME\n",
        "! java -version"
      ],
      "execution_count": 1,
      "outputs": [
        {
          "output_type": "stream",
          "text": [
            "\n",
            "openjdk version \"11.0.6\" 2020-01-14\n",
            "OpenJDK Runtime Environment (build 11.0.6+10-post-Ubuntu-1ubuntu118.04.1)\n",
            "OpenJDK 64-Bit Server VM (build 11.0.6+10-post-Ubuntu-1ubuntu118.04.1, mixed mode, sharing)\n"
          ],
          "name": "stdout"
        }
      ]
    },
    {
      "cell_type": "code",
      "metadata": {
        "colab_type": "code",
        "id": "NbU-sE5pqw0f",
        "outputId": "3005cac8-b612-482a-fbc6-afc98e855118",
        "colab": {
          "base_uri": "https://localhost:8080/",
          "height": 104
        }
      },
      "source": [
        "import os\n",
        "\n",
        "# choisir un mode d'execution: colaboratory, local ou ppti\n",
        "\n",
        "# Sur colaboratory:\n",
        "EXECUTION='colaboratory'\n",
        "\n",
        "# Mode local:\n",
        "# EXECUTION='local'\n",
        "\n",
        "# Exécution en salle de TP :\n",
        "#EXECUTION='ppti'\n",
        "\n",
        "print('EXECUTION:', EXECUTION)\n",
        "\n",
        "SPARK_VERSION=\"2.4.5\"\n",
        "\n",
        "# URL du dossier PUBLIC_DATASET contenant des fichiers des TP\n",
        "# -----------------------------------------------------------\n",
        "# en cas de problème avec le téléchargement, aller sur https://nuage.lip6.fr/s/H3bpyRGgnCq2RN4 (Ctrl + click pour suivre le lien)\n",
        "PUBLIC_DATASET=\"https://nuage.lip6.fr/s/H3bpyRGgnCq2NR4/download?path=\"\n",
        "\n",
        "# Ajuster les variables d'environnement selon le mode d'execution\n",
        "# ----------------------------------------------------------------\n",
        "if EXECUTION == 'colaboratory':\n",
        "  HOME=\"/content\"\n",
        "  os.environ[\"JAVA_HOME\"] = \"/usr/lib/jvm/java-8-openjdk-amd64\"\n",
        "  SPARK_PREFIX=\"/content\"\n",
        "  os.environ[\"SPARK_HOME\"] = f\"{SPARK_PREFIX}/spark-{SPARK_VERSION}-bin-hadoop2.7\"\n",
        "  !mkdir -p {os.environ[\"SPARK_HOME\"]}\n",
        "  DATASET_DIR=\"/content\"\n",
        "\n",
        "elif EXECUTION == 'local':\n",
        "  HOME=os.environ[\"HOME\"]\n",
        "  os.environ[\"JAVA_HOME\"] = \"/usr/lib/jvm/java-8-openjdk-amd64\"\n",
        "  SPARK_PREFIX=\"/local/\" + os.environ[\"USER\"]   # ajust this depending on your local \n",
        "  os.environ[\"SPARK_HOME\"] = f\"{SPARK_PREFIX}/spark-{SPARK_VERSION}-bin-hadoop2.7\"  \n",
        "  # os.environ[\"SPARK_HOME\"] = f\"{HOME}/anaconda3/bin/spark-{SPARK_VERSION}-bin-hadoop2.7\"  # si pyspark installé par \"conda\"\n",
        "  DATASET_DIR=f\"{HOME}/dataset\"\n",
        "\n",
        "elif EXECUTION == 'ppti':\n",
        "  HOME=os.environ[\"HOME\"]\n",
        "  os.environ[\"JAVA_HOME\"] = \"/usr/lib/jvm/java-8-openjdk-amd64\"\n",
        "  SPARK_PREFIX=\"/usr/local\"\n",
        "  os.environ[\"SPARK_HOME\"] = f\"{SPARK_PREFIX}/spark-{SPARK_VERSION}-bin-hadoop2.7\"  \n",
        "  DATASET_DIR=\"/Infos/bd/spark/dataset\"\n",
        "else:\n",
        "    print(\"Valeur incorrecte pour la variable EXECUTION:\", EXECUTION)\n",
        "\n",
        "\n",
        "def checkEnvironmentDirectory(env_variable) :\n",
        "  if (os.path.isdir(os.environ[env_variable])) :\n",
        "    print(env_variable, \"is correct:\", os.environ[env_variable])\n",
        "  else :\n",
        "    print(env_variable, \"incorrect:\", os.environ[env_variable], \" directory does not exist! Please fix it\")\n",
        "\n",
        "# check env variabbles are correctly set\n",
        "checkEnvironmentDirectory(\"HOME\")\n",
        "checkEnvironmentDirectory(\"JAVA_HOME\")\n",
        "checkEnvironmentDirectory(\"SPARK_HOME\")\n",
        "\n",
        "# Check DATASET_DIR\n",
        "if (os.path.isdir(DATASET_DIR)) :\n",
        "  print(\"DATASET_DIR is correct:\", DATASET_DIR)\n",
        "else :\n",
        "  print(\"DATASET_DIR incorrect:\", DATASET_DIR, \"does not exist! Please fix it\")"
      ],
      "execution_count": 2,
      "outputs": [
        {
          "output_type": "stream",
          "text": [
            "EXECUTION: colaboratory\n",
            "HOME is correct: /root\n",
            "JAVA_HOME is correct: /usr/lib/jvm/java-8-openjdk-amd64\n",
            "SPARK_HOME is correct: /content/spark-2.4.5-bin-hadoop2.7\n",
            "DATASET_DIR is correct: /content\n"
          ],
          "name": "stdout"
        }
      ]
    },
    {
      "cell_type": "markdown",
      "metadata": {
        "colab_type": "text",
        "id": "-fCYt4aw4N3W"
      },
      "source": [
        "## Téléchargements"
      ]
    },
    {
      "cell_type": "markdown",
      "metadata": {
        "colab_type": "text",
        "id": "lGnhq33i30KW"
      },
      "source": [
        "### Spark"
      ]
    },
    {
      "cell_type": "code",
      "metadata": {
        "colab_type": "code",
        "id": "fHPKVUL73yKH",
        "outputId": "f9e250b1-4315-4551-aa34-27d79604d075",
        "colab": {
          "base_uri": "https://localhost:8080/",
          "height": 35
        }
      },
      "source": [
        "import os\n",
        "\n",
        "if EXECUTION == 'ppti':\n",
        "  print(\"on ne telecharge pas spark\")  \n",
        "else:\n",
        "    if (os.path.isdir(os.environ[\"SPARK_HOME\"] + \"/bin\")):\n",
        "        print(os.environ[\"SPARK_HOME\"] + \"/bin\" + \" exists.\")\n",
        "    else:\n",
        "        CLOSER_LOCATION = f\"https://www.apache.org/dyn/closer.lua/spark/spark-{SPARK_VERSION}/spark-{SPARK_VERSION}-bin-hadoop2.7.tgz\"\n",
        "        !wget {CLOSER_LOCATION} -O suggest.html\n",
        "        !wget `grep \"suggest the following mirror\" -A2 suggest.html |grep -Po 'href=\"\\K[^\"]*'` -O {SPARK_PREFIX}/spark-{SPARK_VERSION}-bin-hadoop2.7.tgz\n",
        "        !cd {SPARK_PREFIX} && tar xzf spark-{SPARK_VERSION}-bin-hadoop2.7.tgz && rm spark-{SPARK_VERSION}-bin-hadoop2.7.tgz\n",
        "        !rm suggest.html\n",
        "        if (os.path.isdir(os.environ[\"SPARK_HOME\"] + \"/bin\")):\n",
        "          print(os.environ[\"SPARK_HOME\"] + \"/bin\" + \" ok\")\n",
        "        else:\n",
        "          print(\"installation à revoir\")\n",
        "\n",
        "# Rmq: d'autres possibilités pour télécharger spark sont :  !conda install pyspark  ou !pip install pyspark\n",
        "# La durée de téléchargement (environ 1 minute) est la même quelle que soit la méthode utilisée."
      ],
      "execution_count": 3,
      "outputs": [
        {
          "output_type": "stream",
          "text": [
            "/content/spark-2.4.5-bin-hadoop2.7/bin exists.\n"
          ],
          "name": "stdout"
        }
      ]
    },
    {
      "cell_type": "markdown",
      "metadata": {
        "colab_type": "text",
        "id": "6c8lj2dj38Iu"
      },
      "source": [
        "### findspark"
      ]
    },
    {
      "cell_type": "code",
      "metadata": {
        "colab_type": "code",
        "id": "VfohAIQv1UFK",
        "outputId": "369a33c3-b4f4-4c3a-e6c1-4553676e3eae",
        "colab": {
          "base_uri": "https://localhost:8080/",
          "height": 35
        }
      },
      "source": [
        "if EXECUTION == 'ppti' :\n",
        "  !ls -l /Infos/bd/spark/python/findspark.py\n",
        "else :\n",
        "  !pip install findspark"
      ],
      "execution_count": 4,
      "outputs": [
        {
          "output_type": "stream",
          "text": [
            "Requirement already satisfied: findspark in /usr/local/lib/python3.6/dist-packages (1.3.0)\n"
          ],
          "name": "stdout"
        }
      ]
    },
    {
      "cell_type": "markdown",
      "metadata": {
        "colab_type": "text",
        "id": "THe8u_Ho4w2z"
      },
      "source": [
        "### demarrer_spark.py"
      ]
    },
    {
      "cell_type": "code",
      "metadata": {
        "colab_type": "code",
        "id": "K_wTd3VO4zzA",
        "outputId": "9ac901d5-394c-4ed9-fe5d-2960d76fcd3a",
        "colab": {
          "base_uri": "https://localhost:8080/",
          "height": 35
        }
      },
      "source": [
        "if EXECUTION == 'ppti' :\n",
        "  if os.path.isfile(\"/Infos/bd/spark/python/demarrer_spark.py\") :\n",
        "    print(\"demarrer_spark.py exists.\")\n",
        "  else:\n",
        "    print(\"ERROR: demarrer_spark.py missing\")\n",
        "elif os.path.isfile(\"demarrer_spark.py\") :\n",
        "  print(\"demarrer_spark.py exists.\")\n",
        "else:\n",
        "  !wget {PUBLIC_DATASET}/python/demarrer_spark.py -O demarrer_spark.py"
      ],
      "execution_count": 5,
      "outputs": [
        {
          "output_type": "stream",
          "text": [
            "demarrer_spark.py exists.\n"
          ],
          "name": "stdout"
        }
      ]
    },
    {
      "cell_type": "markdown",
      "metadata": {
        "id": "gmQopv0unK3r",
        "colab_type": "text"
      },
      "source": [
        "### mesure.py"
      ]
    },
    {
      "cell_type": "code",
      "metadata": {
        "colab_type": "code",
        "outputId": "255709bc-cd6d-48ac-bdeb-f2dbffb433e6",
        "id": "v_JkF-n5m46m",
        "colab": {
          "base_uri": "https://localhost:8080/",
          "height": 35
        }
      },
      "source": [
        "if EXECUTION == 'ppti' :\n",
        "  if os.path.isfile(\"/Infos/bd/spark/python/mesure.py\") :\n",
        "    print(\"mesure.py exists.\")\n",
        "  else:\n",
        "    print(\"ERROR: mesure.py missing\")\n",
        "elif os.path.isfile(\"mesure.py\") :\n",
        "  print(\"mesure.py exists.\")\n",
        "else:\n",
        "  !wget {PUBLIC_DATASET}/python/mesure.py -O mesure.py"
      ],
      "execution_count": 6,
      "outputs": [
        {
          "output_type": "stream",
          "text": [
            "mesure.py exists.\n"
          ],
          "name": "stdout"
        }
      ]
    },
    {
      "cell_type": "markdown",
      "metadata": {
        "colab_type": "text",
        "id": "b48RFAkz0fIK"
      },
      "source": [
        "## Démarrer la session spark"
      ]
    },
    {
      "cell_type": "code",
      "metadata": {
        "colab_type": "code",
        "collapsed": true,
        "id": "UGN1-AH40fIM",
        "outputId": "47d19804-1b4c-4bd6-cebe-c71e24460a87",
        "colab": {
          "base_uri": "https://localhost:8080/",
          "height": 295
        }
      },
      "source": [
        "from demarrer_spark import demarrer_spark\n",
        "from demarrer_spark import chronoRequete\n",
        "from demarrer_spark import showPartitions\n",
        "from demarrer_spark import showPartitionSize\n",
        "from mesure import Mesure\n",
        "\n",
        "spark = demarrer_spark()\n",
        "\n",
        "m = Mesure(spark)\n",
        "# m.mesure(notes1M.distinct())\n",
        "print(\"m est défini\")"
      ],
      "execution_count": 7,
      "outputs": [
        {
          "output_type": "stream",
          "text": [
            "les dossiers contenant les packages\n",
            "\n",
            "/env/python\n",
            "/usr/lib/python36.zip\n",
            "/usr/lib/python3.6\n",
            "/usr/lib/python3.6/lib-dynload\n",
            "/usr/local/lib/python3.6/dist-packages\n",
            "/usr/lib/python3/dist-packages\n",
            "/usr/local/lib/python3.6/dist-packages/IPython/extensions\n",
            "/root/.ipython\n",
            "findspark.init() initialise les variables d'environnement pour spark\n",
            "import fait\n",
            "fonction chronoRequete définie\n",
            "Mesure definie\n",
            "session démarrée, son id est  local-1588482721907\n",
            "m est défini\n"
          ],
          "name": "stdout"
        }
      ]
    },
    {
      "cell_type": "markdown",
      "metadata": {
        "id": "0DLIcF2BJ-HJ",
        "colab_type": "text"
      },
      "source": [
        ""
      ]
    },
    {
      "cell_type": "markdown",
      "metadata": {
        "colab_type": "text",
        "id": "DOK3kUGp5rKC"
      },
      "source": [
        "# Mini Projet\n"
      ]
    },
    {
      "cell_type": "markdown",
      "metadata": {
        "id": "lRJEaR378uVF",
        "colab_type": "text"
      },
      "source": [
        "## Tâche 1:  Poids des termes dans un document\n"
      ]
    },
    {
      "cell_type": "code",
      "metadata": {
        "id": "F-vVfTyK509m",
        "colab_type": "code",
        "outputId": "3b9c28e2-3e03-48dd-a618-e75971076ffc",
        "colab": {
          "base_uri": "https://localhost:8080/",
          "height": 208
        }
      },
      "source": [
        "  # DOSSIER contenant des fichiers\n",
        "URL=\"https://nuage.lip6.fr/s/H3bpyRGgnCq2NR4/download?path=\"\n",
        "# télécharger des fichiers:\n",
        "dossier = \"arxiv\"\n",
        "!mkdir -p {dossier}\n",
        "fichier = \"arxiv_fin_avril_2017.json\"\n",
        "!wget {URL}/{dossier}/{fichier} -O {dossier}/{fichier}"
      ],
      "execution_count": 8,
      "outputs": [
        {
          "output_type": "stream",
          "text": [
            "--2020-05-03 05:12:04--  https://nuage.lip6.fr/s/H3bpyRGgnCq2NR4/download?path=/arxiv/arxiv_fin_avril_2017.json\n",
            "Resolving nuage.lip6.fr (nuage.lip6.fr)... 132.227.201.11\n",
            "Connecting to nuage.lip6.fr (nuage.lip6.fr)|132.227.201.11|:443... connected.\n",
            "HTTP request sent, awaiting response... 200 OK\n",
            "Length: 3488473 (3.3M) [text/plain]\n",
            "Saving to: ‘arxiv/arxiv_fin_avril_2017.json’\n",
            "\n",
            "arxiv/arxiv_fin_avr 100%[===================>]   3.33M  4.95MB/s    in 0.7s    \n",
            "\n",
            "2020-05-03 05:12:06 (4.95 MB/s) - ‘arxiv/arxiv_fin_avril_2017.json’ saved [3488473/3488473]\n",
            "\n"
          ],
          "name": "stdout"
        }
      ]
    },
    {
      "cell_type": "code",
      "metadata": {
        "id": "NuJK9H1vm6l_",
        "colab_type": "code",
        "colab": {}
      },
      "source": [
        "# DATASET_DIR=\"/content\"\n",
        "arxiv = spark.read.json(path = DATASET_DIR+\"/arxiv/arxiv_fin_avril_2017.json\")"
      ],
      "execution_count": 0,
      "outputs": []
    },
    {
      "cell_type": "code",
      "metadata": {
        "id": "flT5HpnGm_iY",
        "colab_type": "code",
        "outputId": "e91749be-6cab-4e92-ab31-612fb05de315",
        "colab": {
          "base_uri": "https://localhost:8080/",
          "height": 35
        }
      },
      "source": [
        "arxiv.count()"
      ],
      "execution_count": 10,
      "outputs": [
        {
          "output_type": "execute_result",
          "data": {
            "text/plain": [
              "2650"
            ]
          },
          "metadata": {
            "tags": []
          },
          "execution_count": 10
        }
      ]
    },
    {
      "cell_type": "code",
      "metadata": {
        "id": "qIngneyTmwFM",
        "colab_type": "code",
        "colab": {}
      },
      "source": [
        "from pyspark.sql import *  \n",
        "from pyspark.sql.functions import *\n",
        "from pyspark.sql.types import *\n",
        "\n",
        "# # Pour travailler sur un échantillon de données et le cacher en mémoire\n",
        "# arxiv = arxiv.sample(0.001).persist()\n",
        "# arxiv.count()"
      ],
      "execution_count": 0,
      "outputs": []
    },
    {
      "cell_type": "code",
      "metadata": {
        "id": "IYyX8upb9WvJ",
        "colab_type": "code",
        "outputId": "447c09f4-530e-426b-9286-c3e2b6423614",
        "colab": {
          "base_uri": "https://localhost:8080/",
          "height": 245
        }
      },
      "source": [
        "# To be able to use spark.sql syntax\n",
        "arxiv.createOrReplaceTempView(\"arxiv\")\n",
        "\n",
        "print(\"Nombre de documents :\", str(arxiv.count()))\n",
        "arxiv.show(5)"
      ],
      "execution_count": 12,
      "outputs": [
        {
          "output_type": "stream",
          "text": [
            "Nombre de documents : 2650\n",
            "+--------------------+---------+--------------------+--------------------+----------+----+----------+--------------------+\n",
            "|            abstract|acm-class|             authors|          categories|   created| doi|        id|               title|\n",
            "+--------------------+---------+--------------------+--------------------+----------+----+----------+--------------------+\n",
            "|  The task of nex...|     null|[[[, Zhiqian, Zha...|               cs.IR|2017-04-15|null|1704.04576|NEXT: A Neural Ne...|\n",
            "|  Jet energy loss...|     null|[[[, Shuzhe, Shi,...|hep-ph nucl-ex nu...|2017-04-15|null|1704.04577|A Unified Descrip...|\n",
            "|  This work consi...|     null|[[[, Jinlong, Lei...|             math.OC|2017-04-15|null|1704.04578|On Synchronous, A...|\n",
            "|  Chatbots are on...|     null|[[[, Nicole M., R...|         cs.CY cs.SE|2017-04-15|null|1704.04579|Evaluating Qualit...|\n",
            "|  We present the ...|     null|[[[, Ryoji, Anzak...|physics.atom-ph p...|2017-04-15|null|1704.04583|Fully general tim...|\n",
            "+--------------------+---------+--------------------+--------------------+----------+----+----------+--------------------+\n",
            "only showing top 5 rows\n",
            "\n"
          ],
          "name": "stdout"
        }
      ]
    },
    {
      "cell_type": "markdown",
      "metadata": {
        "id": "43JEv7wKE4lT",
        "colab_type": "text"
      },
      "source": [
        "Définir les objets Dataset suivants en utilisant le langage python et l’API de Spark :"
      ]
    },
    {
      "cell_type": "markdown",
      "metadata": {
        "id": "AYABgsAlE9ra",
        "colab_type": "text"
      },
      "source": [
        "### Doc(docId, termes) où\n",
        "docId est un identifiant de document et termes est l’ensemble des termes contenus dans le titre et le résumé d’un document."
      ]
    },
    {
      "cell_type": "code",
      "metadata": {
        "id": "6IHVl4I0KZqC",
        "colab_type": "code",
        "outputId": "86ee2734-cf7b-4ab0-c5d5-b49c10c4f10c",
        "colab": {
          "base_uri": "https://localhost:8080/",
          "height": 225
        }
      },
      "source": [
        "Doc=spark.sql(\"  select id, split(concat(title, abstract), ' ') as termes from arxiv   \")\n",
        "# Doc=arxiv.withColumn('termes', concat(arxiv.title,lit(' '), arxiv.abstract)).select(\"id\",\"termes\")\n",
        "Doc.show(5)\n",
        "Doc.count()\n",
        "# Doc.show(5,truncate=False)"
      ],
      "execution_count": 13,
      "outputs": [
        {
          "output_type": "stream",
          "text": [
            "+----------+--------------------+\n",
            "|        id|              termes|\n",
            "+----------+--------------------+\n",
            "|1704.04576|[NEXT:, A, Neural...|\n",
            "|1704.04577|[A, Unified, Desc...|\n",
            "|1704.04578|[On, Synchronous,...|\n",
            "|1704.04579|[Evaluating, Qual...|\n",
            "|1704.04583|[Fully, general, ...|\n",
            "+----------+--------------------+\n",
            "only showing top 5 rows\n",
            "\n"
          ],
          "name": "stdout"
        },
        {
          "output_type": "execute_result",
          "data": {
            "text/plain": [
              "2650"
            ]
          },
          "metadata": {
            "tags": []
          },
          "execution_count": 13
        }
      ]
    },
    {
      "cell_type": "code",
      "metadata": {
        "id": "rL_vCBZM5scG",
        "colab_type": "code",
        "colab": {}
      },
      "source": [
        "# docPersistantesParId= Doc.repartition(8,'id').persist()"
      ],
      "execution_count": 0,
      "outputs": []
    },
    {
      "cell_type": "code",
      "metadata": {
        "id": "k85IKJMundll",
        "colab_type": "code",
        "colab": {}
      },
      "source": [
        "# showPartitions(docPersistantesParId)"
      ],
      "execution_count": 0,
      "outputs": []
    },
    {
      "cell_type": "markdown",
      "metadata": {
        "id": "Au1o59XIFBh5",
        "colab_type": "text"
      },
      "source": [
        "### DocTerme(docId, terme) \n",
        "où terme est un terme du document\n",
        "Rmq vous pouvez utiliser la fonction explode ou flatMap pour réaliser cette étape."
      ]
    },
    {
      "cell_type": "code",
      "metadata": {
        "id": "P1jUewpP5WYu",
        "colab_type": "code",
        "outputId": "f70fcced-d606-4448-82cc-22dee4c5f2a3",
        "colab": {
          "base_uri": "https://localhost:8080/",
          "height": 225
        }
      },
      "source": [
        "from pyspark.sql.functions import split, explode\n",
        "\n",
        "# DocTerme=Doc.withColumn(\"terme\",explode(\"termes\")).select(\"id\",\"terme\")\n",
        "# DocTerme.show(5)\n",
        "\n",
        "DocTerme=Doc.withColumn(\"terme\",explode(\"termes\")).select(\"id\",\"terme\")\n",
        "print(DocTerme.count())\n",
        "DocTerme.show(5)\n"
      ],
      "execution_count": 16,
      "outputs": [
        {
          "output_type": "stream",
          "text": [
            "365549\n",
            "+----------+---------+\n",
            "|        id|    terme|\n",
            "+----------+---------+\n",
            "|1704.04576|    NEXT:|\n",
            "|1704.04576|        A|\n",
            "|1704.04576|   Neural|\n",
            "|1704.04576|  Network|\n",
            "|1704.04576|Framework|\n",
            "+----------+---------+\n",
            "only showing top 5 rows\n",
            "\n"
          ],
          "name": "stdout"
        }
      ]
    },
    {
      "cell_type": "code",
      "metadata": {
        "id": "C9w5elQFtBjd",
        "colab_type": "code",
        "outputId": "d3fbc33f-7c9a-4ebd-e51c-3335d1c56bb2",
        "colab": {
          "base_uri": "https://localhost:8080/",
          "height": 243
        }
      },
      "source": [
        "#Supprimer certains caractères\n",
        "# spark.sql(\" SELECT regexp_replace(terme, '\\\"', '') from DocTerme\").show(5)\n",
        "DocTerme=DocTerme.withColumn(\"termeMod\", regexp_replace(\"terme\", \"[\\\"'();:\\{\\}]\", \"\"))\n",
        "# DocTerme=DocTerme.withColumn(\"termeMod\", regexp_replace(\"terme\", \"[\\\"'();:\\{\\}\\.,]\", \"\")) #to run next time\n",
        "\n",
        "# DocTerme.createOrReplaceTempView(\"DocTermeS\")\n",
        "print(DocTerme.count())\n",
        "\n",
        "#Ne garder que les mots ayant plus de 3 lettres\n",
        "DocTerme=DocTerme.where(length(col(\"termeMod\")) >= 3).select(\"id\",\"termeMod\").withColumnRenamed(\"termeMod\",\"terme\")\n",
        "print(DocTerme.count())\n",
        "DocTerme.show(5)"
      ],
      "execution_count": 17,
      "outputs": [
        {
          "output_type": "stream",
          "text": [
            "365549\n",
            "294688\n",
            "+----------+---------+\n",
            "|        id|    terme|\n",
            "+----------+---------+\n",
            "|1704.04576|     NEXT|\n",
            "|1704.04576|   Neural|\n",
            "|1704.04576|  Network|\n",
            "|1704.04576|Framework|\n",
            "|1704.04576|      for|\n",
            "+----------+---------+\n",
            "only showing top 5 rows\n",
            "\n"
          ],
          "name": "stdout"
        }
      ]
    },
    {
      "cell_type": "markdown",
      "metadata": {
        "id": "5f4IiOfaHUFp",
        "colab_type": "text"
      },
      "source": [
        "### DocTermeFrequence(docId, terme, tf, ntf)\n",
        "tf est le nombre d’occurrences du terme dans le document\n",
        "et ntf est la fréquence normalisée : ntf = tf / nombre de termes dans le document"
      ]
    },
    {
      "cell_type": "markdown",
      "metadata": {
        "id": "qVq4PCrOuVM2",
        "colab_type": "text"
      },
      "source": [
        "##### Calculer tf"
      ]
    },
    {
      "cell_type": "code",
      "metadata": {
        "id": "O9LLEokrH9pm",
        "colab_type": "code",
        "outputId": "2c6dbd40-dc83-4bb8-adf0-be31de3fc8d5",
        "colab": {
          "base_uri": "https://localhost:8080/",
          "height": 329
        }
      },
      "source": [
        "from pyspark.sql.functions import *\n",
        "\n",
        "CountByTerm=DocTerme.groupBy(\"id\",\"terme\").agg(count(\"terme\").alias('tf'))#.withColumnRenamed(\"count(terme)\",\"tf\")\n",
        "# CountByTerm=CountByTerm.selectExpr(\"id\",\"terme\",\"count(terme) as tf\")\n",
        "CountByTerm.show(10)\n",
        "CountByTerm.count()"
      ],
      "execution_count": 18,
      "outputs": [
        {
          "output_type": "stream",
          "text": [
            "+----------+--------------------+---+\n",
            "|        id|               terme| tf|\n",
            "+----------+--------------------+---+\n",
            "|1704.04576|              Neural|  1|\n",
            "|1704.04576|             Network|  1|\n",
            "|1704.04576|      Recommendation|  1|\n",
            "|1704.04576|                task|  1|\n",
            "|1704.04576|      recommendation|  2|\n",
            "|1704.04576|                been|  1|\n",
            "|1704.04576|          developing|  1|\n",
            "|1704.04576|                 and|  5|\n",
            "|1704.04576|               users|  2|\n",
            "|1704.04576|challenging,\n",
            "because|  1|\n",
            "+----------+--------------------+---+\n",
            "only showing top 10 rows\n",
            "\n"
          ],
          "name": "stdout"
        },
        {
          "output_type": "execute_result",
          "data": {
            "text/plain": [
              "224620"
            ]
          },
          "metadata": {
            "tags": []
          },
          "execution_count": 18
        }
      ]
    },
    {
      "cell_type": "markdown",
      "metadata": {
        "id": "w-aJ4Y6JuhWz",
        "colab_type": "text"
      },
      "source": [
        "##### Calculer nbr de termes dans le doc"
      ]
    },
    {
      "cell_type": "code",
      "metadata": {
        "id": "kCE6UaNPN3bM",
        "colab_type": "code",
        "outputId": "023c1966-8342-4215-9334-b4dcc9354ce1",
        "colab": {
          "base_uri": "https://localhost:8080/",
          "height": 312
        }
      },
      "source": [
        "CountByDoc=DocTerme.groupBy(\"id\").agg(count(\"terme\").alias(\"tsDoc\"))#.withColumnRenamed(\"count(terme)\",\"tsDoc\")\n",
        "nbDocuments=CountByDoc.count()\n",
        "print(\"number of documents in the dataset is \",nbDocuments)\n",
        "CountByDoc.show(10)"
      ],
      "execution_count": 19,
      "outputs": [
        {
          "output_type": "stream",
          "text": [
            "number of documents in the dataset is  2650\n",
            "+----------+-----+\n",
            "|        id|tsDoc|\n",
            "+----------+-----+\n",
            "|1704.04579|  141|\n",
            "|1704.04590|  145|\n",
            "|1704.04596|   72|\n",
            "|1704.04597|   76|\n",
            "|1704.04598|   79|\n",
            "|1704.04603|   44|\n",
            "|1704.04612|  178|\n",
            "|1704.04614|  138|\n",
            "|1704.04629|   86|\n",
            "|1704.04638|  112|\n",
            "+----------+-----+\n",
            "only showing top 10 rows\n",
            "\n"
          ],
          "name": "stdout"
        }
      ]
    },
    {
      "cell_type": "markdown",
      "metadata": {
        "id": "Jl9W-k5ouoeJ",
        "colab_type": "text"
      },
      "source": [
        "##### join"
      ]
    },
    {
      "cell_type": "code",
      "metadata": {
        "id": "jTMTOlfy472W",
        "colab_type": "code",
        "outputId": "a668bb8a-0932-4df4-c903-9629e551b2c4",
        "colab": {
          "base_uri": "https://localhost:8080/",
          "height": 260
        }
      },
      "source": [
        "#Simple Join\n",
        "DocTermeFrequence=CountByTerm.join(CountByDoc, \"id\")\n",
        "print(m.mesure(DocTermeFrequence))\n",
        "DocTermeFrequence.show(5)"
      ],
      "execution_count": 20,
      "outputs": [
        {
          "output_type": "stream",
          "text": [
            "job 15 : shuffle = 3766260 octets, time = 681.0 ms\n",
            "None\n",
            "+----------+----------------+---+-----+\n",
            "|        id|           terme| tf|tsDoc|\n",
            "+----------+----------------+---+-----+\n",
            "|1704.04579|        Chatbots|  2|  141|\n",
            "|1704.04579|             one|  1|  141|\n",
            "|1704.04579|  conversational|  2|  141|\n",
            "|1704.04579|agents\n",
            "activated|  1|  141|\n",
            "|1704.04579|         execute|  1|  141|\n",
            "+----------+----------------+---+-----+\n",
            "only showing top 5 rows\n",
            "\n"
          ],
          "name": "stdout"
        }
      ]
    },
    {
      "cell_type": "code",
      "metadata": {
        "id": "eXFDvk1xt7ko",
        "colab_type": "code",
        "colab": {}
      },
      "source": [
        "# # broadcast if partitions\n",
        "# DocTermeFrequence=CountByTerm.join(broadcast(CountByDoc), \"id\")\n",
        "# print(m.mesure(DocTermeFrequence))"
      ],
      "execution_count": 0,
      "outputs": []
    },
    {
      "cell_type": "markdown",
      "metadata": {
        "id": "Wd_yP81kusuE",
        "colab_type": "text"
      },
      "source": [
        "##### Calculer ntf:tf/nbTermesDoc"
      ]
    },
    {
      "cell_type": "code",
      "metadata": {
        "id": "sWviyBx086rR",
        "colab_type": "code",
        "outputId": "62a41eec-2e26-4040-829a-b1f65b67dc98",
        "colab": {
          "base_uri": "https://localhost:8080/",
          "height": 260
        }
      },
      "source": [
        "DocTermeFrequence=DocTermeFrequence.withColumn(\"ntf\",DocTermeFrequence.tf/DocTermeFrequence.tsDoc).select(\"id\",\"terme\",\"tf\",\"ntf\")\n",
        "DocTermeFrequence.show(5,truncate=False)\n",
        "print(m.mesure(DocTermeFrequence))"
      ],
      "execution_count": 22,
      "outputs": [
        {
          "output_type": "stream",
          "text": [
            "+----------+----------------+---+---------------------+\n",
            "|id        |terme           |tf |ntf                  |\n",
            "+----------+----------------+---+---------------------+\n",
            "|1704.04579|Chatbots        |2  |0.014184397163120567 |\n",
            "|1704.04579|one             |1  |0.0070921985815602835|\n",
            "|1704.04579|conversational  |2  |0.014184397163120567 |\n",
            "|1704.04579|agents\n",
            "activated|1  |0.0070921985815602835|\n",
            "|1704.04579|execute         |1  |0.0070921985815602835|\n",
            "+----------+----------------+---+---------------------+\n",
            "only showing top 5 rows\n",
            "\n",
            "job 18 : shuffle = 3766260 octets, time = 594.0 ms\n",
            "None\n"
          ],
          "name": "stdout"
        }
      ]
    },
    {
      "cell_type": "markdown",
      "metadata": {
        "id": "3jUduyJFH-B6",
        "colab_type": "text"
      },
      "source": [
        "### TermeDF(terme, df, idf) où\n",
        "df est le nombre de documents contenant le terme\n",
        "et  idf = log10(D / df) avec D étant le nombre total de documents. Utiliser la fonction log10() après avoir importé les fonctions de pyspark.sql.functions"
      ]
    },
    {
      "cell_type": "code",
      "metadata": {
        "id": "G34m_puC-agz",
        "colab_type": "code",
        "colab": {}
      },
      "source": [
        "nbDocTotal=DocTerme.groupBy(\"id\").agg(count(\"id\")).count()"
      ],
      "execution_count": 0,
      "outputs": []
    },
    {
      "cell_type": "code",
      "metadata": {
        "id": "6NUg2-u6IFfa",
        "colab_type": "code",
        "outputId": "a43e9924-bd21-4532-bce3-26e5cffe4157",
        "colab": {
          "base_uri": "https://localhost:8080/",
          "height": 208
        }
      },
      "source": [
        "TermeDF=DocTerme.groupBy(\"terme\").agg(count(\"id\").alias(\"df\")) #df : # de document contenant le terme. \n",
        "TermeDF=TermeDF.withColumn(\"idf\",log10(nbDocTotal/TermeDF.df)) #nbDocTotal: # total de document\n",
        "TermeDF.show(5)"
      ],
      "execution_count": 24,
      "outputs": [
        {
          "output_type": "stream",
          "text": [
            "+-----------+----+--------------------+\n",
            "|      terme|  df|                 idf|\n",
            "+-----------+----+--------------------+\n",
            "|       NEXT|   5|   2.724275869600789|\n",
            "|        for|4341|-0.21434391190189206|\n",
            "|        The|2083|   0.104556603989062|\n",
            "|        has| 639|  0.6177450157784077|\n",
            "|extensively|  12|  2.3440646278891832|\n",
            "+-----------+----+--------------------+\n",
            "only showing top 5 rows\n",
            "\n"
          ],
          "name": "stdout"
        }
      ]
    },
    {
      "cell_type": "markdown",
      "metadata": {
        "id": "H5NhbbLuIF39",
        "colab_type": "text"
      },
      "source": [
        "### DocTermeTFIDF(docId, terme, tfidf) où\n",
        "tfidf = tf * idf avec  tf associé au couple (docId, terme) et idf est associé au terme.\n",
        " \n"
      ]
    },
    {
      "cell_type": "code",
      "metadata": {
        "id": "LblJSknRIQCE",
        "colab_type": "code",
        "outputId": "9d8b4a5f-fd17-45a5-fecb-f44fdac6dc32",
        "colab": {
          "base_uri": "https://localhost:8080/",
          "height": 277
        }
      },
      "source": [
        "DocTermeTFIDF=DocTermeFrequence.join(TermeDF,'terme').select(\"id\",\"terme\",\"tf\",\"idf\")\n",
        "# DocTermeTFIDF=DocTermeFrequence.join(broadcast(TermeDF),'terme').select(\"id\",\"terme\",\"tf\",\"idf\")\n",
        "DocTermeTFIDF.show(5)"
      ],
      "execution_count": 25,
      "outputs": [
        {
          "output_type": "stream",
          "text": [
            "+----------+------------+---+------------------+\n",
            "|        id|       terme| tf|               idf|\n",
            "+----------+------------+---+------------------+\n",
            "|1704.07731|         \n",
            "C2|  1| 3.423245873936808|\n",
            "|1704.08390|#HashtagWars|  1| 3.423245873936808|\n",
            "|1704.06943|        $\n",
            "is|  1| 3.423245873936808|\n",
            "|1704.07534|      $\n",
            "such|  1| 3.423245873936808|\n",
            "|1704.07997|         $$\n",
            "|  2|3.1222158782728267|\n",
            "+----------+------------+---+------------------+\n",
            "only showing top 5 rows\n",
            "\n"
          ],
          "name": "stdout"
        }
      ]
    },
    {
      "cell_type": "code",
      "metadata": {
        "id": "dFQPabHuAvs5",
        "colab_type": "code",
        "outputId": "87343f64-80d8-4f38-f840-ec18ee542566",
        "colab": {
          "base_uri": "https://localhost:8080/",
          "height": 208
        }
      },
      "source": [
        "DocTermeTFIDF=DocTermeTFIDF.withColumn(\"tfidf\",DocTermeTFIDF.tf*DocTermeTFIDF.idf).select(\"id\",\"terme\",\"tfidf\").orderBy(\"tfidf\",ascending=False)\n",
        "DocTermeTFIDF.show(5)"
      ],
      "execution_count": 26,
      "outputs": [
        {
          "output_type": "stream",
          "text": [
            "+----------+-----+------------------+\n",
            "|        id|terme|             tfidf|\n",
            "+----------+-----+------------------+\n",
            "|1704.07606| wind|25.970618098177383|\n",
            "|1704.06853|sleep|25.784710906781015|\n",
            "|1704.05231|Gabor|24.516415586702422|\n",
            "|1704.05231|  2-D|24.410384804089713|\n",
            "|1704.06096|doors|24.232458739368077|\n",
            "+----------+-----+------------------+\n",
            "only showing top 5 rows\n",
            "\n"
          ],
          "name": "stdout"
        }
      ]
    },
    {
      "cell_type": "markdown",
      "metadata": {
        "id": "5REkxW_pIMHE",
        "colab_type": "text"
      },
      "source": [
        "### DocTermePoidVect(docId, V) où\n",
        "V est l’ensemble des couples (terme, tfidf) du document\n",
        "\n"
      ]
    },
    {
      "cell_type": "code",
      "metadata": {
        "id": "Jp9pIIciIQnL",
        "colab_type": "code",
        "outputId": "b807e54f-2637-4aa0-f097-82ab1db25d79",
        "colab": {
          "base_uri": "https://localhost:8080/",
          "height": 208
        }
      },
      "source": [
        "# DocTermePoidVect(docId, V) où\n",
        "# DocTermePoidVect(docId, V) où\n",
        "# DocTermeTFIDF.withColumn(\"coupleTermetfidf\",\"(\"+DocTermeTFIDF.terme+\",\"+str(DocTermeTFIDF.tfidf)+\")\").show()\n",
        "DocTermCouple=DocTermeTFIDF.withColumn('coupleTermetfidf', concat(lit('('),DocTermeTFIDF.terme,lit(','), DocTermeTFIDF.tfidf,lit(')')))\n",
        "DocTermCouple.show(5)"
      ],
      "execution_count": 27,
      "outputs": [
        {
          "output_type": "stream",
          "text": [
            "+----------+-----+------------------+--------------------+\n",
            "|        id|terme|             tfidf|    coupleTermetfidf|\n",
            "+----------+-----+------------------+--------------------+\n",
            "|1704.07606| wind|25.970618098177383|(wind,25.97061809...|\n",
            "|1704.06853|sleep|25.784710906781015|(sleep,25.7847109...|\n",
            "|1704.05231|Gabor|24.516415586702422|(Gabor,24.5164155...|\n",
            "|1704.05231|  2-D|24.410384804089713|(2-D,24.410384804...|\n",
            "|1704.06096|doors|24.232458739368077|(doors,24.2324587...|\n",
            "+----------+-----+------------------+--------------------+\n",
            "only showing top 5 rows\n",
            "\n"
          ],
          "name": "stdout"
        }
      ]
    },
    {
      "cell_type": "code",
      "metadata": {
        "id": "Ft7fJK-JDmQo",
        "colab_type": "code",
        "outputId": "af3c0140-349a-4b99-f463-b04de7038aaf",
        "colab": {
          "base_uri": "https://localhost:8080/",
          "height": 173
        }
      },
      "source": [
        "DocTermCouple.groupBy(\"id\").agg(count(\"coupleTermetfidf\").alias(\"nbCouple\")).orderBy('nbCouple',ascending=False).show(3)"
      ],
      "execution_count": 28,
      "outputs": [
        {
          "output_type": "stream",
          "text": [
            "+----------+--------+\n",
            "|        id|nbCouple|\n",
            "+----------+--------+\n",
            "|1704.06096|     191|\n",
            "|1704.05661|     182|\n",
            "|1704.07934|     179|\n",
            "+----------+--------+\n",
            "only showing top 3 rows\n",
            "\n"
          ],
          "name": "stdout"
        }
      ]
    },
    {
      "cell_type": "code",
      "metadata": {
        "id": "qsy8QH7AEqg6",
        "colab_type": "code",
        "outputId": "19401f10-0f86-4e96-d447-24332f227558",
        "colab": {
          "base_uri": "https://localhost:8080/",
          "height": 243
        }
      },
      "source": [
        "DocTermePoidVect=DocTermCouple.groupBy('id').agg(collect_set('coupleTermetfidf').alias('V'))\n",
        "DocTermePoidVect.show(5)"
      ],
      "execution_count": 29,
      "outputs": [
        {
          "output_type": "stream",
          "text": [
            "+----------+--------------------+\n",
            "|        id|                   V|\n",
            "+----------+--------------------+\n",
            "|1704.04579|[(to\n",
            "the,1.617065...|\n",
            "|1704.04590|[(Paths,2.9461246...|\n",
            "|1704.04596|[(appears,3.95217...|\n",
            "|1704.04597|[(to\n",
            "higher,3.122...|\n",
            "|1704.04598|[(uniform,1.85504...|\n",
            "+----------+--------------------+\n",
            "only showing top 5 rows\n",
            "\n"
          ],
          "name": "stdout"
        }
      ]
    },
    {
      "cell_type": "markdown",
      "metadata": {
        "id": "lj7Gmug6skt5",
        "colab_type": "text"
      },
      "source": [
        "## Tâche 3 : Partitionnement de données et calcul de similarité"
      ]
    },
    {
      "cell_type": "markdown",
      "metadata": {
        "id": "NnwC-zR3seSJ",
        "colab_type": "text"
      },
      "source": [
        "### Données de Movielens : films et notes"
      ]
    },
    {
      "cell_type": "code",
      "metadata": {
        "id": "DYITGIZasSRx",
        "colab_type": "code",
        "outputId": "dbdc879f-24f8-4b28-d717-312f7dfd6cae",
        "colab": {
          "base_uri": "https://localhost:8080/",
          "height": 52
        }
      },
      "source": [
        "print(\"PUBLIC_DATASET\", PUBLIC_DATASET)\n",
        "\n",
        "if os.path.isdir(DATASET_DIR + \"/movielens\"):\n",
        "  print(DATASET_DIR + \"/movielens exists.\")\n",
        "else:\n",
        "  !mkdir -p {DATASET_DIR}/movielens\n",
        "\n",
        "  # DOSSIER contenant des fichiers à télécharger\n",
        "\n",
        "  # telecharger des fichiers de movielens\n",
        "  dossier = \"movielens\"\n",
        "  !mkdir -p {dossier}\n",
        "\n",
        "  fichier = \"films.json\"\n",
        "  !wget {PUBLIC_DATASET}/{dossier}/{fichier} -O {DATASET_DIR}/{dossier}/{fichier}\n",
        "\n",
        "  fichier = \"notesAMJ.csv\"  \n",
        "  !wget {PUBLIC_DATASET}/{dossier}/{fichier} -O {DATASET_DIR}/{dossier}/{fichier}\n",
        "\n",
        "  fichier = \"notes1M.json\"  \n",
        "  !wget {PUBLIC_DATASET}/{dossier}/{fichier} -O {DATASET_DIR}/{dossier}/{fichier}\n",
        "\n",
        "  !ls -lh {dossier}\n",
        "\n",
        "  dossier = \"movielens/ml-latest-small\"\n",
        "  !mkdir -p {dossier}\n",
        "  fichier = \"ratings.csv\"\n",
        "  !wget {PUBLIC_DATASET}/{dossier}/{fichier} -O {DATASET_DIR}/{dossier}/{fichier}\n",
        "  !ls -lh {dossier}\n",
        "  print(\"dataset movielens téléchargé\")"
      ],
      "execution_count": 30,
      "outputs": [
        {
          "output_type": "stream",
          "text": [
            "PUBLIC_DATASET https://nuage.lip6.fr/s/H3bpyRGgnCq2NR4/download?path=\n",
            "/content/movielens exists.\n"
          ],
          "name": "stdout"
        }
      ]
    },
    {
      "cell_type": "code",
      "metadata": {
        "id": "CI9iKgPzsXcr",
        "colab_type": "code",
        "outputId": "a367fdef-3513-495f-b43c-0d2da33169fb",
        "colab": {
          "base_uri": "https://localhost:8080/",
          "height": 763
        }
      },
      "source": [
        "# from pyspark.sql.types import *\n",
        "\n",
        "# Les films\n",
        "# ---------\n",
        "films = spark.read.json(path = DATASET_DIR+\"/movielens/films.json\")\\\n",
        "  .selectExpr(\"nF as movieId\", \"titre as title\", \"g as genres\")\n",
        "films.createOrReplaceTempView(\"films\")\n",
        "\n",
        "films.printSchema()\n",
        "films.show(3)\n",
        "\n",
        "# Les Notes\n",
        "# ---------\n",
        "schema_notes = \"userId INT, movieId LONG, rating FLOAT, year INT, month INT, day INT\"\n",
        "notes = spark.read.option(\"header\",\"true\")\\\n",
        "    .csv(path = DATASET_DIR+\"/movielens/notesAMJ.csv\", schema=schema_notes)\n",
        "notes.createOrReplaceTempView(\"notes\")\n",
        "\n",
        "notes.printSchema()\n",
        "notes.show(3)\n",
        "print(\"Nombre de notes dans notesAMJ :\", str(notes.count()))\n",
        "\n",
        "# une table avec 1,3 million de notes\n",
        "notes1M = spark.read.json(path = DATASET_DIR+\"/movielens/notes1M.json\")\\\n",
        "  .selectExpr(\"nU as userId\", \"nF as movieId\", \"note as rating\", \"annee as year\", \"date\")\n",
        "notes1M.createOrReplaceTempView(\"notes1M\")\n",
        "notes1M.show(3)\n",
        "\n",
        "print(\"Nombre de notes dans notes1M :\", str(notes1M.count()))"
      ],
      "execution_count": 31,
      "outputs": [
        {
          "output_type": "stream",
          "text": [
            "root\n",
            " |-- movieId: long (nullable = true)\n",
            " |-- title: string (nullable = true)\n",
            " |-- genres: array (nullable = true)\n",
            " |    |-- element: string (containsNull = true)\n",
            "\n",
            "+-------+--------------------+--------------------+\n",
            "|movieId|               title|              genres|\n",
            "+-------+--------------------+--------------------+\n",
            "|   8754|Prime of Miss Jea...|             [Drama]|\n",
            "| 111486|Lesson of the Evi...|          [Thriller]|\n",
            "|   1033|Fox and the Hound...|[Animation, Child...|\n",
            "+-------+--------------------+--------------------+\n",
            "only showing top 3 rows\n",
            "\n",
            "root\n",
            " |-- userId: integer (nullable = true)\n",
            " |-- movieId: long (nullable = true)\n",
            " |-- rating: float (nullable = true)\n",
            " |-- year: integer (nullable = true)\n",
            " |-- month: integer (nullable = true)\n",
            " |-- day: integer (nullable = true)\n",
            "\n",
            "+------+-------+------+----+-----+---+\n",
            "|userId|movieId|rating|year|month|day|\n",
            "+------+-------+------+----+-----+---+\n",
            "|   175|     48|   3.0|2003|    5| 14|\n",
            "|   461|   2001|   3.0|2004|    8|  8|\n",
            "|   547|  89881|   4.0|2011|   10|  8|\n",
            "+------+-------+------+----+-----+---+\n",
            "only showing top 3 rows\n",
            "\n",
            "Nombre de notes dans notesAMJ : 100004\n",
            "+------+-------+------+----+----------+\n",
            "|userId|movieId|rating|year|      date|\n",
            "+------+-------+------+----+----------+\n",
            "|     1|   2959|   4.0|2015|1425941601|\n",
            "|     1|  69844|   5.0|2015|1425942139|\n",
            "|     1|  73017|   5.0|2015|1425942699|\n",
            "+------+-------+------+----+----------+\n",
            "only showing top 3 rows\n",
            "\n",
            "Nombre de notes dans notes1M : 1301573\n"
          ],
          "name": "stdout"
        }
      ]
    },
    {
      "cell_type": "code",
      "metadata": {
        "id": "g-TlVR2Pyk_S",
        "colab_type": "code",
        "outputId": "bf1effe6-73a3-4332-e173-6f07b07db4b2",
        "colab": {
          "base_uri": "https://localhost:8080/",
          "height": 35
        }
      },
      "source": [
        "print(\"Nombre de notes dans notesAMJ :\", str(notes.count()))"
      ],
      "execution_count": 32,
      "outputs": [
        {
          "output_type": "stream",
          "text": [
            "Nombre de notes dans notesAMJ : 100004\n"
          ],
          "name": "stdout"
        }
      ]
    },
    {
      "cell_type": "code",
      "metadata": {
        "id": "r5dCT-0kxUhL",
        "colab_type": "code",
        "outputId": "625d0ee0-bd6f-4401-bbfa-bf58106c6041",
        "colab": {
          "base_uri": "https://localhost:8080/",
          "height": 208
        }
      },
      "source": [
        "#Simple check\n",
        "notes.filter((notes['userId']==175) & (notes['movieId']==48)).show(4)\n",
        "notes1M.filter((notes1M['userId']==175) & (notes1M['movieId']==48)).show(4)"
      ],
      "execution_count": 33,
      "outputs": [
        {
          "output_type": "stream",
          "text": [
            "+------+-------+------+----+-----+---+\n",
            "|userId|movieId|rating|year|month|day|\n",
            "+------+-------+------+----+-----+---+\n",
            "|   175|     48|   3.0|2003|    5| 14|\n",
            "+------+-------+------+----+-----+---+\n",
            "\n",
            "+------+-------+------+----+----+\n",
            "|userId|movieId|rating|year|date|\n",
            "+------+-------+------+----+----+\n",
            "+------+-------+------+----+----+\n",
            "\n"
          ],
          "name": "stdout"
        }
      ]
    },
    {
      "cell_type": "markdown",
      "metadata": {
        "id": "SAoY2fovqJnl",
        "colab_type": "text"
      },
      "source": [
        "A partir du fichiers notesAMJ.csv de Movielens, on veut obtenir la similarité entre toutes les paires d'utilisateurs ayant une similarité non nulle. On considère qu'un utilisateur a vu les films qu'il a noté et que la similarité se base sur les films vus en commun par deux utilisateurs : la similarité entre u1 et u2 est le nombre de films vus par u1 ET u2 divisé par le nombre de films vus par u1 OU u2. Par exemple si u1 a vu f1, f3 et f4 et u2 a vu f3, f4, f5 et f6 alors la similarité est 2/5 = 0,4."
      ]
    },
    {
      "cell_type": "markdown",
      "metadata": {
        "id": "I8l4EKYZzTGY",
        "colab_type": "text"
      },
      "source": [
        "L'objectif de cette tâche est de comparer deux méthodes de partitionnement des données, par film ou par utilisateur, et d'expliquer les avantages et inconvénients de chaque méthode pour calculer la similarité entre utilisateurs."
      ]
    },
    {
      "cell_type": "code",
      "metadata": {
        "id": "OisYfrcJ29Wx",
        "colab_type": "code",
        "colab": {}
      },
      "source": [
        "# FilmsParUser = spark.sql(\"\"\"SELECT nU as user, collect_list(nF) as films FROM ratings GROUP BY nU\"\"\")\n",
        "# FilmsParUser.repartition(12, \"user\").persist()\n",
        "# FilmsParUser.show(10)\n",
        "# FilmsParUser.explain()\n",
        "# print(FilmsParUser.rdd.getNumPartitions())"
      ],
      "execution_count": 0,
      "outputs": []
    },
    {
      "cell_type": "markdown",
      "metadata": {
        "id": "Wtqjarsy6UoP",
        "colab_type": "text"
      },
      "source": [
        "## Cas1\n"
      ]
    },
    {
      "cell_type": "markdown",
      "metadata": {
        "id": "gaTOomgo6TtU",
        "colab_type": "text"
      },
      "source": [
        "Cas n°1 : Construire le dataset FilmsParUser(user, films) où user est un numéro d'utilisateur et films et la liste des numéros de films notés par cet utilisateur. Partitionner les données par utilisateur. En supposant que chaque partition est stockée sur une machine différente, expliquer quelles données sont transférées lors du calcul de la similarité entre les paires d'utilisateurs afin d'obtenir le dataset Paire(user1, user2, sim). Expliquer si le calcul s'effectue de la même façon avec un dataset plus grand par exemple avec le fichier ratings2M.zip contenant plus de 270 000 utilisateurs)."
      ]
    },
    {
      "cell_type": "markdown",
      "metadata": {
        "id": "gl-1OA_Z6eXy",
        "colab_type": "text"
      },
      "source": [
        "### FilmsParUser(user, films): "
      ]
    },
    {
      "cell_type": "markdown",
      "metadata": {
        "id": "Om5iojyJ6j4x",
        "colab_type": "text"
      },
      "source": [
        "Construire le dataset FilmsParUser(user, films) où user est un numéro d'utilisateur et films et la liste des numéros de films notés par cet utilisateur."
      ]
    },
    {
      "cell_type": "code",
      "metadata": {
        "id": "Du-I2GaC5TyV",
        "colab_type": "code",
        "colab": {}
      },
      "source": [
        "# userMovies = spark.sql(\"\"\"\n",
        "# SELECT userId, collect_list(movieId) as movieList\n",
        "# FROM Notes\n",
        "# GROUP BY userId\n",
        "# \"\"\")\n",
        "# userMovies.show(4)"
      ],
      "execution_count": 0,
      "outputs": []
    },
    {
      "cell_type": "code",
      "metadata": {
        "id": "RdZGNNeH529m",
        "colab_type": "code",
        "outputId": "7408b906-a8cc-45fa-fcc7-cf3d20ace7a9",
        "colab": {
          "base_uri": "https://localhost:8080/",
          "height": 173
        }
      },
      "source": [
        "notes.show(3)"
      ],
      "execution_count": 36,
      "outputs": [
        {
          "output_type": "stream",
          "text": [
            "+------+-------+------+----+-----+---+\n",
            "|userId|movieId|rating|year|month|day|\n",
            "+------+-------+------+----+-----+---+\n",
            "|   175|     48|   3.0|2003|    5| 14|\n",
            "|   461|   2001|   3.0|2004|    8|  8|\n",
            "|   547|  89881|   4.0|2011|   10|  8|\n",
            "+------+-------+------+----+-----+---+\n",
            "only showing top 3 rows\n",
            "\n"
          ],
          "name": "stdout"
        }
      ]
    },
    {
      "cell_type": "code",
      "metadata": {
        "id": "QN9V2-Hg5zj7",
        "colab_type": "code",
        "outputId": "280b3366-edc7-4b80-de54-417565d4e365",
        "colab": {
          "base_uri": "https://localhost:8080/",
          "height": 225
        }
      },
      "source": [
        "FilmsParUser=notes.groupBy('userId').agg(collect_set('movieId').alias('films'))\n",
        "FilmsParUser.show(5)\n",
        "FilmsParUser.count()"
      ],
      "execution_count": 37,
      "outputs": [
        {
          "output_type": "stream",
          "text": [
            "+------+--------------------+\n",
            "|userId|               films|\n",
            "+------+--------------------+\n",
            "|    12|[1220, 3885, 2259...|\n",
            "|    13|[110, 356, 54286,...|\n",
            "|    14|[2716, 3988, 3175...|\n",
            "|    18|[640, 81, 9, 52, ...|\n",
            "|    25|[1358, 494, 1409,...|\n",
            "+------+--------------------+\n",
            "only showing top 5 rows\n",
            "\n"
          ],
          "name": "stdout"
        },
        {
          "output_type": "execute_result",
          "data": {
            "text/plain": [
              "671"
            ]
          },
          "metadata": {
            "tags": []
          },
          "execution_count": 37
        }
      ]
    },
    {
      "cell_type": "markdown",
      "metadata": {
        "id": "QawhcHDE6qBy",
        "colab_type": "text"
      },
      "source": [
        "### Partitionner les données par utilisateur."
      ]
    },
    {
      "cell_type": "code",
      "metadata": {
        "id": "CDX-KMhv6v0Q",
        "colab_type": "code",
        "colab": {}
      },
      "source": [
        "FilmsParUserPersistantesParId= FilmsParUser.repartition(4,'userId').persist()"
      ],
      "execution_count": 0,
      "outputs": []
    },
    {
      "cell_type": "code",
      "metadata": {
        "id": "8KTexQne8I5f",
        "colab_type": "code",
        "outputId": "503b382d-ec9c-4fa3-b667-2528e1736911",
        "colab": {
          "base_uri": "https://localhost:8080/",
          "height": 471
        }
      },
      "source": [
        "showPartitions(FilmsParUserPersistantesParId)"
      ],
      "execution_count": 39,
      "outputs": [
        {
          "output_type": "stream",
          "text": [
            "cardinalité des partitions: [164, 176, 163, 168]\n",
            "Partition 0 :\n",
            "Row(userId=12, films=[1220, 3885, 2259, 1374, 3827, 3298, 3146, 3879, 1295, 3829, 2355, 737, 3148, 3873, 3831, 608, 2959, 3773, 6184, 529, 1639, 3825, 3869, 1387, 1235, 3798, 3871, 1077, 3865, 3844, 3794, 3176, 673, 3809, 3861, 3324, 3863, 538, 3886, 736, 1215, 3799, 2668, 3474, 3801, 3780, 253, 2460, 1032, 3841, 3791, 3770, 2529, 3864, 1230, 3793, 3408, 1028, 1732, 3179, 1197])\n",
            "Row(userId=13, films=[110, 356, 54286, 1, 590, 531, 277, 3624, 1265, 2761, 3147, 2355, 7502, 2762, 47, 527, 4310, 88125, 4993, 3396, 58559, 296, 3114, 64614, 480, 81834, 4886, 4306, 524, 1918, 2804, 93363, 4321, 2572, 1259, 69757, 6377, 1027, 2908, 3255, 919, 318, 78499, 362, 4878, 587, 7361, 4718, 5989, 914, 2918, 2571, 1961])\n",
            "Row(userId=14, films=[2716, 3988, 3175, 2724, 2355, 2683, 3751, 2720, 2394, 2038, 594, 3157, 1196, 3114, 1721, 3354, 3623, 2861, 2628, 3986])\n",
            "Row(userId=18, films=[640, 81, 9, 52, 785, 743, 74, 786, 765, 32, 736, 25, 76, 707, 788, 708, 628, 832, 608, 100, 376, 805, 733, 653, 14, 95, 748, 494, 880, 648, 17, 140, 780, 852, 18, 141, 802, 62, 92, 85, 818, 5, 86, 260, 6, 849, 36, 79, 7, 719, 762])\n",
            "Row(userId=25, films=[1358, 494, 1409, 778, 663, 32, 104, 780, 786, 3, 1483, 802, 707, 788, 1354, 1405, 1391, 78, 832, 608, 1356, 1073, 260, 784, 653, 842])\n",
            "Partition 1 :\n",
            "Row(userId=6, films=[1250, 2890, 4975, 7153, 4641, 2761, 8874, 1876, 3300, 2001, 1747, 8368, 3751, 2502, 173, 1639, 5952, 3114, 2657, 1285, 1358, 2019, 596, 2528, 2529, 2072, 903, 2174, 1687, 111, 293, 1259, 3052, 8636, 7090, 1276, 1204, 158, 2692, 8784, 1909, 7361, 2723, 2571])\n",
            "Row(userId=9, films=[1, 2391, 1680, 2028, 2762, 534, 47, 26, 527, 608, 2125, 2278, 2249, 1059, 733, 1721, 2628, 2302, 1358, 2273, 2396, 1541, 1584, 2427, 17, 1411, 497, 2501, 2857, 2268, 2291, 593, 318, 1682, 1784, 2140, 1704, 1357, 2539, 36, 2294, 515, 2490, 1177, 2571])\n",
            "Row(userId=15, films=[47999, 356, 306, 6296, 5809, 2594, 104841, 3421, 5528, 5478, 1370, 116799, 3577, 8949, 1320, 33493, 2990, 296, 6155, 1089, 6380, 6867, 471, 2759, 908, 152081, 2709, 858, 371, 4023, 3536, 3892, 6180, 1635, 7444, 3386, 3742, 3255, 97923, 6957, 130452, 1485, 3286, 90600, 86898, 1254, 1610, 3461, 1204, 1073, 6932, 72998, 2387, 4238, 93840, 4675, 95510, 923, 4007, 99112, 3988, 128360, 5171, 3320, 81591, 86882, 1288, 97938, 7147, 3089, 8948, 5377, 3039, 4890, 2502, 8361, 1088, 53972, 551, 97913, 14, 2302, 4022, 159690, 1228, 1584, 3435, 91542, 170, 39, 111360, 58295, 1303, 62434, 127136, 7162, 3104, 1203, 3004, 101112, 8376, 2467, 87930, 2336, 159755, 44195, 38061, 2542, 335, 4343, 2005, 5170, 1955, 235, 104, 7327, 5120, 46723, 3219, 100581, 116797, 82854, 33004, 48780, 1218, 8360, 104879, 109374, 68954, 44004, 84374, 2351, 500, 2707, 5872, 2657, 4021, 27020, 300, 2020, 70293, 5541, 1483, 5391, 1333, 60126, 3134, 1283, 4367, 6218, 78499, 106920, 4623, 434, 2722, 8581, 4036, 3986, 3499, 115713, 122886, 3755, 145935, 106489, 37729, 6870, 3168, 86911, 149406, 6820, 1754, 1267, 2987, 1136, 1217, 1573, 5225, 4738, 1036, 101076, 4638, 54001, 349, 96737, 2150, 1663, 100745, 2100, 117529, 96150, 3639, 1251, 8961, 4903, 3052, 1201, 94018, 3489, 7010, 90266, 2952, 1101, 44555, 107406, 6373, 32587, 2134, 4066, 364, 233, 1953, 52, 91505, 2340, 2, 1753, 1266, 99811, 61323, 139644, 51662, 8464, 36529, 2505, 2018, 6157, 4306, 2455, 1968, 5620, 198, 102445, 17, 79702, 77364, 3182, 109487, 5339, 1281, 60074, 3082, 1231, 7090, 67734, 4571, 1356, 105504, 5008, 3157, 8529, 3984, 2133, 232, 158238, 5991, 5504, 82, 1883, 32, 1396, 27660, 108188, 111759, 2710, 149354, 3147, 6537, 42718, 3272, 8644, 2248, 3999, 784, 3949, 5669, 3462, 247, 3362, 134130, 3181, 1280, 1717, 122924, 7008, 130634, 96610, 7445, 137857, 4701, 2313, 899, 2700, 6271, 4014, 4370, 1676, 2288, 95105, 1882, 68791, 66097, 8974, 90866, 7123, 1214, 3552, 7560, 5222, 8874, 4816, 52328, 113378, 2915, 2428, 2378, 527, 93831, 4666, 6873, 2278, 3998, 30749, 106782, 3948, 733, 377, 246, 159972, 5618, 196, 114180, 5568, 2353, 3717, 54881, 2303, 1816, 3617, 68319, 49278, 98154, 5418, 60072, 139757, 4881, 3030, 1179, 4700, 1079, 592, 4731, 2568, 4369, 3882, 85774, 5989, 161, 1831, 7153, 1244, 60037, 136020, 40815, 73344, 1500, 5071, 48394, 6385, 2683, 832, 913, 6641, 57368, 116161, 3897, 74458, 145, 95, 110102, 3747, 5954, 79293, 3210, 138036, 3566, 8582, 3160, 1178, 1615, 1484, 3285, 7293, 1334, 44788, 2648, 34334, 2161, 2598, 76293, 260, 159093, 2011, 160, 1961, 110, 4037, 2186, 466, 4168, 3987, 1649, 67665, 7458, 1680, 3300, 1449, 101895, 2763, 912, 8622, 2713, 78209, 4027, 4383, 3896, 112183, 3977, 2126, 1639, 80185, 6003, 1945, 94, 4639, 76077, 1895, 44, 5903, 4052, 5416, 71838, 7573, 80862, 1127, 5266, 122902, 69481, 5135, 71282, 6936, 4679, 30812, 2291, 440, 81845, 6299, 3730, 2366, 4167, 103249, 26729, 5481, 5968, 1779, 45720, 1729, 102125, 4844, 2993, 4713, 1092, 73017, 6464, 88356, 911, 2406, 6283, 2581, 88125, 680, 6539, 95167, 89745, 4232, 5952, 53464, 66596, 3745, 5902, 480, 100083, 111364, 1307, 44761, 3108, 121231, 1694, 1207, 1513, 103810, 6885, 6754, 926, 4447, 3083, 103042, 745, 44199, 88140, 3910, 208, 45950, 3273, 1909, 1859, 87222, 7487, 157296, 3785, 3298, 77561, 1041, 2761, 910, 59784, 3148, 1297, 4381, 156609, 2124, 223, 160080, 137337, 3825, 2686, 87306, 429, 5364, 81834, 122900, 1562, 6934, 4727, 7371, 82461, 2726, 4446, 99114, 112552, 3990, 288, 157, 6503, 6016, 594, 107, 2395, 3578, 4015, 102123, 112171, 5816, 5279, 35957, 1527, 113741, 3328, 2841, 4642, 2791, 65642, 1246, 628, 2560, 2916, 89337, 172, 2329, 60766, 1792, 5444, 22, 5313, 3543, 109848, 37386, 3006, 8865, 3262, 71535, 924, 3618, 6783, 5419, 3081, 1230, 1361, 93510, 6552, 95311, 724, 6502, 593, 237, 136864, 543, 55765, 64839, 6, 2294, 5378, 3527, 1807, 5459, 83293, 1270, 3477, 70336, 45517, 3783, 70286, 3246, 3683, 1476, 7254, 3146, 156607, 4410, 708, 108945, 8368, 4310, 3823, 608, 100517, 4079, 21, 1385, 81782, 89492, 94864, 56782, 3361, 37741, 1997, 3798, 3261, 1897, 48516, 48385, 6863, 74649, 2624, 4344, 1260, 36517, 2574, 110730, 120466, 2699, 5, 45666, 442, 81847, 2243, 3476, 1625, 7484, 132961, 3863, 6947, 2012, 8798, 4896, 55442, 70, 51540, 1690, 27904, 113348, 953, 46970, 59615, 1259, 111622, 3060, 1209, 185, 541, 55276, 5507, 68358, 1805, 441, 80126, 90870, 3556, 3019, 136562, 100556, 76093, 3275, 4995, 1293, 3225, 31696, 1243, 62374, 3175, 3044, 1193, 160563, 90439, 44597, 8366, 4308, 1093, 102903, 2407, 556, 6059, 2357, 150, 19, 4158, 5878, 3671, 6365, 5959, 50, 100365, 3571, 2076, 225, 1589, 6961, 5110, 7317, 175, 79242, 5060, 1845, 1358, 7348, 5010, 8531, 1258, 1208, 2572, 6711, 802, 3786, 83827, 4223, 4448, 1704, 2060, 3911, 3861, 2010, 5662, 68157, 94777, 81158, 5075, 1860, 94677, 3174, 836, 4975, 786, 46578, 1223, 736, 4388, 4744, 555, 87869, 2762, 2712, 87232, 64620, 355, 1719, 89470, 2025, 3826, 104272, 50851, 54503, 90603, 54372, 160271, 54272, 2702, 851, 95875, 8917, 71462, 3008, 4728, 4678, 59900, 2908, 48082, 114635, 8636, 2371, 520, 68793, 91842, 2321, 339, 3504, 1653, 2140, 5792, 6975, 56775, 4718, 5074, 1503, 6875, 3173, 1272, 785, 1222, 3429, 2405, 8264, 2355, 97866, 78469, 4643, 47610, 454, 5957, 535, 4056, 3569, 26131, 4006, 1131, 123, 7346, 106072, 115502, 100032, 5445, 4958, 3107, 1387, 1206, 1287, 3007, 800, 4321, 750, 61394, 4271, 91535, 7792, 163, 6378, 103253, 4121, 3634, 152079, 95443, 4246, 1552, 115617, 1502, 7361, 6874, 60295, 145839, 4973, 54286, 6287, 2585, 1221, 111228, 4873, 4386, 6593, 88129, 80906, 4823, 1171, 72378, 353, 4361, 1617, 253, 6989, 58559, 1923, 2054, 111443, 1517, 109673, 143385, 6708, 799, 4451, 2600, 4888, 1186, 96079, 2369, 97393, 6377, 6327, 2269, 3989, 146656, 2575, 318, 100714, 66203, 914, 90647, 6773, 1220, 8930, 2890, 69524, 1120, 2840, 6979, 5128, 4641, 102880, 6442, 1020, 2871, 129937, 108689, 2334, 483, 2640, 252, 1616, 122904, 3854, 2003, 5218, 4029, 3623, 8914, 142507, 3005, 5293, 1235, 748, 2905, 92507, 57640, 648, 2318, 111, 55820, 2268, 152077, 45722, 904, 93721, 11, 367, 45672, 4019, 317, 3969, 3707, 5995, 4144, 70697, 5508, 3788, 5945, 5458, 36, 72011, 1219, 3020, 5308, 1250, 7028, 6978, 1200, 663, 74795, 2333, 788, 8011, 70862, 72226, 5673, 110127, 1921, 1952, 101, 3185, 68324, 1284, 6787, 7143, 1721, 1234, 4886, 46976, 2985, 778, 647, 90249, 1084, 4299, 597, 903, 91869, 98961, 803, 316, 2167, 3787, 1580, 216, 3250, 87430, 1836, 107348, 88744, 3150, 1380, 1249, 762, 4901, 107910, 6440, 119141, 48043, 5026, 2819, 481, 2769, 4489, 431, 2282, 2232, 3952, 66934, 44191, 91653, 3852, 7373, 1464, 96488, 7323, 3265, 3752, 5066, 5291, 1233, 1183, 3390, 3471, 69406, 2447, 2803, 4654, 6942, 86190, 56174, 69306, 58025, 4017, 3967, 265, 215, 7925, 7438, 165, 94833, 34, 1529, 108190, 5893, 3555, 3505, 79132, 1735, 1248, 8958, 6620, 122892, 2918, 1198, 1148, 4719, 2949, 92420, 106916, 4082, 2231, 380, 2718, 61024, 2000, 149, 63131, 3801, 1950, 586, 3751, 31685, 3033, 90428, 1263, 2983, 108932, 1213, 1569, 112940, 59519, 4734, 4247, 2396, 69436, 4372, 2115, 4322, 214, 98809, 3735, 164, 1834, 3635, 1784, 66130, 7156, 83270, 1247, 98122, 8957, 60040, 68237, 121171, 3535, 160567, 1197, 1147, 132046, 6650, 1097, 135567, 135436, 4974, 916, 101362, 97304, 2717, 866, 329, 6188, 2617, 96667, 157667, 3800, 34072, 120799, 1393, 3113, 134368, 1262, 8972, 48774, 113345, 5220, 52245, 109187, 33154, 494, 2701, 116897, 103228, 101864, 931, 8641, 6303, 41997, 3915, 344, 2064, 6203, 40583, 2501, 2145, 4302, 1964, 1914, 104211, 5791, 3534, 5254, 1196, 122890, 3484, 2997, 34162, 2947, 3253, 2716, 509, 2797, 4030, 84152, 112623, 5650, 7451, 5956, 67087, 47, 95558, 91500, 55269, 4055, 51080, 4005, 46972, 5319, 1748, 117533, 5269, 3418, 1211, 84954, 44665, 5219, 2881, 674, 3318, 574, 112788, 6433, 524, 474, 2194, 4270, 4351, 84392, 34542, 162, 66665, 112, 140928, 549, 62, 3633, 1732, 45186, 4020, 1682, 160565, 1276, 60069, 140110, 7004, 122920, 27846, 56367, 1176, 55830, 1095, 4210, 508, 79185, 3152, 110771, 2028, 4235, 132796, 91630, 5449, 1391, 134853, 117176, 1747, 8970, 106332, 3598, 1210, 4085, 5349, 1291, 39292, 5299, 3448, 1597, 5524, 1466, 3317, 7325, 3267, 118696, 90531, 4450, 2599, 342, 112556, 292, 2580, 1962, 3763, 1912, 1556, 1862, 35836, 3176, 5464, 5283, 90746, 7003, 1094, 3301, 6953, 109687, 8623, 994, 2795, 457, 3101, 4902, 357, 83613, 85414, 307, 135133, 176, 5679, 2108, 34150, 2058, 382, 140711, 4034, 140174, 3010, 3316, 1546, 3266, 1059, 8638, 2729, 158528, 59315, 6331, 909, 3993, 80463, 94959, 6281, 3943, 372, 2579, 4380, 10, 79695, 4149, 4018, 152057, 3968, 3481, 8984, 3512, 3868, 33166, 587, 8784, 5909, 1199, 3000, 4720, 95199, 3827, 135569, 125, 2413, 87520, 562, 1876, 25, 34405, 112370, 55247, 4033, 1339, 89090, 1289, 99007, 1645, 3983, 86833, 2959, 1189, 63859, 2678, 7173, 2628, 1264, 27478, 6586, 57669, 2041, 2528, 110553, 93363, 2478, 115569, 26810, 4148, 1810, 87485, 81932, 60684, 49272, 7132, 87304, 7569, 1304, 79057, 1173, 1479, 5000, 161155, 94015, 99468, 64957, 91658, 58998, 2006, 5577, 34048, 1956, 5477, 3626, 5346, 1644, 112138, 5296, 230, 79428, 122882, 180, 1544, 81229, 2858, 5502, 5015, 67997, 6816, 1394, 116823, 3114, 149352, 139385, 370, 4378, 2427, 59369, 52973, 34319, 3510, 130576, 2973, 69526, 131013, 5617, 50872, 119145, 27773, 2692, 485, 922, 435, 3129, 2723, 3956, 30707, 2105, 610, 8807, 4262, 1047, 2311, 3981, 134393, 111781, 49286, 86781, 4658, 71211, 4914, 1212, 89840, 6534, 53996, 1889, 5410, 7698, 3996, 1302, 140267, 1252, 1608, 26152, 1689, 3409, 45499, 8781, 4723, 665, 52722, 1377, 139855, 4979, 3128, 4848, 78574, 2541, 67193, 153, 2360, 93326, 590, 1954, 4161, 2391, 540, 3624, 1904, 4011, 2160, 1673, 6037, 5500, 5013, 130490, 8665, 4963, 5400, 2706, 1342, 76738, 76251, 2912, 4226, 2019, 157200, 6333, 780, 293, 100383, 106111, 94780, 3408, 193, 27821, 1994, 3358, 5515, 104241, 6879, 83349, 1407, 920, 3077, 4878, 2671, 59126, 2490, 2571, 720, 155820, 589, 539, 3979, 1722, 4010, 308, 142488, 5630, 6944, 1035, 77455, 4993, 38886, 56563, 8645, 80489, 804, 2605, 1060, 2424, 4225, 108729, 53894, 2324, 3638, 99149, 3994, 45728, 373, 68159, 4025, 3538, 2174, 26587, 8910, 33679, 81191, 45447, 3794, 3307, 1100, 65802, 86644, 4621, 2770, 919, 7265, 1225, 132480, 46530, 86332, 2539, 7034, 6547, 2976, 112852, 103372, 2439, 588, 74851, 4546, 1, 61132, 159858, 2289, 30810, 1752, 53322, 33794, 1265, 1215, 115149, 91529, 3728, 52604, 1827, 71464, 7199, 4992, 1290, 1777, 5298, 1240, 8950, 71264, 6025, 1917, 2273, 102800, 16, 62511, 30825, 5388, 322, 3893, 88950, 3793, 104726, 51255, 3256, 1405, 5463, 111362, 5363, 8528, 94478, 88163, 4776, 69122, 231, 2925, 63082, 4239, 148626, 5553, 63113])\n",
            "Row(userId=16, films=[4995, 2797, 4772, 4823, 527, 4738, 2858, 5349, 2278, 2706, 4231, 50, 7346, 3623, 5445, 750, 6711, 337, 318, 6016, 1653, 1704, 4246, 2539, 4014, 6874, 4718, 1961, 2012])\n",
            "Row(userId=17, films=[4037, 356, 1809, 5809, 2594, 714, 1570, 6971, 2892, 2028, 912, 3598, 8622, 1210, 4027, 5349, 7069, 4404, 3977, 296, 5299, 1241, 1597, 1466, 1089, 3267, 908, 5445, 5903, 858, 1206, 5316, 1237, 5266, 1077, 3386, 3742, 7792, 7771, 6378, 5464, 7003, 4246, 8783, 4725, 3730, 27266, 7361, 6874, 965, 923, 4973, 6774, 6287, 1729, 1221, 6643, 307, 5679, 7022, 1092, 5608, 4034, 7982, 2204, 3018, 680, 7068, 2023, 2502, 1617, 31410, 1923, 5952, 1517, 480, 5017, 6708, 6281, 2600, 2579, 7116, 3435, 170, 8228, 1232, 318, 2467, 4645, 27317, 29, 1220, 7587, 1199, 5686, 235, 3785, 6979, 910, 8620, 25, 33004, 1645, 1218, 8360, 2959, 223, 194, 5574, 2707, 7223, 2657, 8914, 1235, 7115, 7371, 111, 5949, 904, 2726, 8983, 1333, 3134, 6197, 1173, 2118, 288, 7163, 6503, 6016, 3788, 942, 34437, 36, 3578, 2672, 6214, 1627, 34048, 3328, 3676, 482, 2791, 1267, 1246, 1136, 2916, 1921, 1036, 172, 2858, 2329, 5502, 5015, 928, 1721, 4886, 778, 8865, 6993, 5867, 3262, 1411, 924, 903, 1251, 1230, 2167, 2117, 31952, 2952, 6502, 2067, 1580, 2973, 593, 27773, 6, 2692, 8195, 6323, 922, 32587, 1270, 6294, 1249, 4262, 7254, 5853, 431, 1245, 5782, 2232, 7981, 1674, 6538, 608, 1464, 4914, 1212, 348, 6584, 1997, 33683, 4306, 7013, 2455, 1104, 7827, 198, 27834, 5062, 3996, 1252, 7090, 2066, 7438, 8781, 5893, 8600, 1348, 492, 1298, 6322, 4848, 3476, 1248, 1625, 8958, 2918, 8798, 2012, 3863, 590, 1396, 32, 2710, 4896, 3147, 1673, 2160, 3503, 33615, 8665, 8644, 4963, 1263, 2606, 8973, 5669, 3949, 1213, 247, 2396, 4226, 293, 3408, 7445, 185, 541, 3735, 1884, 6858, 1834, 27721, 8957, 3535, 6242, 4878, 8928, 2490, 27788, 8370, 2571, 5105, 4995, 4437, 866, 7123, 1193, 2159, 7044, 8874, 5630, 5072, 6059, 527, 6365, 4993, 7700, 2278, 50, 377, 2076, 2353, 5060, 4552, 2324, 931, 3994, 6790, 1258, 5418, 2551, 6711, 31878, 6530, 5137, 1079, 6757, 8477, 2110, 1704, 7084, 5254, 1175, 2539, 2997, 2010, 3253, 5054, 4546, 5881, 4975, 7153, 6666, 1244, 1265, 736, 555, 2762, 47, 2712, 6385, 7728, 2683, 27604, 913, 1748, 1240, 8950, 8690, 930, 6383, 5388, 3160, 2021, 6987, 6777, 1732, 2677, 3504, 1653, 1255, 7135, 260, 7991, 6140, 1095, 6975, 4239, 2011, 4210])\n",
            "Partition 2 :\n",
            "Row(userId=2, films=[364, 356, 589, 110, 539, 52, 235, 410, 585, 454, 527, 273, 150, 223, 50, 550, 296, 377, 144, 500, 225, 319, 552, 248, 371, 350, 300, 292, 17, 265, 367, 592, 317, 186, 165, 515, 261, 588, 457, 161, 661, 153, 509, 357, 590, 47, 382, 586, 222, 405, 253, 551, 480, 370, 349, 168, 372, 474, 314, 39, 272, 497, 10, 468, 62, 185, 266, 593, 339, 208, 616, 485, 587, 537, 508, 720])\n",
            "Row(userId=4, films=[610, 356, 1953, 2723, 2105, 3071, 2086, 1222, 2078, 2659, 431, 410, 1674, 2734, 1210, 4006, 2409, 3265, 1291, 3040, 296, 1089, 2788, 3034, 2018, 1387, 858, 1968, 1206, 596, 1918, 2193, 1033, 2143, 1127, 3255, 2087, 440, 2872, 34, 1377, 1356, 2699, 2903, 1073, 442, 1298, 3251, 1858, 1371, 2795, 2918, 1198, 2033, 3101, 153, 590, 1954, 357, 1396, 380, 3016, 2406, 1288, 2000, 3039, 2968, 2248, 2054, 480, 1213, 1307, 1032, 3108, 1257, 2804, 2144, 1259, 2115, 2094, 10, 3060, 1332, 2348, 1282, 185, 541, 3104, 1994, 1805, 2263, 3208, 2467, 616, 1197, 1278, 1372, 1097, 1220, 589, 2034, 2005, 1374, 1243, 1214, 329, 910, 2109, 2080, 3169, 2640, 2124, 173, 2003, 2403, 1285, 1031, 2628, 2020, 2986, 1258, 1208, 2551, 2064, 3263, 2174, 2268, 2014, 367, 1079, 2770, 919, 2110, 2822, 594, 1225, 1196, 2141, 434, 1125, 2091, 1219, 588, 2114, 2716, 2085, 1200, 2797, 2289, 1344, 2616, 1265, 1011, 1194, 2791, 2987, 1136, 2102, 2081, 2683, 2916, 1544, 913, 1036, 2002, 1240, 2096, 2046, 2991, 1030, 2454, 1967, 349, 1917, 1663, 1388, 2100, 3210, 2194, 2021, 2877, 903, 141, 1230, 112, 1028, 2371, 1376, 1334, 1580, 2902, 2161, 2140, 289, 1022, 260, 464, 435, 1380, 1270, 1016, 2867, 364, 1961])\n",
            "Row(userId=5, films=[1961, 356, 364, 4995, 277, 104, 1193, 2355, 4308, 1035, 8622, 150, 5349, 1393, 30749, 5299, 3948, 500, 8464, 377, 30793, 2424, 1997, 4306, 858, 1968, 6942, 48385, 4025, 344, 6711, 5266, 33679, 1485, 367, 35836, 3176, 5464, 2770, 919, 6218, 440, 5995, 41566, 2997, 34162, 588, 2918, 3753, 5816, 40819, 1221, 5679, 3, 2762, 788, 2081, 586, 2683, 1777, 1544, 2023, 4963, 2502, 8644, 2706, 1923, 3897, 3114, 5669, 1721, 4022, 1307, 2273, 597, 41569, 903, 39, 141, 6377, 4018, 3408, 8636, 4447, 6502, 1682, 1784, 1022, 8376, 1247, 33166, 6373, 595, 2294, 4014, 231, 4718, 1380, 30707, 2694])\n",
            "Row(userId=10, films=[1220, 2571, 2890, 1200, 2840, 735, 2108, 2841, 1499, 2406, 2995, 1036, 1210, 1240, 1291, 50, 1719, 152, 1923, 1690, 1089, 2881, 1611, 3005, 1459, 1358, 1127, 2826, 344, 2907, 2827, 345, 592, 1101, 318, 1704, 2344, 2539, 1196, 1887, 1197, 3019, 2926, 1198, 2410, 1423])\n",
            "Row(userId=22, films=[356, 4262, 785, 2340, 5026, 2232, 3300, 4643, 8947, 2763, 48, 1391, 8368, 2459, 7373, 31184, 33493, 7454, 4383, 1210, 1291, 4027, 2990, 296, 5349, 3977, 1320, 1089, 2301, 30793, 552, 1641, 5445, 44, 4306, 1997, 5903, 858, 1387, 5266, 3996, 315, 163, 3082, 1608, 3176, 2291, 5464, 7438, 267, 1377, 1356, 2953, 3809, 442, 1625, 1371, 6874, 1198, 457, 8798, 1148, 3355, 153, 32, 1375, 5679, 2710, 4896, 4011, 3147, 7147, 6893, 586, 3751, 70, 2023, 4963, 6539, 2502, 253, 5400, 2431, 1923, 3033, 2402, 5952, 551, 1263, 3999, 784, 480, 4226, 6333, 2115, 6754, 3408, 541, 4701, 1884, 208, 3868, 158, 2700, 8957, 7360, 3535, 4370, 1909, 1372, 2571, 1097, 589, 2542, 2288, 4720, 1374, 31696, 2717, 235, 1722, 1214, 2617, 1876, 5630, 1339, 1645, 3213, 2959, 8360, 6365, 4993, 1799, 173, 6286, 2605, 5872, 2657, 3623, 2701, 1693, 5010, 3994, 6934, 648, 1208, 2174, 3438, 592, 1196, 3578, 2672, 588, 4015, 5989, 3253, 5816, 6541, 2716, 1200, 4975, 1527, 2616, 2006, 7153, 33794, 37729, 1215, 555, 4105, 47, 2762, 2987, 2712, 2081, 7482, 2683, 1544, 1769, 2858, 1240, 8950, 355, 5219, 2881, 3826, 7143, 1721, 4886, 1917, 2985, 3697, 3081, 3793, 8961, 3052, 1201, 3285, 8636, 1376, 1101, 1080, 1580, 593, 1682, 6502, 1255, 260, 4776, 485, 231, 6373, 3527, 5459, 32587, 3354, 1270, 2011, 2723, 4239])\n",
            "Partition 3 :\n",
            "Row(userId=1, films=[2455, 2150, 1953, 2193, 1293, 1287, 31, 1172, 1129, 1339, 1405, 1029, 3671, 2968, 2294, 1343, 1371, 1263, 2105, 1061])\n",
            "Row(userId=3, films=[110, 1271, 356, 48783, 60, 2716, 2513, 866, 7153, 2841, 736, 2028, 2762, 44191, 8622, 527, 2959, 3243, 1210, 2858, 5349, 355, 58559, 296, 377, 3949, 1721, 247, 5669, 50068, 1235, 778, 2702, 27369, 2318, 6377, 3510, 8636, 592, 1884, 593, 267, 318, 1580, 1378, 84236, 595, 1197, 7361, 588, 2694])\n",
            "Row(userId=7, films=[1220, 356, 589, 610, 1097, 110, 539, 31, 1374, 104, 329, 737, 708, 1210, 1291, 21, 377, 500, 1408, 198, 1287, 1302, 671, 40, 1129, 1231, 367, 1079, 592, 1275, 34, 1225, 594, 1073, 1196, 1298, 1125, 1371, 1198, 588, 1148, 1373, 1242, 1, 357, 590, 786, 1375, 380, 736, 1223, 207, 534, 1288, 1136, 1036, 151, 1240, 355, 551, 1394, 480, 1307, 924, 780, 272, 141, 10, 1353, 345, 112, 316, 1405, 541, 1376, 745, 724, 1080, 318, 260, 595, 1197, 333, 1278, 1270, 1372, 364, 720])\n",
            "Row(userId=8, films=[356, 4262, 43556, 2028, 1674, 42007, 33493, 1210, 1291, 296, 5445, 1387, 858, 3996, 8533, 1302, 6378, 5464, 7438, 1552, 282, 1625, 7361, 6874, 1198, 2918, 457, 4973, 32, 4896, 4011, 3147, 4034, 4963, 2502, 1617, 805, 5952, 5669, 2302, 4226, 2804, 1259, 6377, 6879, 318, 33166, 1197, 8784, 2571, 589, 4995, 8874, 1876, 5630, 527, 5064, 2959, 4993, 50, 1393, 44004, 3948, 2353, 1358, 2324, 1258, 40583, 43871, 4019, 2770, 2139, 4448, 1225, 1704, 1196, 34162, 3578, 1219, 5989, 40819, 2716, 2797, 7153, 1265, 33794, 8873, 2841, 6870, 5650, 2791, 2762, 1754, 47, 1500, 628, 1777, 2858, 2329, 7143, 4886, 45, 524, 2100, 2194, 3916, 520, 593, 2423, 543, 260, 5378, 32587, 1270, 1961, 110])\n",
            "Row(userId=11, films=[106487, 80906, 785, 88129, 91548, 104841, 126, 97938, 91529, 2762, 81562, 91500, 3424, 70, 77455, 71211, 50, 80489, 296, 5669, 51084, 1408, 778, 26614, 96861, 1918, 169, 48516, 2042, 96079, 1027, 1201, 58295, 2596, 79132, 6598, 81158, 923])\n"
          ],
          "name": "stdout"
        }
      ]
    },
    {
      "cell_type": "code",
      "metadata": {
        "id": "b_fxfnRd9JSv",
        "colab_type": "code",
        "outputId": "fd56bbcc-23a1-49bd-f1a9-c5f01832787e",
        "colab": {
          "base_uri": "https://localhost:8080/",
          "height": 35
        }
      },
      "source": [
        "showPartitionSize(FilmsParUserPersistantesParId)"
      ],
      "execution_count": 40,
      "outputs": [
        {
          "output_type": "stream",
          "text": [
            "cardinalité des partitions: [164, 176, 163, 168]\n"
          ],
          "name": "stdout"
        }
      ]
    },
    {
      "cell_type": "markdown",
      "metadata": {
        "id": "5nKOPclk78Ix",
        "colab_type": "text"
      },
      "source": [
        "### Fonction de similarité"
      ]
    },
    {
      "cell_type": "code",
      "metadata": {
        "id": "36dRDK_V7oa2",
        "colab_type": "code",
        "colab": {}
      },
      "source": [
        "@udf('float')\n",
        "def sim_jaccard(l1, l2):\n",
        "    set1=set(l1)\n",
        "    set2=set(l2)\n",
        "    l = len(set1.union(set2))\n",
        "    if (l == 0): return 0\n",
        "    return float(len(set1.intersection(set2)))/len(set1.union(set2))"
      ],
      "execution_count": 0,
      "outputs": []
    },
    {
      "cell_type": "code",
      "metadata": {
        "id": "kxeqmvIg8BGW",
        "colab_type": "code",
        "outputId": "1c8ca2e5-2974-4d84-ec94-2bfc02440d51",
        "colab": {
          "base_uri": "https://localhost:8080/",
          "height": 243
        }
      },
      "source": [
        "%%time\n",
        "userMovies1 = FilmsParUserPersistantesParId.selectExpr(\"userId as userId1\", \"films as films1\")\n",
        "userMovies2 = FilmsParUserPersistantesParId.selectExpr(\"userId as userId2\", \"films as films2\")\n",
        "\n",
        "Paire = userMovies1.crossJoin(userMovies2).where(\"films1 > films2\").\\\n",
        "  withColumn(\"sim\", sim_jaccard( userMovies1.films1, userMovies2.films2 )).\\\n",
        "  where(\"sim>0\").\\\n",
        "  select(\"userId1\",\"userId2\",\"sim\")\n",
        "\n",
        "Paire.show(5)"
      ],
      "execution_count": 42,
      "outputs": [
        {
          "output_type": "stream",
          "text": [
            "+-------+-------+------------+\n",
            "|userId1|userId2|         sim|\n",
            "+-------+-------+------------+\n",
            "|     12|     13|0.0088495575|\n",
            "|     12|     18| 0.018181818|\n",
            "|     12|     50| 0.009433962|\n",
            "|     12|     56| 0.015679443|\n",
            "|     12|     67| 0.006134969|\n",
            "+-------+-------+------------+\n",
            "only showing top 5 rows\n",
            "\n",
            "CPU times: user 12.2 ms, sys: 2.37 ms, total: 14.6 ms\n",
            "Wall time: 2.54 s\n"
          ],
          "name": "stdout"
        }
      ]
    },
    {
      "cell_type": "markdown",
      "metadata": {
        "id": "CFIiB4B9cqcS",
        "colab_type": "text"
      },
      "source": [
        "### Explain plan execution"
      ]
    },
    {
      "cell_type": "markdown",
      "metadata": {
        "id": "yQOW32mF7LjM",
        "colab_type": "text"
      },
      "source": [
        "En supposant que chaque partition est stockée sur une machine différente, expliquer quelles données sont transférées lors du calcul de la similarité entre les paires d'utilisateurs afin d'obtenir le dataset Paire(user1, user2, sim)."
      ]
    },
    {
      "cell_type": "code",
      "metadata": {
        "id": "CzXNY3j9AEVQ",
        "colab_type": "code",
        "outputId": "6184e616-316d-430b-c8df-2ae057eafdcd",
        "colab": {
          "base_uri": "https://localhost:8080/",
          "height": 436
        }
      },
      "source": [
        "Paire.explain()"
      ],
      "execution_count": 43,
      "outputs": [
        {
          "output_type": "stream",
          "text": [
            "== Physical Plan ==\n",
            "*(4) Project [userId1#828, userId2#832, pythonUDF0#903 AS sim#841]\n",
            "+- BatchEvalPython [sim_jaccard(films1#829, films2#833)], [userId1#828, films1#829, userId2#832, films2#833, pythonUDF0#903]\n",
            "   +- *(3) Project [userId1#828, films1#829, userId2#832, films2#833]\n",
            "      +- *(3) Filter (pythonUDF0#902 > 0.0)\n",
            "         +- BatchEvalPython [sim_jaccard(films1#829, films2#833)], [userId1#828, films1#829, userId2#832, films2#833, pythonUDF0#902]\n",
            "            +- CartesianProduct (films1#829 > films2#833)\n",
            "               :- *(1) Project [userId#563 AS userId1#828, films#756 AS films1#829]\n",
            "               :  +- *(1) Filter isnotnull(films#756)\n",
            "               :     +- InMemoryTableScan [films#756, userId#563], [isnotnull(films#756)]\n",
            "               :           +- InMemoryRelation [userId#563, films#756], StorageLevel(disk, memory, 1 replicas)\n",
            "               :                 +- ObjectHashAggregate(keys=[userId#563], functions=[collect_set(movieId#564L, 0, 0)])\n",
            "               :                    +- Exchange hashpartitioning(userId#563, 4)\n",
            "               :                       +- ObjectHashAggregate(keys=[userId#563], functions=[partial_collect_set(movieId#564L, 0, 0)])\n",
            "               :                          +- *(1) FileScan csv [userId#563,movieId#564L] Batched: false, Format: CSV, Location: InMemoryFileIndex[file:/content/movielens/notesAMJ.csv], PartitionFilters: [], PushedFilters: [], ReadSchema: struct<userId:int,movieId:bigint>\n",
            "               +- *(2) Project [userId#563 AS userId2#832, films#756 AS films2#833]\n",
            "                  +- *(2) Filter isnotnull(films#756)\n",
            "                     +- InMemoryTableScan [films#756, userId#563], [isnotnull(films#756)]\n",
            "                           +- InMemoryRelation [userId#563, films#756], StorageLevel(disk, memory, 1 replicas)\n",
            "                                 +- ObjectHashAggregate(keys=[userId#563], functions=[collect_set(movieId#564L, 0, 0)])\n",
            "                                    +- Exchange hashpartitioning(userId#563, 4)\n",
            "                                       +- ObjectHashAggregate(keys=[userId#563], functions=[partial_collect_set(movieId#564L, 0, 0)])\n",
            "                                          +- *(1) FileScan csv [userId#563,movieId#564L] Batched: false, Format: CSV, Location: InMemoryFileIndex[file:/content/movielens/notesAMJ.csv], PartitionFilters: [], PushedFilters: [], ReadSchema: struct<userId:int,movieId:bigint>\n"
          ],
          "name": "stdout"
        }
      ]
    },
    {
      "cell_type": "code",
      "metadata": {
        "id": "IM0LA8ZOBbun",
        "colab_type": "code",
        "outputId": "59fef2f2-7935-4597-fc36-3a8b9525172d",
        "colab": {
          "base_uri": "https://localhost:8080/",
          "height": 35
        }
      },
      "source": [
        "m.mesure(Paire)"
      ],
      "execution_count": 44,
      "outputs": [
        {
          "output_type": "stream",
          "text": [
            "job 46 : shuffle = 944 octets, time = 287.0 ms\n"
          ],
          "name": "stdout"
        }
      ]
    },
    {
      "cell_type": "markdown",
      "metadata": {
        "id": "zEN5lzYuQ7Vg",
        "colab_type": "text"
      },
      "source": [
        "#### Explication du plan d'exécution"
      ]
    },
    {
      "cell_type": "markdown",
      "metadata": {
        "id": "TqCjSMC0Q2ui",
        "colab_type": "text"
      },
      "source": [
        "Remarque générale: InMemoryTableScan signifie qu'on accède aux données stockées en mémoire grâce au persist().\n",
        "Tout ce qui est avant InMemoryTableScan explique comment les données ont été mises en mémoire.\n",
        "C'est à partir de cet étape qu'on commence à analyser le plan d'exécution pour la requête en cours.\n",
        "\n",
        "Cas 1:\n",
        "Dans ce cas ou la partitionnement des données en mémoire central se fait pas UerId, il n'y aura pas d'exchange lors des cacluls de la sim.\n",
        "Car dans chaque partition, il y a des userIds distincts,ie ne sont pas partagé entre les partitions.\n",
        "\n",
        "Voici le plan d'exécution de la première table du crossJoin:\n",
        "\n",
        " +- InMemoryTableScan [films#756, userId#563], [isnotnull(films#756)]\n",
        "on accède directement au dataset dans FilmsParUserPersistantesParId\n",
        "\n",
        "- *(1) Project [userId#563 AS userId1#828, films#756 AS films1#829]\n",
        "on projette les champs qui vont être utilisés: userId1 and films1\n",
        "\n",
        "Voici le plan d'exécution de la deuxième table du crossJoin:\n",
        " +- InMemoryTableScan [films#756, userId#563], [isnotnull(films#756)]\n",
        "on accède directement au dataset dans FilmsParUserPersistantesParId\n",
        "\n",
        "+- *(2) Project [userId#563 AS userId2#832, films#756 AS films2#833]\n",
        "on projette les champs qui vont être utilisés: userId2 and films2\n",
        "\n",
        "+- CartesianProduct (films1#829 > films2#833)\n",
        "On calcule le produit cartésien des deux tables avec la condition (films1> films2)\n",
        "\n",
        "+- BatchEvalPython [sim_jaccard(films1#829, films2#833)], [userId1#828, films1#829, userId2#832, films2#833, pythonUDF0#902]\n",
        "Spark va appeler et calculer la fonction sim_jaccard ==> pythonUDF0#902\n",
        "\n",
        "+- *(3) Filter (pythonUDF0#902> 0.0)\n",
        "le filtre sur la sim est appliqué\n",
        "\n",
        "+- *(3) Project [userId1#828, films1#829, userId2#832, films2#833]\n",
        "on ne projette que les champs suivants [userId1#828, films1#829, userId2#832, films2#833] sans la sim\n",
        "\n",
        "+- BatchEvalPython [sim_jaccard(films1#829, films2#833)], [userId1#828, films1#829, userId2#832, films2#833, pythonUDF0#903]\n",
        "La sim est appelée encore une autre fois ==> pythonUDF0#903 (cette pythonUDF est différente de celle d'avant #902)\n",
        "\n",
        "*(4) Project [userId1#828, userId2#832, pythonUDF0#903 AS sim#841]\n",
        "on projette les champs finaux"
      ]
    },
    {
      "cell_type": "markdown",
      "metadata": {
        "id": "4ePPhkrOcwRz",
        "colab_type": "text"
      },
      "source": [
        "### File ratings2M"
      ]
    },
    {
      "cell_type": "markdown",
      "metadata": {
        "id": "hnjx6exA7kEy",
        "colab_type": "text"
      },
      "source": [
        " Expliquer si le calcul s'effectue de la même façon avec un dataset plus grand par exemple avec le fichier ratings2M.zip contenant plus de 270 000 utilisateurs)."
      ]
    },
    {
      "cell_type": "code",
      "metadata": {
        "id": "xQ7hnLEAKOVC",
        "colab_type": "code",
        "colab": {}
      },
      "source": [
        "# dossier = \"movielens\"\n",
        "# fichier = \"ratings2M.zip\"\n",
        "# !wget {PUBLIC_DATASET}/{dossier}/{fichier} -O {DATASET_DIR}/{dossier}/{fichier}"
      ],
      "execution_count": 0,
      "outputs": []
    },
    {
      "cell_type": "code",
      "metadata": {
        "id": "lqu81BRZMx74",
        "colab_type": "code",
        "colab": {}
      },
      "source": [
        "# from pyspark import SparkContext"
      ],
      "execution_count": 0,
      "outputs": []
    },
    {
      "cell_type": "code",
      "metadata": {
        "id": "sruRv2cOMLqB",
        "colab_type": "code",
        "colab": {}
      },
      "source": [
        "# import zipfile\n",
        "# import io\n",
        "\n",
        "# def zip_extract(x):\n",
        "#     in_memory_data = io.BytesIO(x[1])\n",
        "#     file_obj = zipfile.ZipFile(in_memory_data, \"r\")\n",
        "#     files = [i for i in file_obj.namelist()]\n",
        "#     return dict(zip(files, [file_obj.open(file).read() for file in files]))\n",
        "\n",
        "\n",
        "# sc2=spark.sparkContext\n",
        "# zips = sc2.binaryFiles(path='movielens/ratings2M.zip',minPartitions=None)\n",
        "# files_data = zips.map(zip_extract).collect()\n",
        "# type(files_data)"
      ],
      "execution_count": 0,
      "outputs": []
    },
    {
      "cell_type": "code",
      "metadata": {
        "id": "DmO5cFlgXFN3",
        "colab_type": "code",
        "colab": {}
      },
      "source": [
        "ratings2M = spark.read.option('header', True).option('separator', ',') \\\n",
        "    .csv(path = 'ratings2M.csv', schema = 'nU INT, nF LONG, note FLOAT, timestamp LONG')\\\n",
        "    .selectExpr(\"nU as userId\", \"nF as movieId\", \"note as rating\", \"timestamp\")"
      ],
      "execution_count": 0,
      "outputs": []
    },
    {
      "cell_type": "code",
      "metadata": {
        "id": "fFmNe6c3XyCV",
        "colab_type": "code",
        "outputId": "ef3962d9-afc1-4034-818b-8f2ee071432d",
        "colab": {
          "base_uri": "https://localhost:8080/",
          "height": 208
        }
      },
      "source": [
        "ratings2M.show(5)"
      ],
      "execution_count": 49,
      "outputs": [
        {
          "output_type": "stream",
          "text": [
            "+------+-------+------+----------+\n",
            "|userId|movieId|rating| timestamp|\n",
            "+------+-------+------+----------+\n",
            "|     1|    110|   1.0|1425941529|\n",
            "|     1|    147|   4.5|1425942435|\n",
            "|     1|    858|   5.0|1425941523|\n",
            "|     1|   1221|   5.0|1425941546|\n",
            "|     1|   1246|   5.0|1425941556|\n",
            "+------+-------+------+----------+\n",
            "only showing top 5 rows\n",
            "\n"
          ],
          "name": "stdout"
        }
      ]
    },
    {
      "cell_type": "code",
      "metadata": {
        "id": "-GZHGaiVYfQ6",
        "colab_type": "code",
        "outputId": "3f0f001d-dfc0-4cdc-eb55-544268be2e0c",
        "colab": {
          "base_uri": "https://localhost:8080/",
          "height": 225
        }
      },
      "source": [
        "FilmsParUser2M=ratings2M.groupBy('userId').agg(collect_set('movieId').alias('films'))\n",
        "FilmsParUser2M.show(5)\n",
        "\n",
        "FilmsParUser2M.count()"
      ],
      "execution_count": 50,
      "outputs": [
        {
          "output_type": "stream",
          "text": [
            "+------+--------------------+\n",
            "|userId|               films|\n",
            "+------+--------------------+\n",
            "|    12|[356, 2136, 1730,...|\n",
            "|    13|[1965, 3258, 5804...|\n",
            "|    14|[168252, 2959, 31...|\n",
            "|    18|[912, 81, 1193, 1...|\n",
            "|    25|[161, 356, 153, 5...|\n",
            "+------+--------------------+\n",
            "only showing top 5 rows\n",
            "\n"
          ],
          "name": "stdout"
        },
        {
          "output_type": "execute_result",
          "data": {
            "text/plain": [
              "20808"
            ]
          },
          "metadata": {
            "tags": []
          },
          "execution_count": 50
        }
      ]
    },
    {
      "cell_type": "code",
      "metadata": {
        "id": "tEawvoLqYC3i",
        "colab_type": "code",
        "colab": {}
      },
      "source": [
        "ratings2MPersistantesParId= FilmsParUser2M.repartition(4,'userId').persist()"
      ],
      "execution_count": 0,
      "outputs": []
    },
    {
      "cell_type": "code",
      "metadata": {
        "id": "nzqIsCRdXYKG",
        "colab_type": "code",
        "outputId": "6541fb3e-1f7b-4693-c08a-d62d617e3634",
        "colab": {
          "base_uri": "https://localhost:8080/",
          "height": 243
        }
      },
      "source": [
        "%%time\n",
        "userMovies1 = ratings2MPersistantesParId.selectExpr(\"userId as userId1\", \"films as films1\")\n",
        "userMovies2 = ratings2MPersistantesParId.selectExpr(\"userId as userId2\", \"films as films2\")\n",
        "\n",
        "Paire2M = userMovies1.crossJoin(userMovies2).where(\"films1 > films2\").\\\n",
        "  withColumn(\"sim\", sim_jaccard( userMovies1.films1, userMovies2.films2 )).\\\n",
        "  where(\"sim>0\").\\\n",
        "  select(\"userId1\",\"userId2\",\"sim\")\n",
        "\n",
        "\n",
        "Paire2M.show(5)"
      ],
      "execution_count": 52,
      "outputs": [
        {
          "output_type": "stream",
          "text": [
            "+-------+-------+-----------+\n",
            "|userId1|userId2|        sim|\n",
            "+-------+-------+-----------+\n",
            "|     12|     25| 0.02930403|\n",
            "|     12|     46| 0.07643312|\n",
            "|     12|     56|0.115207374|\n",
            "|     12|    126| 0.02097902|\n",
            "|     12|    135|0.003875969|\n",
            "+-------+-------+-----------+\n",
            "only showing top 5 rows\n",
            "\n",
            "CPU times: user 8.16 ms, sys: 318 µs, total: 8.48 ms\n",
            "Wall time: 5.54 s\n"
          ],
          "name": "stdout"
        }
      ]
    },
    {
      "cell_type": "code",
      "metadata": {
        "id": "lDoGcexyYuMH",
        "colab_type": "code",
        "outputId": "6e4dd015-221d-4e77-ffd4-485f6cfe81ae",
        "colab": {
          "base_uri": "https://localhost:8080/",
          "height": 471
        }
      },
      "source": [
        "Paire2M.explain()"
      ],
      "execution_count": 53,
      "outputs": [
        {
          "output_type": "stream",
          "text": [
            "== Physical Plan ==\n",
            "*(4) Project [userId1#1014, userId2#1018, pythonUDF0#1103 AS sim#1027]\n",
            "+- BatchEvalPython [sim_jaccard(films1#1015, films2#1019)], [userId1#1014, films1#1015, userId2#1018, films2#1019, pythonUDF0#1103]\n",
            "   +- *(3) Project [userId1#1014, films1#1015, userId2#1018, films2#1019]\n",
            "      +- *(3) Filter (pythonUDF0#1102 > 0.0)\n",
            "         +- BatchEvalPython [sim_jaccard(films1#1015, films2#1019)], [userId1#1014, films1#1015, userId2#1018, films2#1019, pythonUDF0#1102]\n",
            "            +- CartesianProduct (films1#1015 > films2#1019)\n",
            "               :- *(1) Project [userId#941 AS userId1#1014, films#970 AS films1#1015]\n",
            "               :  +- *(1) Filter isnotnull(films#970)\n",
            "               :     +- InMemoryTableScan [films#970, userId#941], [isnotnull(films#970)]\n",
            "               :           +- InMemoryRelation [userId#941, films#970], StorageLevel(disk, memory, 1 replicas)\n",
            "               :                 +- ObjectHashAggregate(keys=[userId#941], functions=[collect_set(movieId#942L, 0, 0)])\n",
            "               :                    +- Exchange hashpartitioning(userId#941, 4)\n",
            "               :                       +- ObjectHashAggregate(keys=[userId#941], functions=[partial_collect_set(movieId#942L, 0, 0)])\n",
            "               :                          +- *(1) Project [nU#933 AS userId#941, nF#934L AS movieId#942L]\n",
            "               :                             +- *(1) FileScan csv [nU#933,nF#934L] Batched: false, Format: CSV, Location: InMemoryFileIndex[file:/content/ratings2M.csv], PartitionFilters: [], PushedFilters: [], ReadSchema: struct<nU:int,nF:bigint>\n",
            "               +- *(2) Project [userId#941 AS userId2#1018, films#970 AS films2#1019]\n",
            "                  +- *(2) Filter isnotnull(films#970)\n",
            "                     +- InMemoryTableScan [films#970, userId#941], [isnotnull(films#970)]\n",
            "                           +- InMemoryRelation [userId#941, films#970], StorageLevel(disk, memory, 1 replicas)\n",
            "                                 +- ObjectHashAggregate(keys=[userId#941], functions=[collect_set(movieId#942L, 0, 0)])\n",
            "                                    +- Exchange hashpartitioning(userId#941, 4)\n",
            "                                       +- ObjectHashAggregate(keys=[userId#941], functions=[partial_collect_set(movieId#942L, 0, 0)])\n",
            "                                          +- *(1) Project [nU#933 AS userId#941, nF#934L AS movieId#942L]\n",
            "                                             +- *(1) FileScan csv [nU#933,nF#934L] Batched: false, Format: CSV, Location: InMemoryFileIndex[file:/content/ratings2M.csv], PartitionFilters: [], PushedFilters: [], ReadSchema: struct<nU:int,nF:bigint>\n"
          ],
          "name": "stdout"
        }
      ]
    },
    {
      "cell_type": "markdown",
      "metadata": {
        "id": "rM2CX2jDRFLU",
        "colab_type": "text"
      },
      "source": [
        "#### Explication du plan"
      ]
    },
    {
      "cell_type": "markdown",
      "metadata": {
        "id": "YT3U-PhBRIRp",
        "colab_type": "text"
      },
      "source": [
        "On a exactement le même plan d'exécution qu'avant, car on a la même structure de données:partition.\n",
        "Dans le cas n°2, on va justement changer la logique du partitionnement, ce qui va changer le plan d'exécution."
      ]
    },
    {
      "cell_type": "markdown",
      "metadata": {
        "id": "5V5b7XljZoJ9",
        "colab_type": "text"
      },
      "source": [
        "## Cas n°2\n"
      ]
    },
    {
      "cell_type": "markdown",
      "metadata": {
        "id": "6nrqMF-jZndX",
        "colab_type": "text"
      },
      "source": [
        "Cas n°2 :  Construire le dataset UsersParFilm(film, users) où film est un numéro de film et users et la liste des numéros des utilisateurs ayant noté ce film. Partitionner les données par film. En supposant que chaque partition est stockée sur une machine différente, expliquer quelles données sont transférées lors du calcul de la similarité entre les paires d'utilisateurs. Remarque : l'implémentation de ce cas n°2 avec pyspark est optionnelle.sfdfdsqsffsfsdssdsDocTermCouple.groupBy(\"id\").agg(count(\"coupleTermetfidf\").alias(\"nbCouple\")).orderBy('nbCouple',ascending=False).show(3)zeze\n",
        "\n",
        "\n",
        "\n",
        "     "
      ]
    },
    {
      "cell_type": "code",
      "metadata": {
        "id": "ho9NekCA1ml9",
        "colab_type": "code",
        "outputId": "13845da2-e6ba-4476-9d9c-2b58b2d0240d",
        "colab": {
          "base_uri": "https://localhost:8080/",
          "height": 52
        }
      },
      "source": [
        "print(\"number of movies\",ratings2M.groupBy(\"movieId\").agg(count(\"movieId\")).count())\n",
        "print(\"number of users\",ratings2M.groupBy(\"userId\").agg(count(\"userId\")).count())"
      ],
      "execution_count": 54,
      "outputs": [
        {
          "output_type": "stream",
          "text": [
            "number of movies 23281\n",
            "number of users 20808\n"
          ],
          "name": "stdout"
        }
      ]
    },
    {
      "cell_type": "markdown",
      "metadata": {
        "id": "SFp3tdhqZxt_",
        "colab_type": "text"
      },
      "source": [
        "### UsersParFilm(film, users)"
      ]
    },
    {
      "cell_type": "markdown",
      "metadata": {
        "id": "GuU3YVfVZv5P",
        "colab_type": "text"
      },
      "source": [
        "Construire le dataset UsersParFilm(film, users) où film est un numéro de film et users et la liste des numéros des utilisateurs ayant noté ce film"
      ]
    },
    {
      "cell_type": "code",
      "metadata": {
        "id": "dzOMLmvrZm3g",
        "colab_type": "code",
        "outputId": "8827ca4a-ece7-48cb-fec0-98532dffa402",
        "colab": {
          "base_uri": "https://localhost:8080/",
          "height": 225
        }
      },
      "source": [
        "UsersParFilm2M=ratings2M.groupBy('movieId').agg(collect_set('userId').alias('users'))\n",
        "UsersParFilm2M.show(5)\n",
        "UsersParFilm2M.count()"
      ],
      "execution_count": 55,
      "outputs": [
        {
          "output_type": "stream",
          "text": [
            "+-------+--------------------+\n",
            "|movieId|               users|\n",
            "+-------+--------------------+\n",
            "|      2|[2207, 3958, 743,...|\n",
            "|      4|[15826, 2207, 943...|\n",
            "|      5|[6215, 15289, 306...|\n",
            "|      8|[16886, 7893, 152...|\n",
            "|     12|[5380, 15318, 857...|\n",
            "+-------+--------------------+\n",
            "only showing top 5 rows\n",
            "\n"
          ],
          "name": "stdout"
        },
        {
          "output_type": "execute_result",
          "data": {
            "text/plain": [
              "23281"
            ]
          },
          "metadata": {
            "tags": []
          },
          "execution_count": 55
        }
      ]
    },
    {
      "cell_type": "markdown",
      "metadata": {
        "id": "S-DasPfcZ2QP",
        "colab_type": "text"
      },
      "source": [
        "###  Partitionner les données par film"
      ]
    },
    {
      "cell_type": "code",
      "metadata": {
        "id": "geCanIircUIm",
        "colab_type": "code",
        "colab": {}
      },
      "source": [
        "ratings2MPersistantesParMovie= UsersParFilm2M.repartition(4,'movieId').persist()"
      ],
      "execution_count": 0,
      "outputs": []
    },
    {
      "cell_type": "code",
      "metadata": {
        "id": "vldInsnP1TIJ",
        "colab_type": "code",
        "outputId": "70bce550-2197-4cfe-9d4c-6b6b061c6c11",
        "colab": {
          "base_uri": "https://localhost:8080/",
          "height": 471
        }
      },
      "source": [
        "showPartitions(ratings2MPersistantesParMovie)"
      ],
      "execution_count": 57,
      "outputs": [
        {
          "output_type": "stream",
          "text": [
            "cardinalité des partitions: [5864, 5796, 5690, 5931]\n",
            "Partition 0 :\n",
            "Row(movieId=2, users=[2207, 3958, 743, 11131, 12851, 7916, 3371, 18660, 18173, 20024, 9180, 6842, 14371, 6742, 12064, 8493, 10213, 10082, 17255, 9982, 7544, 19262, 17411, 6857, 1435, 16106, 2924, 12435, 2337, 8146, 6295, 4444, 7659, 8923, 9279, 1519, 18303, 14601, 9179, 8692, 10543, 20279, 10312, 3039, 14270, 12419, 17841, 10212, 10568, 2452, 8261, 5923, 13583, 20625, 14972, 14485, 5492, 5005, 18443, 8963, 3054, 15649, 16005, 16492, 17856, 6525, 6425, 2367, 8145, 17525, 19145, 18658, 5476, 13136, 16707, 14400, 4689, 856, 10367, 6309, 400, 20624, 11987, 3740, 9062, 16722, 18086, 12177, 3309, 971, 12333, 8631, 6780, 8144, 17168, 13953, 13466, 5706, 7457, 2035, 13266, 9564, 16119, 14268, 4788, 14068, 13581, 4001, 7572, 1663, 15232, 5490, 19059, 18572, 5390, 4903, 8374, 15903, 8761, 4216, 15447, 13596, 15347, 11514, 15472, 13621, 1316, 12447, 11960, 8289, 19258, 17407, 298, 2505, 6076, 13249, 5620, 5976, 3282, 7240, 5389, 16164, 8760, 8273, 20347, 11744, 2133, 6222, 3753, 5991, 10926, 1346, 16504, 14653, 10595, 6893, 18024, 15330, 19388, 11628, 6337, 13866, 18801, 9321, 5619, 20552, 16850, 7370, 9577, 11197, 12917, 10710, 5288, 3437, 18726, 12330, 5188, 8759, 4570, 15932, 8659, 10023, 12130, 11643, 5990, 1932, 18585, 8974, 4916, 18485, 18841, 11212, 18354, 8874, 3452, 16534, 20105, 12345, 20005, 15947, 17667, 10038, 6336, 4485, 17567, 17923, 19287, 10163, 8312, 3767, 4154, 7238, 13047, 5287, 18856, 16062, 16418, 2393, 542, 2749, 8171, 767, 11998, 667, 16964, 6120, 8327, 9104, 12575, 5302, 13839, 2733, 15815, 6822, 4384, 682, 2046, 15128, 3797, 6004, 16879, 13177, 3697, 1846, 18855, 16517, 1484, 12715, 797, 17450, 7970, 3912, 13292, 7870, 10954, 11210, 20590, 7408, 1012, 20003, 14581, 12730, 19416, 9936, 10292, 7598, 18829, 13276, 1714, 18985, 14796, 20605, 12845, 16416, 10507, 17680, 4985, 4498, 2547, 4754, 465, 9002, 16175, 14324, 4844, 6564, 20133, 6464, 2531, 19802, 11911, 1944, 17364, 15026, 14826, 20473, 16415, 14564, 9273, 17679, 14464, 17579, 12157, 19786, 3910, 3810, 16761, 9488, 1859, 17017, 11108, 20619, 15066, 6463, 1041, 18537, 15843, 13405, 11554, 7983, 3825, 1974, 2330, 1843, 6032, 18983, 3950, 18883, 17032, 12487, 14694, 18652, 10536, 3263, 4627, 4496, 18065, 15727, 825, 2189, 4652, 11825, 7636, 15296, 13445, 14809, 2114, 12989, 18767, 20131, 5229, 6949, 20031, 15842, 6849, 8213, 12527, 19669, 4767, 10089, 3693, 478, 17131, 9502, 1742, 3493, 6833, 9040, 924, 824, 6602, 16113, 15626, 9717, 724, 11955, 11824, 11337, 3708, 16790, 20361, 11724, 11237, 5815, 1757, 5584, 12757, 10906, 4997, 6361, 18079, 15741, 8368, 6517, 4079, 17517, 13459, 15666, 20601, 5699, 13228, 1541, 1897, 12772, 18550, 19914, 10434, 4294, 11954, 17632, 7178, 392, 19252, 11136, 16458, 5127, 4540, 19698, 8236, 17160, 5829, 5342, 2127, 11120, 20631, 4755, 2904, 1053, 822, 12053, 10689, 19226, 11466, 4680, 15424, 13573, 10002, 17175, 10779, 7077, 3019, 20159, 10679, 10904, 6846, 14862, 8953, 19697, 15639, 2457, 5928, 9530, 5597, 9199, 7348, 20430, 14877, 6630, 6074, 5812, 390, 18663, 18076, 6745, 836, 10247, 9985, 6314, 4463, 9885, 17545, 11149, 5009, 3189, 4553, 851, 11951, 2471, 2827, 17273, 6429, 4578, 20744, 14735, 5742, 18206, 9438, 17875, 15437, 11379, 15337, 11279, 5857, 5726, 12768, 9197, 5982, 10917, 20784, 14519, 16239, 10817, 6759, 8966, 850, 3057, 6659, 17759, 12337, 11850, 13701, 8279, 15221, 12006, 7948, 13270, 20443, 18105, 8494, 4436, 13816, 1121, 2485, 11996, 8032, 2154, 15105, 7832, 15005, 12667, 5525, 7245, 8609, 10847, 12567, 6914, 8278, 10485, 17658, 2269, 2138, 9798, 13400, 12782, 3302, 12682, 1351, 16509, 5178, 1120, 2484, 15922, 10013, 533, 17186, 11764, 11277, 19393, 9913, 13515, 13384, 3417, 20326, 18475, 9351, 16037, 4219, 15937, 15450, 10028, 2268, 5508, 17226, 7259, 3557, 3070, 14788, 1250, 2970, 3457, 7028, 15465, 13870, 9812, 7474, 18705, 9094, 14903, 14416, 12565, 878, 778, 18274, 12009, 19638, 10870, 6812, 10383, 2267, 15836, 2654, 2036, 15118, 7489, 7745, 9109, 18133, 10860, 9009, 1380, 7158, 8522, 10985, 16307, 13613, 13969, 10398, 6340, 7704, 13513, 4389, 11562, 13282, 13182, 8637, 5422, 3084, 2853, 14084, 13628, 4017, 17586, 9339, 346, 5637, 1579, 7488, 20570, 17224, 13166, 7744, 9108, 20339, 3099, 17901, 8908, 12379, 19521, 74, 5752, 330, 17339, 9710, 9223, 6008, 4157, 14901, 3701, 1363, 3570, 13081, 18016, 1263, 12007, 8792, 576, 2783, 2652, 13883, 16090, 2552, 10081, 9594, 1478, 18487, 7287, 9007, 1247, 14329, 10758, 8420, 2998, 18287, 18156, 10883, 4618, 19907, 18056, 6238, 4387, 15749, 13898, 229, 7402, 6915, 13080, 4964, 12849, 15833, 13982, 10898, 13526, 7617, 11575, 7386, 7417, 7286, 11213, 9006, 2220, 11244, 12477, 3484, 20137, 20006, 11013, 4617, 559, 18186, 4517, 19450, 9839, 5781, 11328, 7757, 15286, 1261, 20252, 15186, 14699, 7070, 6583, 11905, 2781, 930, 14143, 15863, 11805, 17714, 19690, 7872, 2450, 112, 17739, 9623, 9979, 19003, 14814, 12507, 10656, 12376, 10169, 12407, 14127, 9061, 3152, 10681, 4416, 227, 9738, 13209, 15416, 5936, 16193, 4862, 3011, 7069, 15962, 10896, 5474, 10440, 2680, 4887, 12837, 9622, 4200, 1762, 267, 18771, 9291, 3382, 5102, 3251, 16464, 457, 2664, 2208, 10224, 8373, 126, 13208, 13564, 11713, 17135, 1746, 14828, 12977, 1159, 14597, 8332, 8101, 10339, 8001, 17381, 3612, 5332, 9390, 20265, 12992, 7570, 14612, 12274, 17727, 12305, 19447, 15645, 10223, 6521, 1976, 11843, 15414, 9992, 2363, 5447, 25, 20380, 17165, 14827, 5347, 20149, 7098, 5247, 4760, 10669, 9074, 10794, 5372, 12545, 10338, 4785, 6149, 2478, 11858, 5949, 14842, 18413, 7213, 9420, 4875, 19156, 20520, 10553, 8702, 6851, 14024, 16231, 3180, 15775, 17495, 16031, 11486, 12750, 11511, 9304, 7453, 16477, 19948, 2477, 19261, 12213, 4097, 8932, 2146, 16948, 6881, 5030, 12203, 6294, 741, 20088, 13692, 9634, 9534, 4112, 3625, 4468, 15343, 13492, 11641, 12905, 20047, 3425, 10567, 14525, 4427, 6634, 15658, 2963, 2476, 4227, 15327, 9549, 20649, 5260, 4773, 16491, 20318, 10838, 8987, 740, 14309, 11971, 10607, 2491, 640, 17780, 7813, 10020, 1773, 7713, 5862, 178, 12773, 3780, 20433, 13160, 18095, 5400, 18482, 16631, 9648, 19028, 7828, 5846, 5615, 5515, 5028, 6879, 14539, 10837, 6292, 13952, 14308, 10250, 9763, 6448, 4597, 8168, 9532, 18912, 5630, 6994, 20076, 16861, 8614, 19845, 12216, 4581, 17794, 10034, 9547, 1787, 17563, 9316, 16976, 18340, 20547, 3438, 1587, 1100, 8729, 16389, 17753, 10480, 4927, 14794, 17878, 12456, 4827, 2489, 638, 10018, 1902, 15340, 20331, 18480, 10851, 1240, 753, 4842, 15942, 13248, 19057, 18570, 14868, 5875, 1817, 322, 191, 13273, 9702, 7364, 91, 1455, 13173, 11322, 1355, 2975, 19759, 13850, 10635, 181, 15470, 12255, 11768, 12124, 11637, 6215, 306, 15726, 18610, 8643, 3221, 1370, 12601, 14321, 4841, 19512, 908, 421, 18048, 9445, 321, 7494, 3792, 9245, 10965, 20476, 18625, 14080, 4956, 8196, 4007, 19427, 13518, 11667, 15238, 4038, 2187, 15269, 13418, 3451, 5171, 11336, 18478, 4940, 14320, 15971, 12269, 19442, 11682, 9475, 16742, 9600, 120, 18493, 8526, 1740, 8913, 11897, 13617, 8326, 5988, 6244, 9815, 691, 11435, 10979, 11335, 3706, 16170, 10748, 3119, 19772, 12499, 16070, 4739, 681, 19672, 15970, 19897, 10417, 937, 4021, 2170, 4508, 6259, 7492, 20574, 17359, 16872, 15052, 16772, 9012, 4954, 19887, 6705, 1283, 796, 14103, 434, 11665, 9845, 1011, 18151, 12242, 18407, 17920, 20127, 14118, 12267, 2787, 4507, 6358, 19440, 8109, 3920, 20704, 14795, 15638, 5671, 1613, 3820, 5184, 3102, 9398, 12482, 1638, 1151, 10175, 1051, 12282, 13646, 4166, 15397, 4066, 5786, 19580, 16886, 6042, 7762, 9026, 3604, 5811, 10746, 14348, 20157, 14248, 1066, 13174, 348, 2068, 2555, 12066, 6157, 15050, 10992, 3232, 12612, 7190, 3132, 7090, 2901, 18190, 5008, 19810, 6141, 17859, 1983, 3347, 14347, 2660, 3503, 2885, 14603, 1065, 19825, 1611, 20371, 9171, 12611, 13454, 7189, 7545, 2123, 7445, 4651, 4520, 19940, 9973, 10329, 849, 362, 15164, 6171, 2113, 7535, 11106, 13213, 4089, 18891, 8924, 1164, 18791, 12395, 4279, 17130, 3948, 733, 2940, 3717, 17286, 19493, 1279, 20757, 8452, 10659, 1179, 10690, 2930, 15750, 8477, 19708, 11948, 5683, 261, 5939, 1881, 5452, 13112, 12525, 3045, 14632, 14401, 863, 5798, 13327, 11476, 632, 5567, 11507, 14591, 18649, 7318, 19036, 18549, 16698, 5723, 20038, 18187, 2798, 20425, 12178, 17500, 2111, 3862, 17300, 19020, 18920, 18789, 5251, 3400, 1062, 8622, 10342, 15795, 5953, 5466, 20755, 5235, 14746, 12895, 16010, 16366, 10588, 9639, 2366, 16812, 11259, 18919, 11290, 13010, 16481, 14043, 10828, 8977, 11605, 11961, 1117, 4232, 2381, 5596, 43, 18934, 14876, 5396, 1207, 18216, 4547, 845, 18116, 15678, 9769, 2496, 11876, 7818, 3760, 16842, 14504, 14629, 1578, 6869, 8720, 12322, 15893, 9107, 860, 19364, 4331, 19264, 3744, 19033, 13611, 17182, 11273, 429, 1662, 3900, 14644, 18215, 5033, 12693, 19866, 9899, 6197, 775, 3859, 4215, 4346, 5710, 19148, 8304, 2395, 13139, 9337, 10957, 990, 19494, 10501, 8650, 8519, 17899, 15561, 13710, 5981, 14874, 5750, 10716, 20808, 16750, 12692, 10841, 8990, 4932, 11974, 2981, 287, 1130, 4345, 4245, 3758, 17327, 7716, 5378, 20798, 5765, 18229, 5047, 3196, 16765, 14427, 2609, 18029, 13840, 2022, 17798, 6111, 9195, 9682, 17342, 19062, 17211, 18575, 15716, 9582, 6236, 7469, 18700, 14642, 7369, 1104, 3311, 19964, 4575, 15806, 2624, 19764, 9797, 2649, 4013, 13393, 5177, 2839, 988, 18615, 8648, 3226, 4590, 10368, 16308, 6697, 10268, 15459, 8317, 2408, 11788, 15359, 2177, 3541, 14772, 9350, 11070, 2077, 5648, 20094, 5192, 10970, 1490, 12103, 8401, 2979, 16548, 10639, 4730, 17325, 5507, 5863, 14887, 10829, 7127, 1705, 16638, 16994, 11085, 19978, 9490, 1243, 19878, 19060, 13638, 3571, 225, 17365, 1002, 20249, 17811, 15860, 2191, 340, 12935, 5175, 6926, 3711, 15819, 7182, 8546, 18057, 13868, 15588, 8446, 4388, 4744, 6595, 7959, 12273, 8215, 455, 18859, 18372, 13306, 14570, 12719, 7297, 14208, 10637, 8330, 10050, 2421, 5992, 19917, 11801, 13521, 9463, 18974, 13421, 18874, 15172, 18743, 9263, 8776, 10983, 1503, 20363, 9388, 3479, 20263, 14354, 14710, 6594, 17338, 4156, 14023, 15387, 8114, 9478, 5776, 354, 17138, 10742, 11098, 7040, 16776, 9147, 3725, 6809, 4958, 10867, 20734, 3494, 800, 6122, 6022, 600, 3684, 7742, 17253, 5922, 1602, 13320, 10982, 3222, 12733, 6824, 18542, 18055, 17924, 6237, 2535, 19675, 19444, 2204, 353, 19344, 17006, 16906, 6839, 2419, 4626, 14137, 4526, 468, 5890, 14037, 17121, 19328, 5790, 368, 17021, 13806, 3839, 3352, 18285, 4616, 20392, 5228, 1170, 15972, 6492, 17236, 14021, 483, 2203, 17623, 11127, 5087, 20376, 5343, 4856, 3005, 13003, 16087, 17838, 10078, 4069, 12962, 3482, 3738, 16689, 9060, 20160, 10193, 6135, 4284, 1069, 11944, 11457, 13664, 4671, 6035, 15284, 4309, 3822, 16904, 10118, 15084, 7324, 20275, 828, 1184, 17481, 12059, 853, 17506, 17019, 18770, 1399, 12630, 19803, 8341, 20059, 5026, 18885, 12976, 18785, 12745, 7810, 5472, 16703, 18423, 16472, 14134, 14521, 17636, 13934, 3967, 7538, 20620, 7925, 7438, 1529, 34, 1785, 20776, 18438, 14380, 7107, 5256, 19702, 12429, 19958, 15900, 14049, 9991, 5933, 24, 17520, 13462, 2487, 4207, 49, 10693, 6504, 12444, 19586, 8255, 18122, 9875, 10231, 16040, 15553, 10131, 7437, 2015, 15453, 11395, 12759, 4122, 3635, 12659, 18437, 12528, 1197, 12072, 12915, 6650, 16255, 7552, 766, 18783, 15568, 2030, 2386, 3750, 10823, 12543, 8972, 10336, 2932, 20072, 12799, 10948, 2832, 8154, 11625, 15196, 8054, 7567, 7467, 20674, 9212, 1096, 2847, 13491, 19269, 2029, 17187, 17087, 12542, 14749, 17864, 14549, 524, 11755, 4351, 162, 13731, 15451, 62, 3664, 3533, 18466, 9342, 7004, 1095, 18366, 17879, 1126, 6904, 8268, 20342, 19755, 9788, 19168, 14979, 13128, 17217, 18581, 12672, 12572, 14779, 12441, 6663, 2830, 10846, 4937, 4450, 15812, 6688, 15712, 15581, 5614, 18696, 19052, 7721, 3176, 20803, 18109, 14894, 9341, 20085, 19985, 10861, 19267, 10274, 19298, 6116, 9687, 11051, 11663, 332, 14291, 3316, 18736, 10489, 11753, 13960, 4480, 19413, 11653, 8307, 15480, 14993, 15380, 20315, 13042, 14762, 9827, 12942, 8884, 5182, 18264, 12224, 10017, 893, 18389, 2513, 4233, 15108, 20786, 7735, 17115, 10719, 1726, 8868, 10132, 8281, 2859, 6686, 16066, 15579, 6099, 5512, 3661, 4048, 18494, 20214, 20701, 9370, 12454, 7388, 9139, 10859, 1379, 2743, 19296, 17445, 7965, 692, 13156, 5527, 17470, 9841, 20098, 14676, 12825, 3345, 5065, 8667, 10874, 3114, 16196, 17560, 11651, 807, 2527, 7849, 445, 17585, 1709, 13427, 1509, 2773, 922, 2642, 4493, 19782, 6469, 12278, 13642, 12468, 10517, 12237, 20028, 4377, 2526, 14244, 10542, 4277, 1939, 13070, 5797, 20112, 12483, 14690, 7061, 9268, 5435, 12608, 14359, 3028, 1177, 10170, 15523, 1367, 15061, 13210, 8665, 6714, 8078, 8465, 4276, 218, 11936, 16896, 3845, 5565, 12251, 5655, 7862, 14027, 13540, 17142, 13440, 15191, 14573, 12266, 6357, 19926, 17588, 17713, 8233, 6382, 7746, 19464, 13555, 20728, 5695, 3357, 20497, 12381, 14588, 8679, 4290, 6497, 15877, 20712, 17041, 16554, 11132, 7074, 1652, 16679, 18430, 17943, 12034, 8463, 5248, 6512, 6025, 9983, 7289, 503, 19132, 16794, 8678, 3125, 20396, 10916, 4876, 231])\n",
            "Row(movieId=4, users=[15826, 2207, 9438, 10425, 16886, 15980, 15616, 10194, 6361, 7916, 4468, 17338, 13513, 15343, 14979, 4389, 5274, 12976, 11379, 18377, 19466, 14023, 16984, 15337, 8462, 17138, 5472, 12695, 3448, 18169, 19135, 3919, 17009, 15658, 16349, 2853, 6157, 16676, 15427, 3494, 4227, 11806, 15327, 9926, 12612, 19835, 13193, 5797, 7394, 5768, 4294, 20476, 6857, 1579, 18648, 14430, 19810, 10982, 8987, 19985, 9285, 13772, 132, 611, 4038, 11159, 15523, 5708, 6564, 14253, 1346, 16991, 19698, 12425, 17216, 6008, 7372, 19111, 20200, 11911, 19875, 2452, 2177, 5829, 9633, 755, 2098, 20631, 1590, 10918, 4684, 1236, 3437, 5890, 845, 7445, 13956, 1274, 1740, 4680, 7570, 14458, 8659, 2496, 13748, 7768, 20159, 15949, 2288, 19907, 15108, 15639, 483, 229, 13738, 18762, 20432, 16353, 18175, 2705, 3163, 9530, 14046, 18300, 10794, 18962, 10511, 1662, 4856, 6686, 6911, 8233, 981, 7492, 15833, 7238, 11704, 7879, 20757, 13272, 6376, 3771, 5949, 4954, 10690, 16062, 14211, 11221, 2139, 5079, 16004, 971, 12985, 638, 11775, 4269, 17168, 11746, 588, 10403, 792, 16131, 10193, 8321, 13968, 2035, 13491, 9281, 10247, 7778, 5602, 5798, 17943, 15228, 682, 1140, 16196, 3920, 18649, 12719, 7726, 18274, 5621, 445, 191, 8613, 6906, 19611, 9144, 2036, 7489, 4020, 4266, 8049, 4216, 12630, 8776, 19659])\n",
            "Row(movieId=5, users=[6215, 15289, 306, 9767, 9180, 4991, 14065, 19874, 8899, 2634, 296, 8231, 2709, 18048, 7644, 14767, 8858, 12866, 9164, 10965, 18675, 20476, 18625, 6857, 4956, 17957, 1123, 12404, 4007, 9510, 19427, 15369, 13518, 4038, 1700, 3988, 5708, 15269, 8923, 12881, 9310, 11336, 17841, 4609, 1865, 12269, 5873, 9475, 11632, 20444, 9600, 5055, 3641, 1740, 4824, 5311, 8963, 16492, 10227, 6038, 11847, 691, 13823, 11485, 17475, 6063, 13286, 3269, 54, 10979, 11335, 5070, 19045, 16707, 8591, 16201, 19772, 19672, 13763, 937, 15789, 13938, 10367, 6309, 6178, 7492, 20624, 19210, 7879, 16722, 846, 8069, 971, 8681, 14003, 17168, 13466, 19325, 9845, 18788, 2035, 16887, 18201, 9564, 20489, 14268, 18407, 20127, 14218, 5225, 17770, 2787, 9473, 4051, 9829, 3920, 19340, 1663, 5671, 18803, 18572, 9448, 16184, 18391, 12482, 7547, 18341, 1151, 2952, 16084, 4316, 6523, 2902, 1051, 15903, 9994, 12282, 4066, 19580, 7893, 2, 13215, 13084, 14398, 10827, 5274, 12497, 20207, 12447, 11960, 18306, 1066, 4637, 9959, 3919, 6157, 9678, 15050, 1431, 12612, 19835, 7140, 7090, 16164, 4752, 2901, 8273, 8579, 20347, 4521, 819, 10380, 9893, 900, 19810, 6191, 2133, 3934, 17066, 6222, 11363, 3116, 18536, 1346, 12627, 14347, 19850, 19875, 12115, 9321, 9271, 16850, 13454, 12917, 10710, 3437, 20140, 7445, 4751, 18726, 8809, 12330, 14618, 4651, 8659, 10379, 4420, 12130, 15164, 6171, 19303, 13394, 1932, 17271, 15420, 18585, 20792, 1832, 4916, 8974, 1214, 10775, 13063, 18841, 1651, 1164, 18791, 18304, 2965, 8337, 16534, 18254, 4666, 196, 11964, 3767, 7238, 20757, 3567, 7088, 10659, 1179, 18319, 4700, 10690, 4781, 2393, 8171, 15750, 8477, 3055, 717, 15650, 6526, 261, 16964, 567, 5939, 17170, 14376, 12525, 3045, 13839, 20410, 19923, 6691, 4384, 2046, 20500, 18649, 16798, 15028, 7268, 18549, 13127, 8582, 18855, 9244, 12715, 6756, 12615, 17500, 2598, 2111, 5632, 17400, 9771, 19201, 18714, 13292, 9590, 1961, 13111, 15318, 3400, 5201, 10573, 6821, 13557, 8622, 19416, 9805, 13457, 10242, 9836, 17284, 11375, 19085, 18598, 1764, 13045, 5416, 20755, 14796, 16516, 10738, 5316, 18804, 8837, 16366, 20018, 19481, 927, 14234, 2547, 17399, 7919, 5431, 18919, 14861, 5300, 16662, 16481, 19952, 10828, 12629, 13943, 11961, 11911, 15076, 93, 9554, 10918, 10737, 18934, 18447, 7422, 18035, 845, 6785, 6298, 20273, 17835, 19199, 3760, 9619, 3885, 7306, 1041, 12809, 9107, 6413, 991, 19901, 8083, 9884, 760, 15256, 3744, 1974, 2330, 7621, 17182, 18983, 18933, 7602, 5751, 8835, 14694, 15131, 18215, 10586, 18652, 15908, 12693, 18065, 875, 4446, 6734, 338, 9768, 2139, 5710, 12412, 13239, 15883, 14032, 3578, 13445, 5229, 18717, 16460, 4642, 12527, 8419, 10089, 5494, 5850, 7164, 3056, 7551, 8915, 16625, 9040, 20321, 14899, 8634, 20221, 6196, 2981, 10154, 2394, 56, 7716, 87, 5378, 11318, 9642, 18229, 16815, 989, 6361, 12170, 8468, 14327, 2022, 8368, 15591, 6111, 5980, 17211, 9582, 7469, 13459, 1641, 1591, 7369, 18650, 13228, 10534, 8683, 19964, 14492, 12154, 19864, 8046, 17607, 2574, 11517, 673, 7715, 15294, 9385, 12987, 11136, 5714, 18715, 16458, 13243, 2839, 5046, 5077, 3226, 19929, 10137, 19698, 16483, 3351, 19648, 607, 17310, 8673, 4615, 17260, 13558, 2714, 20781, 19367, 2177, 12971, 5829, 7012, 16036, 5061, 4524, 16548, 4243, 11466, 13673, 4680, 17325, 13573, 5407, 341, 7564, 15274, 3456, 20159, 1293, 1243, 6646, 2944, 17440, 250, 4308, 2357, 9530, 14902, 19266, 20399, 14977, 9199, 20349, 14877, 15654, 6174, 15604, 6074, 11365, 19562, 5812, 390, 13341, 9283, 2010, 11571, 12935, 5662, 6976, 1504, 13968, 10397, 6645, 8009, 3901, 19240, 13818, 7778, 505, 8215, 19496, 7984, 7884, 6860, 1438, 5009, 12719, 9148, 7297, 4959, 18091, 1338, 2702, 16190, 10637, 16446, 8330, 5942, 4091, 6379, 7743, 9463, 9950, 13958, 11264, 19330, 18843, 11083, 10627, 8776, 4718, 1503, 1016, 10577, 5380, 20232, 14404, 2992, 14354, 17875, 2842, 17338, 8701, 15437, 14023, 5907, 15337, 11585, 1131, 10917, 9453, 10817, 850, 3494, 14775, 12337, 11850, 13701, 6559, 17253, 1783, 13064, 9718, 1602, 1958, 7948, 18742, 3222, 5510, 13220, 1808, 20443, 12552, 18542, 12502, 8931, 17955, 16104, 17468, 12402, 2485, 17418, 16229, 2691, 15823, 19394, 15692, 16906, 1923, 9146, 3674, 9046, 799, 2906, 1055, 518, 4039, 15270, 5740, 15657, 12782, 3302, 12682, 14352, 5228, 16509, 20161, 5178, 10550, 2790, 2871, 14021, 9963, 2203, 9913, 19343, 5724, 13434, 11127, 10640, 7425, 5574, 6938, 3542, 18962, 4856, 8995, 748, 12516, 8814, 6426, 6376, 15450, 19589, 2268, 17070, 317, 12962, 20672, 3482, 15606, 9616, 17226, 15375, 11317, 8979, 14482, 14838, 3070, 9060, 3457, 14738, 6622, 4771, 6928, 13664, 4134, 17928, 4309, 3822, 9812, 7961, 9681, 13820, 7424, 13283, 12796, 101, 3672, 7324, 14903, 14416, 10845, 18374, 19738, 4836, 18274, 12009, 10870, 6812, 2267, 2623, 366, 6225, 17506, 15655, 7489, 9696, 18770, 16919, 2423, 9109, 1836, 16332, 4951, 2919, 8597, 2332, 4539, 5853, 8141, 4389, 18885, 13463, 7423, 18785, 13182, 3084, 7092, 17009, 16472, 20043, 8712, 16422, 2703, 13447, 4454, 11677, 1579, 16918, 9776, 20570, 2016, 16868, 7744, 18488, 14430, 1298, 3586, 10728, 18438, 20239, 5256, 18338, 19702, 20139, 8727, 20008, 19521, 4619, 15413, 430, 11711, 511, 11611, 9760, 6008, 3670, 13181, 10843, 18553, 15338, 7141, 13081, 11230, 18016, 12444, 15528, 10056, 15784, 17504, 4453, 13396, 2065, 13346, 11495, 1478, 16767, 9444, 12528, 8420, 6650, 10346, 15849, 18056, 4874, 8039, 6188, 11560, 229, 19220, 179, 1899, 7402, 5064, 18502, 4964, 7171, 16245, 12899, 18758, 20122, 2932, 3369, 16857, 15833, 10898, 7923, 3865, 2014, 1914, 7417, 5079, 2220, 7155, 14815, 9393, 11013, 3253, 559, 4617, 6905, 4517, 6318, 4467, 11559, 534, 14830, 14112, 4095, 19690, 15582, 19153, 13244, 4251, 17739, 4020, 14814, 11193, 20267, 1095, 18366, 17879, 1532, 12407, 10425, 8037, 9788, 15466, 9688, 13209, 16780, 1878, 12672, 20251, 7150, 6663, 7019, 15962, 979, 12260, 16399, 8152, 16349, 19383, 4400, 15762, 17482, 13424, 7515, 4300, 5614, 18746, 12837, 9622, 142, 7184, 20622, 16514, 18234, 1531, 3251, 5102, 16464, 8623, 994, 19985, 4515, 19885, 19267, 19348, 9506, 2233, 11176, 332, 18349, 14647, 6968, 8332, 12340, 10976, 19563, 12290, 10439, 9315, 17868, 15480, 15299, 1274, 7570, 10604, 8753, 4645, 5082, 18214, 8653, 19447, 15645, 4183, 13694, 15414, 2363, 4083, 15008, 11793, 14827, 10719, 8868, 20636, 14727, 5247, 6967, 10132, 8281, 5016, 10794, 4966, 12058, 4785, 14346, 727, 8437, 10107, 9701, 5949, 7669, 40, 17180, 1710, 14792, 6676, 12810, 3817, 18669, 16818, 5000, 5081, 5031, 19883, 18032, 16131, 17495, 6164, 742, 13387, 13337, 19115, 9635, 4163, 12750, 3626, 6189, 19321, 11561, 6139, 19271, 16933, 2858, 8717, 2808, 14576, 8667, 16196, 370, 757, 19261, 19617, 7849, 17635, 5817, 9469, 1709, 18312, 12890, 1122, 1509, 8245, 4493, 14054, 6294, 872, 741, 6600, 20088, 2848, 12278, 7733, 9534, 2261, 4468, 15262, 15343, 8947, 3831, 12905, 10567, 5145, 4427, 12624, 1212, 20153, 14244, 15964, 9699, 4146, 15427, 7261, 13607, 15327, 15814, 9549, 20780, 5797, 20649, 12970, 14690, 7061, 4979, 20318, 10220, 16566, 10170, 16160, 19244, 2260, 16756, 14805, 16831, 11053, 3293, 6714, 16631, 6177, 4763, 168, 7878, 118, 13606, 15276, 16996, 8730, 6879, 2821, 3177, 16309, 12251, 14458, 14308, 12051, 9713, 6854, 6448, 9532, 14027, 11639, 13440, 3473, 12853, 16424, 16374, 16324, 2705, 10415, 6357, 18125, 20051, 4581, 14142, 17713, 4531, 17126, 13505, 9316, 5695, 3357, 12431, 20497, 16439, 12381, 14669, 14357, 18496, 3026, 14794, 12456, 4827, 4340, 2489, 638, 9662, 12306, 1802, 1671, 15190, 16810, 10770, 5348, 9000, 18380, 11347, 18570, 19007, 1817, 191, 18695, 11066, 19132, 91, 5463, 12686, 16825, 1355, 6727, 2975, 8478, 15570, 4239, 19659])\n",
            "Row(movieId=8, users=[16886, 7893, 15239, 5274, 4389, 11379, 4614, 19924, 10567, 17211, 6888, 4123, 16349, 2853, 2680, 11398, 5620, 15914, 3792, 9622, 346, 16164, 9920, 2901, 11975, 20062, 20318, 10982, 3586, 3222, 11369, 9285, 988, 19267, 3226, 6564, 8373, 6116, 13462, 3503, 19698, 19567, 20279, 19648, 2204, 6008, 8317, 16631, 2127, 6635, 11682, 16415, 3437, 8534, 9034, 1478, 15932, 8659, 16492, 13748, 20159, 16509, 18585, 20619, 15108, 4874, 18587, 20005, 6357, 9530, 10132, 10367, 7492, 10898, 14877, 20757, 5512, 14565, 3153, 12439, 3540, 19837, 12962, 4477, 7286, 7265, 11571, 12935, 17495, 11696, 1250, 10193, 6135, 2035, 13491, 534, 1267, 14749, 17864, 18649, 95, 807, 18549, 10637, 4605, 12692, 4220, 18695, 16446, 9398, 7489, 4216, 2975, 2111, 3862, 6294, 741])\n",
            "Row(movieId=12, users=[5380, 15318, 8574, 20690, 19826, 5251, 16045, 17338, 10573, 20024, 8622, 12672, 6255, 3498, 6663, 3694, 2709, 19412, 7246, 19870, 19383, 17155, 3494, 18448, 14767, 14746, 16597, 6659, 17411, 7515, 2928, 11494, 8279, 9245, 14159, 998, 18625, 19481, 17957, 18742, 5102, 2497, 8196, 16691, 18034, 8931, 17018, 14324, 5708, 3857, 9279, 16481, 14203, 8802, 15038, 6262, 19394, 12121, 6002, 6968, 8332, 13154, 1865, 2650, 16567, 9315, 17381, 6914, 20046, 10485, 18035, 468, 3641, 9034, 1740, 6298, 13021, 12157, 8963, 17050, 5282, 5740, 7570, 18851, 9769, 16492, 16005, 3352, 12274, 10046, 12224, 8653, 14512, 17706, 5053, 5228, 16509, 17475, 1149, 15922, 19095, 15893, 9913, 18987, 5347, 16628, 18429, 19772, 7983, 3744, 15789, 18983, 10367, 18933, 3950, 7602, 5641, 10128, 16872, 12814, 140, 19995, 17280, 1412, 17070, 19866, 317, 19837, 12962, 8069, 20672, 9899, 2364, 14103, 15425, 4136, 11746, 8552, 13445, 19833, 16131, 2643, 18817, 6622, 4284, 7834, 6928, 10957, 12750, 4134, 4309, 9812, 8288, 7424, 15511, 13283, 14118, 12267, 5523, 3672, 9094, 10866, 15361, 16196, 7064, 16625, 18274, 12009, 5867, 18572, 4932, 7995, 13427, 1638, 6196, 16571, 7489, 5617, 10154, 15547, 11724, 19455, 12203, 12580, 4116, 6294, 4066, 741, 12328, 2261, 10746, 10827, 8976, 5274, 1187, 9253, 6538, 18785, 12745, 19599, 5980, 18177, 2555, 18881, 5620, 1431, 12562, 5797, 11677, 20649, 4294, 18371, 14690, 2901, 17632, 10380, 20318, 17116, 2133, 6222, 9285, 20516, 19521, 430, 2260, 3116, 2718, 7632, 4540, 1144, 19648, 14603, 6008, 14574, 2714, 10843, 16631, 5829, 16623, 2983, 8384, 9321, 10991, 7878, 13606, 11197, 14768, 3437, 8301, 11474, 7437, 11466, 5515, 16767, 1357, 12528, 7077, 8420, 10250, 1932, 6448, 4916, 11212, 229, 13738, 6109, 18733, 6436, 16374, 6357, 14046, 17567, 11535, 13865, 16093, 20122, 196, 11964, 3767, 17844, 1010, 17713, 5547, 4531, 9547, 20757, 16191, 11167, 14290, 3865, 20547, 18319, 10690, 1985, 6988, 8221, 12381, 7417, 19562, 19808, 390, 9393, 12935, 638, 20006, 459, 15719, 20743, 5252, 8134, 505, 4076, 10393, 10770, 5269, 11636, 276, 2831, 14112, 20500, 5009, 18549, 4532, 5875, 8786, 2471, 7843, 5463, 3125, 6756, 4020, 18843, 2598, 18366, 18743, 4239, 18714, 13292, 1961])\n",
            "Partition 1 :\n",
            "Row(movieId=1, users=[15776, 15289, 256, 20611, 9767, 7916, 11387, 2784, 19924, 16222, 6742, 3040, 2553, 19693, 10213, 8362, 2322, 471, 18098, 7644, 17155, 13453, 271, 19262, 15073, 8808, 3286, 1435, 20651, 18800, 6982, 17857, 16006, 12304, 4188, 2337, 18990, 8146, 6295, 4444, 5808, 13468, 2137, 9279, 18303, 14601, 3757, 3270, 16708, 5377, 4890, 1675, 18328, 10212, 6997, 5146, 9981, 501, 1865, 15303, 3972, 12996, 2377, 16692, 16236, 13021, 11170, 1203, 18343, 16492, 16005, 17856, 10227, 8376, 6525, 4674, 6038, 15549, 11847, 15574, 13723, 5607, 1418, 19045, 16707, 7227, 6740, 3038, 14400, 12549, 8360, 16020, 17384, 4689, 2838, 6053, 15789, 17153, 6309, 5822, 20624, 3740, 5622, 3771, 9062, 10913, 16722, 18086, 3540, 4904, 12564, 14640, 14153, 3309, 971, 12333, 6293, 17655, 15804, 13953, 15317, 9764, 284, 7457, 4242, 5606, 13266, 11415, 20439, 11184, 12804, 14168, 2350, 499, 18126, 19490, 9523, 5821, 3970, 15332, 11630, 12994, 4001, 2150, 20167, 15101, 68, 19059, 18572, 3539, 18341, 6523, 14183, 4703, 9994, 514, 17654, 6323, 15347, 13496, 20638, 4241, 3754, 1903, 5374, 16249, 1216, 20207, 17869, 10240, 4687, 1893, 12116, 17407, 15100, 13249, 11398, 5620, 67, 1431, 16720, 10942, 14900, 744, 16520, 16033, 14182, 17884, 14438, 3984, 282, 15115, 14628, 82, 8619, 4917, 14428, 15140, 14653, 3322, 1471, 984, 20462, 10008, 17668, 15330, 12115, 3999, 19288, 9321, 5619, 15130, 14643, 9577, 1686, 11197, 8859, 12330, 5188, 4701, 8659, 10023, 6321, 13981, 12130, 13494, 10279, 2163, 15114, 10048, 8197, 1932, 18585, 13032, 4916, 13063, 11212, 18354, 8874, 7023, 16534, 12832, 527, 20005, 17667, 15816, 10038, 8187, 17436, 15585, 7956, 3767, 65, 7238, 12560, 3080, 18856, 10253, 7038, 8402, 4700, 767, 13980, 12129, 11642, 10278, 9791, 13262, 6120, 567, 80, 9104, 12575, 10755, 14195, 20004, 16302, 15815, 6822, 12113, 4971, 2633, 17435, 8442, 6591, 6104, 7955, 15128, 11913, 11426, 3797, 1946, 16748, 7268, 18855, 16517, 1971, 1484, 3335, 12846, 19988, 9144, 10508, 18168, 17681, 12615, 19788, 17937, 17450, 9821, 15143, 13292, 1961, 3325, 2186, 13061, 11210, 10723, 7508, 14681, 12830, 5201, 1499, 12374, 10036, 4970, 6334, 13994, 11656, 9805, 325, 18829, 16978, 15127, 9836, 581, 94, 5416, 20705, 18854, 11225, 12845, 10994, 4729, 10507, 1027, 17680, 10051, 4498, 19787, 16085, 14234, 15598, 4754, 6118, 565, 7738, 5887, 17249, 1242, 17018, 5200, 4713, 6564, 2406, 19802, 14249, 6133, 19571, 9117, 14439, 5446, 3595, 1744, 1257, 16546, 20473, 9142, 795, 20273, 19786, 12157, 11670, 826, 6117, 15628, 13290, 2446, 3810, 17248, 16761, 9619, 17017, 7537, 5686, 11008, 9157, 7306, 1041, 16330, 12141, 3148, 19314, 7983, 17494, 11223, 9859, 18883, 16545, 2876, 1025, 18652, 8198, 12643, 825, 338, 17965, 17478, 12412, 11925, 19554, 19098, 15883, 14032, 3578, 7049, 5198, 16560, 12371, 1527, 1040, 15842, 6849, 8213, 18436, 17949, 16098, 6618, 4280, 10089, 17262, 1742, 20733, 18882, 11253, 10766, 8915, 7064, 5213, 6833, 20271, 12642, 8453, 824, 6602, 15626, 11924, 2931, 4295, 11955, 5915, 11724, 11237, 1757, 18897, 20261, 13344, 14708, 9642, 18666, 18179, 4997, 6361, 2659, 808, 10319, 8468, 839, 9832, 14277, 19112, 17517, 15666, 15179, 5699, 3361, 10534, 1541, 16343, 14492, 12641, 15856, 17707, 1310, 19814, 15625, 4294, 11954, 8252, 11723, 11236, 9385, 392, 3376, 1525, 12887, 20029, 8698, 4540, 2202, 19829, 14276, 8236, 19111, 17260, 13558, 2714, 19367, 11738, 4755, 1540, 18680, 8713, 4524, 16598, 8482, 6631, 591, 11466, 622, 19126, 15424, 13573, 5457, 391, 20746, 10779, 8928, 7077, 14737, 14250, 9184, 6846, 14506, 12168, 8953, 837, 16126, 13788, 4308, 1093, 606, 6415, 150, 16803, 2257, 13357, 14721, 2026, 1539, 14977, 9199, 7348, 3159, 10332, 8481, 852, 13803, 6174, 4323, 1985, 2241, 390, 15192, 13341, 4348, 11521, 18663, 836, 20314, 8009, 4307, 13818, 4563, 2712, 11736, 2256, 1769, 17545, 15694, 2025, 1538, 3389, 20529, 5009, 851, 13802, 11951, 19124, 17273, 5942, 4091, 13602, 11751, 18893, 8049, 9413, 14735, 5742, 3891, 20544, 18206, 10577, 9438, 10802, 16124, 7131, 19595, 10602, 19626, 13586, 5470, 1768, 9915, 5726, 18677, 9684, 9197, 15006, 13155, 20784, 9453, 8966, 10817, 850, 14775, 6659, 6172, 619, 17759, 11494, 10130, 8279, 6428, 7792, 17303, 13114, 5972, 4121, 13370, 1808, 1352, 13816, 890, 403, 19394, 15692, 15205, 7576, 7832, 18707, 16856, 15005, 13154, 12667, 1823, 1336, 7145, 4807, 18020, 16394, 6914, 8278, 2725, 8534, 418, 5740, 16384, 14533, 12682, 10831, 1351, 864, 2715, 16640, 20080, 10600, 8749, 633, 14558, 15922, 4591, 2740, 19880, 11277, 9913, 5724, 15235, 13384, 14748, 11302, 18962, 17111, 8995, 7144, 10128, 15937, 15450, 17301, 2268, 19408, 17070, 9441, 16839, 9210, 5995, 3657, 15019, 11317, 12681, 8979, 1350, 19854, 14788, 16152, 9010, 6672, 2970, 1119, 4821, 17772, 10143, 6928, 8292, 15465, 5985, 4134, 13870, 12019, 13383, 10168, 201, 1565, 19192, 17341, 5523, 3672, 10845, 878, 20356, 12465, 20125, 18274, 12009, 10158, 10870, 2754, 2267, 16192, 8076, 2523, 2036, 9696, 20340, 12711, 9009, 1380, 7158, 8522, 10373, 10629, 13613, 10398, 918, 431, 15720, 8091, 6240, 7604, 2538, 19191, 11562, 18735, 13182, 4579, 3471, 10613, 14084, 8306, 6455, 4604, 13628, 8562, 9926, 17586, 2066, 215, 1579, 3430, 18719, 13653, 13166, 1348, 20339, 18488, 9008, 9264, 2999, 8777, 20139, 19652, 17801, 430, 11792, 17570, 9454, 5752, 9223, 6008, 4157, 3670, 5521, 13181, 3701, 8992, 10843, 18016, 7172, 2983, 1132, 12007, 10643, 1163, 6941, 8792, 15965, 5998, 4147, 15734, 13883, 12032, 10181, 2552, 701, 6023, 4172, 15047, 12709, 18487, 9007, 9494, 14329, 5336, 3485, 2998, 1147, 4849, 18287, 16436, 15949, 10883, 4618, 18056, 8576, 6238, 4387, 13898, 7858, 229, 13667, 7402, 3213, 18502, 18758, 12749, 17584, 5766, 2551, 13426, 19204, 7417, 9006, 7155, 3484, 1633, 8775, 20137, 8806, 6955, 6468, 4617, 19906, 2797, 459, 18963, 15748, 13897, 3930, 15517, 11328, 4186, 3699, 20352, 18501, 15286, 7657, 12492, 18301, 19665, 14599, 14112, 15963, 930, 10441, 474, 6252, 19690, 7872, 11343, 1863, 12, 19003, 17152, 1145, 20136, 12507, 10656, 10169, 689, 14127, 12276, 16203, 9061, 10425, 14383, 12532, 2565, 2078, 16003, 4185, 13209, 27, 7169, 16680, 3498, 3011, 1160, 4862, 15962, 14111, 5118, 2780, 10440, 4887, 13424, 729, 19233, 18746, 16895, 15044, 13193, 4200, 5564, 12737, 10886, 9035, 7184, 20622, 18771, 5102, 16464, 12762, 457, 15746, 13926, 19704, 8373, 19248, 13208, 17135, 9506, 14828, 12977, 1159, 18786, 14597, 6968, 6481, 3266, 8332, 12290, 8101, 728, 17381, 4199, 17150, 15299, 5332, 12992, 12505, 14356, 1661, 9290, 11141, 18314, 12274, 3281, 2794, 943, 4645, 12305, 19447, 10454, 3050, 10192, 20190, 18339, 19703, 10223, 7885, 4670, 4183, 13694, 13207, 9992, 2363, 512, 9505, 17165, 5347, 20149, 18298, 10669, 6967, 702, 10925, 9074, 14396, 12545, 12058, 10207, 17380, 13222, 10007, 7669, 40, 16693, 14842, 6726, 3511, 14611, 5131, 1429, 20420, 19933, 18082, 6264, 15775, 9735, 742, 255, 17882, 16031, 13693, 6064, 12750, 1906, 55, 7197, 9048, 280, 9304, 7453, 16477, 12288, 6766, 2577, 13939, 757, 19261, 16923, 11370, 9519, 5817, 11626, 3997, 18312, 8832, 5130, 9088, 16261, 14410, 6294, 2592, 741, 2105, 3956, 12328, 13692, 19014, 8170, 15343, 1187, 6996, 5145, 6509, 956, 12318, 11831, 4914, 4427, 1212, 18352, 16014, 4196, 15071, 2376, 15814, 9549, 5847, 3996, 7211, 1658, 20649, 12533, 11169, 8831, 16491, 19054, 4929, 4442, 10707, 740, 17393, 13235, 10020, 2391, 540, 19044, 16706, 14855, 13004, 7713, 7226, 1673, 16962, 3780, 1929, 10922, 20433, 16731, 4913, 12573, 12086, 13937, 755, 1888, 19028, 5846, 2144, 18797, 12788, 2821, 6779, 13952, 13465, 10250, 283, 10019, 6317, 2159, 308, 19299, 18812, 6994, 12803, 18125, 4943, 6307, 14192, 15556, 1010, 15325, 8183, 4481, 9316, 323, 20678, 16976, 18340, 5158, 14669, 4927, 17878, 16027, 11869, 51, 19529, 7224, 9331, 20693, 7736, 16760, 4942, 20231, 16042, 4711, 13735, 19057, 18570, 16719, 14868, 7726, 5875, 4024, 322, 5644, 3793, 1455, 18595, 16744, 3075, 10735, 19759, 17908, 15570, 13719, 8428, 7941, 4239, 15826, 6346, 4495, 2644, 4008, 19297, 16959, 9817, 9330, 11181, 1957, 1470, 18610, 14452, 12601, 10750, 8899, 2634, 19512, 6330, 17692, 15354, 4023, 321, 1685, 19312, 16974, 15123, 7494, 8858, 3792, 10965, 9114, 20476, 18625, 19989, 16287, 8658, 4956, 17907, 14692, 12354, 6576, 8196, 6345, 4007, 13518, 13031, 14882, 1700, 20691, 14651, 1469, 20460, 16758, 7278, 20229, 18378, 10749, 10262, 14220, 15353, 8211, 4509, 4022, 15384, 11682, 11195, 19080, 20444, 9600, 120, 1740, 18393, 17906, 4724, 12384, 13748, 19557, 17706, 19070, 9815, 335, 17475, 15624, 16988, 1955, 3319, 20459, 10979, 10748, 781, 16557, 4739, 2401, 13763, 16326, 4021, 806, 2170, 7492, 5641, 17003, 11450, 119, 16772, 16285, 5441, 10763, 11896, 8681, 1052, 10045, 17705, 17218, 15367, 2672, 2185, 19325, 9845, 9358, 5656, 10978, 3349, 1011, 20489, 18151, 14936, 7307, 9383, 7532, 7045, 10747, 18407, 14705, 14218, 12367, 5225, 2887, 19540, 17689, 8209, 4507, 17720, 12167, 4051, 9829, 19340, 20704, 15638, 3820, 4953, 18878, 7547, 16084, 2902, 1051, 15853, 10075, 8224, 6373, 4522, 9588, 15397, 13059, 4066, 2440, 1953, 3804, 19580, 7762, 14935, 13084, 14448, 3604, 10746, 1266, 8439, 14248, 12397, 10546, 1066, 17232, 15381, 8239, 19339, 604, 20472, 18621, 10992, 7777, 5439, 16801, 13099, 19785, 8454, 6603, 2901, 18190, 5008, 4521, 1306, 19810, 17472, 13801, 3834, 1983, 132, 3347, 20487, 18636, 5454, 3116, 10776, 2660, 809, 2885, 1034, 12396, 1065, 12165, 4536, 834, 5669, 14693, 9627, 3362, 10991, 16313, 9171, 7545, 16082, 12867, 12380, 5238, 4751, 1049, 6371, 14031, 11693, 10329, 4064, 362, 9873, 15164, 6171, 7535, 17271, 20742, 18891, 5222, 18435, 16097, 12395, 2915, 4279, 18204, 14046, 2940, 11964, 5924, 20757, 18906, 8939, 8452, 6601, 16112, 14261, 4781, 2930, 17732, 19808, 8477, 361, 19352, 5683, 19121, 11492, 17270, 5939, 5452, 13112, 1781, 1294, 19798, 10805, 5252, 18203, 16352, 17716, 14014, 5021, 863, 6641, 11476, 20500, 18649, 16798, 7318, 13127, 12640, 12865, 5723, 2021, 20525, 18187, 6856, 6169, 17300, 13111, 8045, 1062, 18202, 10573, 10086, 6871, 4533, 10342, 6184, 5697, 17284, 5953, 3615, 20755, 7573, 8937, 5235, 18448, 14746, 12895, 14259, 3415, 2928, 18217, 10588, 10357, 9870, 6655, 4804, 4317, 13828, 11490, 2497, 646, 17299, 13110, 11259, 415, 20770, 11290, 18432, 7588, 5737, 5250, 12423, 10572, 2943, 2456, 19596, 10828, 8977, 8490, 16150, 14299, 17514, 11961, 2968, 1117, 2481, 4332, 5952, 13612, 11761, 13125, 3158, 18934, 20298, 10818, 7116, 3414, 1076, 4547, 845, 6654, 6167, 15678, 11976, 158, 14504, 7587, 3885, 3398, 11058, 9207, 1578, 8720, 16380, 14042, 12191, 6900, 5049, 6413, 860, 9884, 4331, 4362, 13611, 11760, 11273, 429, 7571, 18446, 13380, 7602, 7115, 3900, 18215, 9222, 10586, 6884, 14544, 15908, 19866, 18015, 9899, 8048, 6197, 4346, 5710, 157, 19635, 19148, 8304, 13595, 13626, 18917, 9437, 13395, 14759, 16379, 15436, 13585, 8519, 6181, 4330, 2479, 13841, 19619, 8288, 659, 13610, 5494, 2279, 3643, 5750, 14287, 3443, 1592, 20808, 14543, 20321, 10841, 8990, 16163, 6196, 2981, 4345, 19634, 12005, 17327, 13138, 2294, 443, 20798, 18947, 11318, 17096, 5765, 212, 1576, 16865, 18229, 7385, 5047, 12707, 6667, 18029, 14327, 13840, 658, 2022, 17798, 5980, 4129, 17342, 15491, 15716, 17080, 6236, 15260, 18700, 1104, 4575, 19864, 8533, 4375, 673, 13624, 11773, 19433, 17582, 15731, 18946, 2062, 1575, 19202, 9235, 7384, 5046, 3226, 2739, 10368, 15690, 6697, 8061, 2995, 1144, 10137, 19161, 17310, 15459, 13608, 8317, 4615, 11788, 14772, 5292, 11070, 20094, 5061, 14797, 14310, 16161, 8532, 2979, 10639, 8301, 672, 19663, 17812, 15474, 5994, 5507, 3656, 8978, 7127, 5307, 3456, 11085, 9490, 10854, 887, 19878, 18027, 16176, 1143, 2507, 20134, 687, 7829, 13638, 6009, 4158, 225, 3209, 20349, 1389, 16191, 1158, 12033, 17324, 7844, 5993, 2060, 15273, 11571, 12935, 2091, 9233, 6926, 3711, 7182, 8546, 16206, 14355, 13868, 3901, 199, 2762, 12273, 2306, 8084, 18959, 5777, 5290, 11099, 5090, 1388, 10637, 670, 8330, 7843, 11801, 11314, 2321, 9463, 13421, 5305, 11083, 18743, 11114, 10627, 8776, 20363, 7181, 3479, 14354, 13867, 12016, 10165, 13636, 11785, 4156, 11816, 17107, 9478, 5776, 11098, 3469, 2982, 1131, 15056, 14569, 10867, 20378, 18040, 7196, 3494, 1156, 14369, 12031, 2320, 469, 3684, 17122, 11569, 3940, 2089, 18742, 15527, 5073, 3222, 11369, 9518, 7180, 18542, 12502, 19675, 8344, 715, 18080, 16229, 19444, 2073, 12948, 9733, 16906, 1873, 9046, 18070, 12517, 1186, 6477, 14137, 12286, 468, 15270, 5790, 20592, 18772, 18285, 4616, 14352, 11137, 1657, 1170, 18310, 6492, 2790, 19443, 8599, 8112, 483, 9963, 17623, 18987, 2103, 252, 11127, 10640, 8789, 5574, 5087, 6938, 17161, 16674, 14823, 5343, 4856, 3005, 6707, 13003, 9301, 18325, 17838, 14136, 2805, 19458, 12962, 5820, 3482, 13218, 14582, 20391, 18540, 16689, 18053, 9060, 5358, 20160, 6978, 713, 13664, 6522, 4671, 6035, 969, 482, 19473, 18986, 10218, 251, 20606, 16904, 9762, 7911, 7424, 3722, 13233, 7193, 18555, 14853, 12515, 1184, 18324, 17837, 19944, 16242, 10464, 10233, 18770, 16919, 7439, 1399, 20390, 4870, 8828, 8341, 5126, 12299, 10448, 2819, 968, 2332, 18108, 16257, 13919, 6290, 4439, 2588, 5803, 7654, 12976, 11125, 7910, 18785, 15083, 10894, 3265, 1414, 18554, 16703, 3521, 1670, 16472, 17836, 2803, 10463, 8612, 983, 13934, 15298, 4454, 3967, 11627, 9776, 7925, 7438, 5587, 11140, 34, 16687, 14380, 20158, 3049, 18338, 17851, 16000, 14149, 19702, 14180, 11842, 9991, 24, 15800, 8396, 6545, 6058, 9760, 1900, 49, 1413, 18553, 16702, 10693, 8842, 1213, 12313, 982, 495, 19973, 15784, 2115, 16040, 15553, 7437, 4222, 3735, 5586, 12759, 9544, 1428, 16717, 13015, 12528, 14379, 7237, 3048, 12559, 12072, 6519, 19957, 16255, 8626, 6288, 11610, 10246, 766, 279, 7908, 18783, 13230, 6088, 2386, 1899, 19039, 18552, 20403, 7221, 16732, 13030, 12543, 9328, 12799, 10948, 2832, 8610, 19972, 15783, 6790, 8154, 2601, 8410, 7923, 294, 5616, 63, 15352, 13501, 20187, 18336, 8856, 2847, 8138, 509, 9989, 19500, 17649, 14434, 4467, 3980, 5831, 19269, 9789, 2385, 47, 9558, 9071, 7220, 3518, 12542, 8840, 17864, 5169, 524, 37, 13962, 10260, 6071, 15582, 13731, 13244, 2400, 3764, 62, 19053, 15351, 16715, 9573, 9086, 5871, 4020, 3533, 12557, 9342, 18366, 16515, 17879, 14177, 12326, 6548, 995, 14433, 15797, 277, 19755, 8424, 6573, 9788, 15110, 11408, 7706, 1441, 17217, 4912, 1697, 12572, 10721, 1241, 7019, 16755, 16268, 8152, 4937, 4450, 15812, 13961, 11623, 2143, 16068, 15581, 4250, 5614, 11423, 7721, 18109, 14894, 9341, 7490, 5639, 16514, 14663, 12812, 994, 19985, 13945, 13976, 13489, 19754, 5629, 3778, 76, 11663, 11176, 332, 20687, 18349, 7018, 3316, 19969, 12340, 10976, 13960, 3993, 9802, 9315, 3762, 15380, 9827, 9340, 993, 8653, 10017, 18389, 4233, 15595, 15108, 4264, 2413, 1926, 75, 3777, 10042, 7735, 11206, 10719, 1726, 7017, 12339, 14446, 15810, 16066, 17430, 8437, 6099, 13272, 1941, 13041, 4048, 2197, 5412, 20701, 12810, 3817, 1966, 1479, 3330, 20470, 10990, 9139, 7288, 15825, 13974, 2643, 792, 19296, 17445, 7965, 4263, 1925, 1956, 105, 19321, 17470, 18834, 9841, 6139, 5652, 14676, 11461, 12825, 3345, 1494, 19998, 16783, 8667, 6816, 3114, 2627, 11651, 807, 320, 2171, 17460, 16973, 6129, 4278, 2427, 5867, 13527, 14891, 3560, 1709, 19336, 7518, 5667, 12840, 14204, 9138, 2873, 19526, 16311, 4493, 19782, 12153, 1047, 11922, 17700, 8220, 6369, 15393, 13542, 13055, 11204, 1724, 18864, 17013, 15162, 20228, 7046, 5195, 19997, 12368, 10517, 12624, 8922, 4733, 17946, 14244, 10542, 4277, 10055, 1939, 15377, 13070, 9855, 9368, 17028, 14690, 5210, 5435, 18648, 4492, 790, 18417, 16079, 2410, 11434, 7732, 14905, 5912, 20227, 11234, 15161, 19119, 20483, 10516, 8665, 14474, 13987, 12136, 4994, 2656, 19796, 17945, 19309, 10316, 7978, 4763, 4276, 11936, 118, 17483, 6152, 7516, 11474, 3845, 1994, 3358, 20011, 16796, 16309, 14458, 7316, 5465, 3127, 8680, 8449, 19324, 15622, 7993, 5655, 6854, 4060, 3573, 7044, 15191, 14704, 12853, 11002, 20513, 18662, 18175, 14960, 16324, 8695, 4993, 4506, 2655, 14017, 14242, 6613, 1060, 20051, 17713, 8233, 7746, 5895, 15406, 11704, 20728, 5695, 3357, 12868, 12381, 8679, 10786, 8935, 6597, 16108, 15621, 15877, 15421, 20712, 11719, 13083, 1265, 20743, 15190, 7074, 9150, 16810, 3628, 10770, 19794, 17943, 10801, 5248, 10083, 603, 1967, 17256, 7776, 5925, 4074, 2223, 11472, 20496, 16794, 5463, 3125, 16825, 13123, 2669, 20296, 16594, 8478, 4776, 6140, 13313, 7760, 131, 19347, 7529, 13338, 12851, 5709, 3371, 11000, 20511, 18660, 18173, 16322, 20024, 9180, 6842, 4991, 3140, 12651, 19824, 17973, 8493, 13784, 10082, 8231, 15404, 4073, 11733, 17511, 7544, 9651, 9164, 1048, 5006, 17957, 16106, 12404, 6626, 2924, 1073, 20064, 17726, 10584, 8246, 15419, 2237, 19377, 17526, 15675, 17039, 18890, 9410, 5221, 5708, 1519, 7072, 12881, 9179, 8692, 1288, 20279, 18428, 10312, 16608, 16121, 14270, 10568, 2939, 18228, 17741, 8261, 4559, 5923, 15434, 13583, 14947, 4103, 17054, 9425, 7799, 7312, 11270, 5492, 3641, 3154, 18443, 17956, 4774, 15649, 10583, 2467, 616, 17756, 15418, 6425, 7789, 2236, 19376, 15674, 19145, 17294, 20509, 7814, 13136, 18458, 19822, 2938, 13813, 11962, 8260, 2707, 856, 400, 6178, 15689, 11987, 1533, 12177, 8475, 19350, 18211, 14053, 871, 18011, 7557, 5706, 3886, 2035, 16837, 16350, 18457, 17970, 16119, 14268, 12448, 17770, 14068, 15432, 886, 20754, 11530, 11043, 4126, 2275, 20779, 13150, 11299, 7597, 18472, 16134, 12919, 4316, 15903, 8761, 8274, 15447, 1778, 20769, 13365, 11514, 10150, 8299, 14985, 3167, 1316, 20794, 18456, 10827, 8976, 5274, 12447, 11960, 629, 8289, 4100, 2249, 14323, 5720, 2505, 654, 17307, 9678, 7827, 16851, 15000, 16364, 10811, 3182, 18471, 19835, 10842, 14282, 8991, 8504, 11975, 8273, 869, 20347, 11744, 900, 413, 15702, 17066, 6222, 16835, 5991, 15015, 13164, 1346, 16635, 17999, 10595, 6893, 17768, 12702, 4099, 884, 2248, 19875, 18024, 19388, 3899, 20552, 17337, 16850, 7370, 5519, 3668, 15255, 14768, 5288, 3437, 1586, 12461, 10610, 8759, 10123, 15932, 15445, 13594, 4601, 10379, 2263, 19890, 7585, 13394, 12907, 7841, 4139, 5503, 11312, 1832, 12445, 5303, 3452, 1114, 20105, 8287, 427, 20782, 17567, 13865, 10163, 2534, 7825, 196, 5974, 8312, 4154, 2303, 18956, 7625, 8989, 5287, 16649, 11096, 2493, 18269, 19633, 4600, 2749, 13849, 5733, 3882, 667, 7840, 15500, 10855, 6666, 13839, 1369, 2733, 19873, 11757, 10393, 426, 4384, 682, 2046, 19186, 9706, 7368, 16879, 15028, 13177, 14541, 3697, 1846, 3210, 20350, 20575, 12459, 9244, 8757, 10608, 14566, 12715, 12228, 19888, 18037, 8557, 11541, 2061, 18714, 7870, 4168, 5301, 20590, 12474, 10623, 8772, 6921, 16432, 12730, 14094, 4614, 10392, 19416, 9936, 9449, 4383, 3896, 14771, 4152, 2301, 13663, 18954, 8110, 18985, 14796, 5316, 4829, 20605, 8787, 6936, 8300, 10151, 15473, 11771, 10407, 2778, 2291, 11540, 2547, 8325, 13647, 6018, 9489, 9002, 9, 5787, 16662, 16175, 12960, 14324, 5331, 4844, 1629, 18282, 1398, 6720, 2531, 11555, 10191, 6489, 224, 17364, 16877, 15026, 11324, 4182, 480, 14826, 16415, 9273, 7422, 20373, 18035, 8555, 17579, 12026, 3910, 17835, 19199, 7381, 13190, 9488, 1859, 8, 13446, 12959, 20588, 1628, 20619, 18281, 15066, 6950, 18537, 19901, 10421, 9934, 8083, 15256, 11554, 4412, 3925, 17363, 16876, 15025, 18727, 9734, 6032, 7396, 2330, 1843, 7621, 9472, 18983, 15768, 13430, 5801, 3950, 20603, 12487, 14594, 4627, 1412, 18065, 15727, 6734, 14132, 6016, 4165, 2314, 18967, 9974, 15296, 13445, 12958, 14809, 7667, 18767, 11138, 16460, 14609, 14122, 14378, 12527, 12040, 19669, 20156, 222, 17849, 15511, 4180, 2329, 3693, 18982, 11353, 9502, 9015, 12973, 1155, 16931, 16444, 9040, 924, 16700, 16213, 6733, 1180, 11568, 8353, 724, 9717, 13675, 11824, 11337, 4195, 2344, 1857, 20361, 3477, 9286, 5584, 12757, 1426, 8568, 17592, 15741, 13890, 12070, 8368, 13690, 1872, 13459, 11608, 18750, 20601, 11121, 1641, 1154, 7419, 16930, 18294, 13228, 7450, 3261, 12772, 18550, 19914, 10921, 10434, 18094, 2574, 3938, 236, 19714, 17376, 15525, 1856, 17632, 7178, 5327, 2112, 12987, 18765, 7434, 16458, 13243, 5127, 18078, 4896, 16483, 6029, 20, 17160, 7680, 5829, 5342, 2127, 20631, 18293, 16442, 11151, 9300, 5598, 16473, 14622, 12284, 5142, 4655, 14391, 20169, 10689, 10202, 8351, 4680, 2829, 491, 11366, 17144, 7664, 17175, 15324, 3019, 20159, 16944, 12755, 10904, 16713, 14862, 5382, 20184, 19697, 250, 17390, 14175, 506, 19266, 9299, 20399, 7217, 20430, 14877, 12083, 6043, 11852, 11365, 6074, 4223, 2372, 1885, 3736, 13472, 11621, 12985, 9770, 18794, 3761, 18076, 8596, 6745, 14405, 13918, 12067, 736, 17876, 10247, 11836, 9985, 2356, 19496, 13456, 6314, 4463, 9785, 9298, 18091, 6760, 19711, 8867, 5165, 3314, 19480, 2371, 17173, 2140, 1653, 19280, 18793, 20644, 11164, 7462, 14148, 12297, 5380, 14404, 11189, 17875, 2842, 13717, 11379, 16701, 2155, 1668, 20172, 18321, 11404, 10917, 1924, 3288, 19941, 18090, 9097, 6759, 3057, 14419, 10717, 17890, 17403, 14188, 12337, 11850, 13701, 18792, 15577, 9799, 7948, 6097, 15121, 20412, 965, 16741, 14890, 14403, 12552, 18105, 6774, 4436, 17874, 765, 16054, 17418, 12352, 4236, 4461, 12121, 13485, 2154, 5625, 1923, 7245, 3087, 1236, 18376, 16525, 10972, 10485, 6327, 4476, 7691, 13500, 13013, 19278, 16971, 12782, 5153, 1938, 3302, 14171, 5178, 3327, 4691, 12351, 2871, 10013, 533, 17186, 15335, 302, 13515, 9326, 12797, 10946, 3542, 20195, 1235, 748, 18375, 14673, 4706, 2855, 2368, 517, 4219, 11879, 10515, 13986, 317, 20672, 15606, 11417, 9566, 6772, 3557, 14432, 20210, 1250, 6541, 7028, 10043, 9812, 7474, 4259, 1921, 13283, 12796, 9581, 1952, 101, 1465, 9094, 18118, 14903, 14416, 18374, 8407, 778, 6556, 17918, 16292, 6812, 2623, 13985, 4505, 2654, 9796, 15605, 15118, 5638, 2423, 7745, 18133, 3100, 12836, 10985, 10498, 18158, 16307, 13969, 8191, 6340, 4489, 5853, 7704, 12149, 13513, 19291, 19322, 16984, 13282, 19091, 5422, 1720, 3084, 20711, 16522, 2853, 19537, 13984, 15348, 4017, 11677, 9826, 9339, 346, 5637, 7488, 15148, 9595, 7744, 9108, 13066, 3586, 3099, 1248, 19752, 17901, 20008, 19521, 74, 13999, 15363, 817, 330, 15619, 2437, 99, 18603, 15388, 14901, 7759, 7272, 3570, 11230, 1263, 16065, 6585, 545, 19536, 17685, 10056, 8205, 576, 16090, 6610, 4272, 13296, 10081, 9594, 17254, 7287, 1247, 12122, 10758, 8420, 6569, 20007, 18156, 12147, 18833, 13311, 19089, 129, 18146, 16295, 13080, 3600, 4964, 14700, 12849, 12362, 10511, 1031, 15833, 13982, 4989, 3138, 2651, 13526, 11675, 19304, 7973, 344, 16997, 7517, 113, 18617, 2220, 20724, 14684, 5691, 20006, 10526, 559, 18186, 19550, 8219, 9839, 9352, 359, 6137, 7501, 9608, 7757, 14930, 20708, 11228, 1261, 20252, 18401, 15186, 8921, 6583, 1030, 11905, 17714, 17227, 11674, 15632, 15145, 11443, 17739, 17252, 5921, 4070, 7054, 18416, 7085, 12376, 1532, 20036, 3152, 1301, 2665, 15616, 6623, 15160, 10094, 17267, 15416, 9638, 7787, 5936, 20251, 7556, 7069, 8920, 16580, 20507, 18656, 18169, 9176, 14498, 15862, 2680, 342, 19333, 6151, 4300, 7515, 1962, 12837, 7771, 17282, 14944, 13093, 5464, 1762, 17051, 5233, 3382, 11011, 20035, 16333, 8704, 5002, 3151, 12175, 2695, 844, 2208, 13795, 6166, 11713, 13077, 18886, 7555, 14728, 11026, 8688, 19563, 14010, 5017, 3166, 10339, 8488, 19588, 17737, 15399, 8257, 14943, 20721, 3612, 9390, 1274, 20752, 20265, 8934, 7083, 14743, 14256, 20521, 9190, 1074, 18214, 16363, 17727, 6396, 4058, 6621, 15645, 13794, 2463, 15414, 4083, 5447, 14727, 5247, 4760, 2909, 10569, 13132, 5016, 10338, 9851, 4785, 6149, 13809, 11958, 627, 1991, 19131, 16793, 5949, 4098, 7313, 18413, 1304, 19156, 20520, 9189, 7338, 6851, 5000, 8702, 14024, 5031, 3180, 17495, 6651, 6164, 13824, 11973, 11486, 13337, 9635, 18659, 3626, 7553, 16833, 9204, 8717, 5502, 3164, 12675, 19817, 2708, 857, 6179, 5692, 2477, 11726, 5948, 395, 8932, 12890, 1559, 16848, 16361, 14510, 6881, 5030, 8245, 14054, 12203, 872, 20088, 9634, 4081, 13592, 2261, 3625, 9403, 20278, 15212, 20534, 14269, 12418, 20047, 1087, 18227, 14525, 6409, 4558, 6634, 14294, 13807, 1112, 2476, 9649, 4583, 13607, 20780, 17078, 20062, 16847, 16360, 5029, 10807, 18467, 19831, 10838, 5285, 16160, 14309, 15673, 11971, 10607, 2491, 640, 153, 17780, 7813, 5475, 2260, 18913, 11284, 178, 1542, 16831, 11053, 18482, 16631, 19846, 6664, 8028, 2475, 10135, 2506, 17308, 16821, 13606, 17077, 12888, 193, 1557, 18697, 18210, 5515, 6879, 3177, 12201, 870, 19861, 18010, 17523, 14308, 8043, 2490, 6448, 4597, 5961, 2259, 18912, 9919, 7581, 11052, 1572, 18225, 16374, 6894, 14554, 19845, 12216, 19614, 8770, 17794, 3638, 1787, 9447, 3894, 20547, 12431, 3438, 1587, 1100, 8729, 18240, 16389, 14538, 17753, 10349, 7134, 4796, 18496, 14794, 12456, 4827, 2976, 638, 18265, 8298, 7811, 9662, 15471, 13620, 1802, 18942, 18455, 7611, 7124, 5273, 3422, 18711, 3191, 1340, 20331, 18480, 19844, 10851, 10364, 8513, 11984, 8313, 4611, 13148, 1817, 191, 19182, 9215, 7364, 15024, 13173, 12686, 5057, 1355, 18495, 6677, 2975, 4339, 14337, 13850, 11999, 10635, 8297, 181, 19659, 15470, 11768, 6702, 8066, 17577, 15726, 15239, 12024, 3908, 5528, 6892, 8999, 1370, 19874, 16172, 14321, 8056, 4841, 12726, 908, 421, 19899, 19412, 17105, 15254, 14767, 18725, 20089, 9245, 14536, 8758, 6907, 14080, 19858, 898, 2974, 12254, 436, 19427, 15238, 7609, 4394, 3907, 15269, 13418, 1600, 1113, 20591, 18965, 11336, 14320, 4353, 10162, 6460, 4609, 15484, 12269, 13633, 451, 9475, 19211, 13171, 3204, 18493, 10864, 7162, 5311, 4824, 8526, 12484, 13848, 10633, 2517, 8326, 13617, 6475, 13161, 9459, 6244, 5757, 11566, 9715, 9228, 235, 5526, 16888, 11335, 3706, 16657, 5326, 12499, 19672, 19897, 17559, 937, 450, 12037, 6259, 19210, 11581, 16872, 17359, 5541, 15052, 896, 6705, 4854, 3003, 4367, 8069, 18292, 14103, 6474, 4136, 2285, 8581, 6730, 234, 16887, 8771, 14093, 12242, 7176, 1136, 20127, 17820, 15482, 12267, 2787, 936, 19440, 9960, 8109, 14795, 2100, 1613, 9242, 20604, 20117, 13200, 11349, 12713, 18978, 9498, 14820, 12969, 12482, 1638, 1151, 10175, 15497, 13646, 10431, 15753, 15266, 17117, 8124, 5786, 7637, 16886, 7893, 13184, 11333, 6042, 3704, 13215, 11364, 9026, 5811, 16686, 16199, 12984, 14348, 1166, 18306, 15968, 4637, 13661, 2555, 12066, 11579, 10215, 7877, 6026, 3719, 1381, 20372, 9041, 7190, 4852, 8579, 6728, 17603, 12050, 5785, 719, 19710, 19223, 6041, 7405, 13214, 11363, 3734, 10876, 18536, 14347, 7205, 3503, 18305, 17818, 5123, 1421, 2785, 13916, 12065, 9271, 3718, 15080, 20371, 11378, 13454, 14818, 2123, 1636, 20140, 12511, 9296, 14618, 4651, 2313, 7635, 4420, 3964, 11106, 9998, 5353, 18791, 10188, 8337, 4666, 2328, 17130, 5799, 3948, 733, 15048, 3717, 19493, 10890, 7675, 46, 5824, 12997, 12510, 3030, 1179, 18319, 17832, 10690, 6988, 13899, 3055, 2568, 717, 4419, 19708, 8377, 9741, 261, 17170, 5352, 3045, 1194, 20410, 19923, 10930, 14401, 13914, 12063, 4434, 17385, 9756, 5567, 16929, 14591, 12740, 3747, 9038, 19036, 18549, 7218, 5367, 1178, 14616, 6987, 6500, 20425, 11822, 10458, 978, 6269, 6756, 8120, 13929, 6300, 11591, 2598, 2111, 15318, 16682, 5838, 7202, 20640, 18789, 9309, 18333, 7002, 19953, 10473, 8622, 6284, 13457, 11606, 10242, 3977, 19491, 8160, 44, 5366, 2151, 1664, 18804, 8837, 6986, 5135, 14646, 19968, 19481, 10001, 746, 19737, 17399, 14184, 2366, 19019, 10903, 59, 14861, 4894, 3043, 16481, 7001, 6283, 4432, 20208, 19721, 16927, 4232, 2381, 5596, 43, 9554, 7216, 14876, 5396, 1207, 20423, 8605, 6754, 19967, 17629, 6785, 4934, 4447, 6298, 12107, 17398, 17885, 9769, 17429, 11876, 3760, 3273, 9538, 16711, 11158, 18818, 18331, 14629, 5149, 20438, 12809, 12322, 991, 6769, 14429, 760, 273, 19264, 7933, 19033, 17182, 3513, 1662, 11173, 8835, 15131, 14644, 7015, 4677, 10486, 8635, 4446, 4477, 9768, 775, 2139, 2364, 544, 16710, 4015, 1677, 9337, 5148, 14659, 16023, 4692, 1477, 990, 8650, 17899, 15561, 8419, 13741, 19519, 10039, 5850, 15361, 13510, 11659, 14874, 3056, 16494, 10716, 8865, 20452, 14899, 16263, 4932, 14443, 12592, 10741, 8403, 6552, 19765, 16063, 13725, 4245, 3758, 56, 9567, 7716, 10931, 5378, 13038, 12551, 8849, 5634, 1445, 10956, 9105, 10469, 6767, 16765, 1245, 2609, 9782, 15591, 16955, 6111, 2409, 558, 9551, 17211, 18575, 9582, 2178, 7469, 20682, 15129, 16493, 12791, 1947, 1460, 3311, 20451, 19964, 15806, 12591, 3111, 19764, 12135, 17913, 17195, 4500, 2649, 4013, 13524, 13037, 9822, 1706, 16995, 5177, 2839, 988, 20466, 18615, 10499, 10012, 6797, 15821, 12119, 4490, 2639, 10268, 3351, 2864, 14226, 19517, 15359, 3541, 19317, 20681, 7012, 14672, 16036, 10970, 4705, 1490, 18143, 14441, 12103, 8401, 772, 16548, 6094, 4243, 11672, 1705, 20696, 18845, 16276, 14425, 5432, 6796, 1243, 19747, 16076, 14225, 13738, 2407, 8216, 6365, 15389, 4283, 10969, 1002, 20480, 18629, 16291, 12589, 3109, 1258, 4473, 20249, 8431, 11902, 4273, 1935, 19562, 19075, 14009, 2191, 340, 15629, 5662, 3811, 5175, 7026, 12348, 10984, 12604, 4975, 19777, 12148, 19290, 15588, 6595, 4744, 19546, 17695, 8215, 4513, 4026, 19315, 7984, 9348, 18372, 15157, 13306, 16521, 5677, 3339, 12850, 9148, 7297, 6810, 8661, 12619, 13983, 10768, 3364, 4728, 10050, 2421, 17710, 13521, 7743, 4528, 339, 20694, 18843, 7999, 18874, 15172, 14685, 20494, 20232, 11239, 9388, 10752, 1272, 18412, 19776, 8445, 4743, 2892, 4256, 6107, 13767, 11916, 19545, 8701, 8214, 98, 6363, 17725, 15874, 15387, 5907, 5420, 354, 1718, 11229, 9378, 8891, 7040, 10742, 123, 19114, 17263, 16776, 6809, 3594, 4958, 1256, 20734, 800, 17453, 14238, 6122, 4271, 10080, 600, 15402, 5922, 1958, 13320, 3840, 9131, 9618, 10982, 18155, 3609, 3122, 18411, 12146, 17924, 8931, 16104, 14253, 17468, 1948, 15386, 12171, 2691, 840, 2204, 19344, 3824, 12848, 9146, 16806, 14955, 18170, 6839, 2650, 799, 18426, 7972, 2906, 568, 20046, 19559, 17708, 15857, 14006, 6377, 4526, 5890, 7741, 15888, 14037, 13550, 19328, 2219, 368, 15657, 13806, 17021, 3839, 3352, 20492, 7310, 6823, 5228, 6592, 11914, 8699, 1070, 583, 17236, 14021, 4541, 2203, 352, 19343, 18887, 13103, 3623, 1285, 19789, 16574, 16087, 7094, 2905, 11929, 10078, 6376, 15887, 4069, 11729, 18871, 8027, 19127, 15425, 7796, 7309, 9160, 3607, 20747, 13118, 11267, 14482, 9416, 14738, 6622, 6135, 4284, 1069, 2433, 8242, 16779, 6160, 7524, 3822, 13820, 10118, 9631, 15440, 7324, 6837, 4986, 20275, 828, 17968, 1084, 2448, 15886, 853, 366, 2217, 7995, 17506, 15655, 8026, 2473, 3837, 11010, 166, 16332, 12630, 6852, 5001, 3150, 19803, 2919, 20059, 16357, 6390, 4539, 14050, 13563, 17521, 18885, 13819, 15183, 7554, 9661, 5472, 16834, 18423, 7579, 5728, 8943, 3390, 20043, 2934, 2447, 8712, 14521, 14034, 15885, 4554, 2703, 19843, 11240, 5687, 16562, 11496, 5231, 2016, 3380, 13603, 11752, 14967, 1298, 20776, 18925, 17074, 14736, 8958, 7107, 5256, 1067, 12429, 10578, 1098, 611, 17264, 15413, 5933, 2718, 867, 2231, 17033, 9891, 11967, 636, 17289, 5958, 7322, 9429, 10793, 20304, 18453, 17966, 8973, 6635, 2933, 12444, 8742, 8255, 17766, 10362, 9875, 6660, 13833, 11495, 10131, 164, 1528, 20519, 18668, 15453, 16817, 14997, 12659, 16617, 6650, 1097, 5024, 12684, 10833, 10346, 8039, 6188, 7552, 2030, 179, 14981, 3650, 1799, 12674, 18452, 10823, 11535, 12899, 8972, 10336, 11048, 2932, 18708, 16857, 13576, 881, 13832, 15196, 8054, 3865, 2014, 13376, 18698, 7592, 5741, 7105, 9212, 14534, 6905, 14078, 19856, 19400, 13360, 3162, 14749, 7607, 5269, 20558, 12442, 624, 18251, 17764, 19615, 4582, 2731, 4095, 4351, 2500, 162, 19640, 19153, 15451, 4120, 5484, 13144, 12657, 18466, 14764, 3433, 1582, 1095, 2946, 8268, 20342, 8524, 4822, 13846, 19168, 18681, 15466, 13128, 4135, 1797, 20788, 11308, 12672, 18450, 7606, 14779, 16143, 12441, 6663, 6888, 5037, 12697, 10846, 879, 19383, 8539, 6688, 4837, 6201, 8052, 13374, 10159, 18696, 13630, 14994, 3176, 18465, 16614, 13399, 11061, 1581, 1094, 18721, 11092, 7390, 3201, 12225, 10861, 19885, 18034, 5729, 19654, 9687, 11051, 11307, 14778, 11076, 18736, 20100, 16398, 6918, 6431, 4580, 10389, 8538, 6200, 19413, 15711, 13373, 5744, 8307, 4118, 15480, 13629, 1811, 20315, 17100, 16613, 14762, 7620, 3918, 5282, 11091, 10604, 20115, 12224, 5082, 893, 14331, 13844, 19653, 8322, 4133, 15008, 13157, 20330, 17115, 14777, 7148, 12470, 18248, 10132, 6917, 8281, 18504, 10388, 16197, 17330, 9701, 5512, 1810, 13172, 16643, 14792, 12454, 6676, 5537, 16412, 12223, 5081, 1379, 2743, 10859, 16181, 10403, 8552, 6701, 8065, 692, 13156, 4163, 3676, 1825, 5527, 15263, 16627, 11561, 5296, 230, 20098, 5552, 5065, 6916, 19867, 10874, 8567, 13858, 3014, 2527, 7849, 445, 17585, 17098, 9469, 15278, 13427, 11576, 1122, 16898, 6931, 5080, 19882, 922, 16211, 17575, 13873, 6956, 12278, 19451, 18964, 17113, 8997, 5295, 12468, 9253, 16426, 16195, 4377, 9699, 7848, 13657, 4177, 7648, 5797, 5310, 7161, 1608, 12483, 9268, 10632, 6930, 16179, 14359, 15723, 3028, 1177, 4392, 10170, 19681, 15492, 6012, 4161, 1367, 14805, 16881, 6037, 5550, 7401, 15061, 13210, 5094, 3243, 18532, 16194, 6714, 6227, 13887, 10185, 8334, 218, 19696, 7878, 5540, 2325, 19465, 17614, 12061, 13425, 3945, 1607, 19234, 5565, 16440, 14589, 12251, 3258, 8580, 6729, 13902, 9713, 720, 6011, 4160, 7862, 15291, 13440, 20613, 18762, 8795, 5580, 3729, 10902, 10415, 2786, 19926, 18300, 10184, 8333, 4631, 17844, 14142, 6513, 4662, 9953, 2324, 17126, 9984, 9497, 6282, 4431, 15306, 20597, 9753, 11117, 1150, 16695, 14844, 688, 18315, 10455, 18992, 14834, 20612, 11132, 1652, 8794, 7199, 8563, 14372, 12521, 12034, 3041, 2554, 10183, 17356, 8363, 6512, 6025, 11347, 503, 1867, 12736, 41, 20396, 8578, 5363, 6727, 12536, 10198, 231, 17371, 15520, 5553])\n",
            "Row(movieId=6, users=[843, 15289, 9380, 3958, 7529, 13338, 9767, 7916, 3371, 4991, 3140, 16709, 8718, 10082, 2322, 7644, 15791, 17511, 17024, 15073, 9651, 9164, 18675, 6857, 12535, 12404, 2924, 17726, 8246, 2824, 6295, 1519, 18303, 14601, 11030, 8692, 5246, 16608, 2452, 4659, 20079, 5923, 17054, 20625, 7574, 7930, 6079, 5461, 3641, 5005, 18443, 17956, 8963, 11170, 3054, 6625, 14285, 16005, 17856, 6525, 2467, 6038, 15549, 17525, 19245, 15574, 5607, 3269, 19045, 13136, 2582, 731, 10111, 17640, 19360, 10367, 6309, 5822, 400, 2120, 6178, 8516, 20624, 17409, 9780, 3740, 17309, 12177, 5391, 16135, 14640, 5160, 1102, 3309, 971, 17755, 12333, 18111, 871, 384, 18011, 13953, 7557, 284, 7457, 2035, 14630, 16350, 16837, 4788, 17870, 14168, 2350, 13581, 19390, 12994, 5621, 3770, 1788, 20779, 18341, 614, 15547, 15903, 8761, 10125, 4572, 1778, 13365, 11514, 4241, 3754, 52, 7225, 1316, 8976, 5274, 20207, 11960, 8258, 16049, 15918, 19258, 19645, 13249, 9678, 5976, 1431, 14513, 10942, 7240, 2495, 20347, 14438, 11744, 413, 6191, 15702, 11644, 6222, 16835, 9693, 10926, 15015, 13164, 8619, 12446, 4686, 6893, 18124, 11628, 9321, 1561, 20552, 9577, 6883, 11197, 12917, 10710, 3437, 18726, 5188, 8759, 4570, 15932, 8659, 5734, 18816, 16965, 1932, 20792, 1832, 8974, 13063, 18841, 12932, 14683, 1014, 20005, 15947, 7700, 18931, 17923, 13865, 12014, 10163, 2403, 3767, 65, 7238, 18956, 16618, 8989, 3080, 4831, 4700, 16062, 4600, 8171, 20245, 15700, 11642, 6220, 15113, 7840, 9104, 20335, 11211, 6666, 20235, 12475, 13839, 8642, 882, 10393, 426, 682, 2046, 15128, 11426, 6004, 16879, 20450, 13177, 3697, 1846, 8632, 18855, 17004, 20575, 9244, 8757, 6906, 10608, 9144, 19888, 14466, 12615, 18037, 7970, 19201, 15143, 18714, 15012, 4168, 1961, 11210, 3937, 12474, 7408, 1499, 1012, 20003, 12730, 6821, 18829, 9836, 13276, 94, 17234, 18954, 8110, 5416, 18985, 17134, 14796, 10738, 5316, 20605, 3365, 5085, 14109, 15473, 17680, 14234, 13747, 15598, 7969, 2547, 8325, 565, 7738, 465, 9489, 4944, 5300, 1242, 14324, 10753, 4844, 6564, 20133, 3605, 3018, 2531, 11911, 6133, 4282, 11324, 4182, 3464, 14826, 16415, 14564, 20017, 18035, 19786, 4397, 19199, 2446, 3810, 5530, 11470, 11826, 17248, 7768, 1859, 17017, 12828, 5686, 5199, 18537, 18050, 19901, 941, 15256, 13405, 10321, 7983, 17494, 3825, 1974, 9472, 18983, 12974, 12487, 16445, 18652, 1412, 925, 17965, 12412, 6016, 2801, 19098, 15883, 7636, 3578, 15296, 13445, 14809, 12989, 16560, 1527, 14122, 8338, 578, 17849, 19569, 2329, 3693, 9015, 20246, 7064, 16444, 10535, 9040, 924, 824, 11924, 3708, 1857, 5915, 20361, 11368, 16659, 11237, 5584, 18666, 18179, 10906, 6361, 8568, 15741, 8468, 4410, 12070, 14277, 8368, 13690, 11352, 17517, 15666, 11608, 7419, 18294, 6963, 10534, 6832, 12772, 17707, 18550, 19914, 10434, 8583, 18094, 1856, 17632, 11723, 7665, 9385, 392, 12987, 11136, 9285, 16458, 13243, 9185, 16358, 18078, 19929, 4540, 4896, 2202, 19698, 16483, 12425, 6029, 17260, 11838, 2714, 19011, 19367, 5829, 5342, 20631, 16442, 8226, 953, 4524, 11953, 4680, 13704, 15424, 7664, 17175, 10779, 11135, 3019, 20159, 16944, 14506, 16713, 14406, 19697, 20184, 6646, 606, 6415, 150, 16803, 20399, 9199, 7348, 6630, 721, 17992, 6174, 9745, 6043, 1985, 11852, 7794, 9514, 1885, 2241, 4092, 5812, 20745, 12754, 1454, 20314, 16256, 13918, 4925, 6645, 9860, 4307, 13818, 7778, 8134, 4076, 19496, 8165, 13456, 4463, 17545, 2025, 5009, 18578, 4553, 16496, 14158, 3314, 2827, 17273, 6429, 13602, 17173, 20744, 9900, 20644, 7462, 3404, 11033, 20544, 16486, 18206, 9438, 1809, 5380, 14404, 15437, 13586, 13486, 17057, 9915, 8064, 7577, 3519, 5726, 7833, 9197, 1924, 3288, 3644, 18577, 3057, 14419, 14288, 619, 11850, 6072, 8279, 5972, 7692, 12006, 13370, 19179, 11419, 6187, 1121, 11996, 19394, 9783, 13254, 5625, 7832, 18707, 12798, 13154, 7145, 1236, 2600, 6914, 8278, 10485, 19996, 7691, 418, 13500, 3302, 10831, 16509, 1120, 17773, 12351, 15922, 2871, 2384, 13515, 15235, 14748, 12797, 11302, 3673, 3542, 14417, 8995, 2955, 19739, 10128, 2855, 15450, 5970, 20772, 17070, 317, 20672, 15606, 11904, 11417, 14988, 16839, 5508, 19854, 20210, 16152, 6672, 20110, 6928, 2383, 15465, 5985, 4134, 12019, 9681, 1565, 13283, 5523, 101, 19738, 778, 1134, 4349, 18274, 12009, 6812, 2267, 16192, 2654, 9796, 2523, 15118, 7489, 12711, 12580, 9009, 1380, 7158, 10985, 6440, 12249, 13613, 6340, 4489, 431, 13513, 13869, 8091, 7604, 4389, 2051, 16984, 4579, 1364, 5422, 18273, 16422, 19637, 19537, 13628, 17586, 19793, 346, 18719, 13166, 7257, 1348, 17124, 18488, 3586, 3099, 10728, 20595, 9264, 661, 20139, 19652, 5983, 430, 13999, 817, 5752, 6008, 5521, 19090, 9123, 1850, 13081, 11230, 1263, 16552, 17916, 12007, 10643, 6585, 1163, 545, 15965, 5998, 4147, 15734, 13396, 6610, 4172, 12709, 7287, 5336, 18287, 5105, 4618, 10883, 916, 8576, 10296, 4874, 4387, 15618, 11560, 18733, 12824, 7402, 12724, 1393, 16551, 20122, 10511, 931, 13526, 11675, 19335, 17484, 13426, 7517, 18617, 7417, 5079, 7155, 11244, 12477, 5691, 2897, 359, 17012, 11328, 2335, 3112, 14830, 12979, 12492, 15186, 20608, 6583, 12392, 14112, 6352, 930, 343, 19690, 15145, 6021, 11343, 5921, 3614, 1145, 12507, 10656, 12376, 10169, 2896, 14127, 10294, 19318, 12532, 10681, 10194, 16003, 10094, 7756, 127, 13209, 14929, 5936, 14342, 7556, 16580, 18656, 16349, 14498, 10440, 8589, 2680, 829, 6151, 729, 2093, 7515, 7871, 18746, 13324, 4200, 15431, 10886, 7184, 1275, 20622, 9291, 3382, 5102, 3251, 16464, 14613, 4515, 2664, 12175, 11688, 12075, 11588, 15646, 19217, 6166, 13208, 17135, 13077, 4084, 9375, 12977, 7555, 6968, 10539, 19919, 5017, 8101, 9952, 15761, 8488, 8001, 8257, 9621, 15430, 13092, 9390, 5332, 3481, 7570, 7083, 8934, 9290, 18314, 20521, 943, 18214, 11818, 487, 10192, 13794, 10223, 7885, 3827, 13694, 13207, 17165, 1776, 5347, 20280, 20149, 2909, 10925, 5016, 4785, 9751, 19131, 15429, 11371, 5949, 4098, 7669, 14842, 9420, 3511, 19156, 6851, 5000, 18569, 19933, 16231, 5031, 8602, 19833, 17982, 16131, 8502, 13793, 4313, 16031, 11973, 6064, 12750, 12775, 8717, 3164, 2577, 757, 1990, 12890, 14510, 8732, 6394, 4543, 12203, 10352, 6294, 8014, 2592, 741, 17394, 2848, 4081, 19014, 15312, 4112, 2261, 4468, 15343, 20178, 20047, 19947, 14525, 4558, 8129, 6634, 1212, 18352, 16014, 15071, 15427, 15814, 15327, 5847, 7211, 20780, 20649, 5029, 12558, 8987, 4442, 5285, 14309, 13822, 10607, 153, 13235, 10020, 2260, 19044, 1673, 16962, 18682, 13260, 16831, 11053, 3780, 20433, 9102, 12573, 6177, 9648, 1888, 19028, 13606, 8184, 5846, 193, 1557, 18210, 12788, 14052, 6779, 19861, 13821, 10250, 9763, 2490, 8168, 9532, 5830, 11639, 6994, 3292, 20076, 18225, 20432, 6894, 5043, 6407, 18125, 12216, 398, 1010, 523, 15325, 3638, 5845, 13505, 11167, 1587, 14669, 17753, 10836, 14794, 19729, 638, 11869, 9662, 4596, 16604, 7611, 18842, 15009, 7736, 5398, 19844, 10851, 1240, 18380, 14322, 4611, 14868, 5875, 191, 20546, 7364, 91, 15024, 11322, 16644, 6677, 4239, 13263, 4495, 306, 19297, 9817, 3808, 1370, 12601, 12114, 10263, 2634, 4841, 19512, 15354, 11652, 3536, 1685, 19312, 16974, 3436, 3792, 15154, 18725, 9245, 14536, 3205, 18625, 14080, 6320, 17807, 20014, 9916, 2287, 13518, 14882, 20460, 12700, 7278, 8998, 10262, 1138, 19642, 17791, 15840, 5873, 4022, 15384, 9475, 13302, 20444, 10864, 1740, 4824, 5311, 18393, 4855, 10633, 19557, 17706, 19070, 2317, 5757, 11435, 12699, 18508, 18021, 19641, 681, 19672, 14475, 806, 17459, 7492, 5641, 13301, 12814, 16872, 13201, 12614, 13978, 6705, 8425, 11896, 8681, 6730, 9845, 16887, 10978, 18151, 14093, 20358, 3249, 7176, 18407, 7076, 5225, 19540, 17689, 2787, 15382, 8109, 4051, 6258, 3920, 17489, 14795, 15638, 5184, 18978, 12713, 9498, 3589, 9398, 12482, 10762, 20142, 16084, 19555, 10431, 18968, 13059, 4066, 5786, 19580, 13184, 11333, 6042, 133, 2340, 11364, 5811, 10746, 16686, 12497, 10059, 4637, 13661, 835, 2555, 7977, 12066, 6157, 12612, 12512, 8941, 3032, 19685, 6859, 463, 1306, 17603, 19810, 20487, 10876, 18536, 19900, 12627, 1034, 11032, 4536, 834, 7520, 4305, 20371, 11378, 13454, 3974, 14618, 2313, 15395, 9973, 10329, 4064, 849, 4420, 6171, 11106, 13113, 10775, 5222, 18791, 12395, 16353, 10575, 11808, 6386, 14046, 5799, 733, 11964, 13684, 6055, 5924, 15, 19493, 19006, 46, 20757, 4881, 10690, 12410, 13774, 4781, 8221, 15750, 717, 11592, 8377, 6039, 17401, 16914, 19121, 16327, 14476, 17170, 10674, 2558, 20054, 14632, 18203, 963, 12194, 14401, 4434, 376, 732, 5798, 17516, 20500, 11507, 3747, 7318, 1409, 9038, 18549, 2021, 3385, 16954, 18318, 10558, 6500, 15880, 978, 6269, 6756, 15680, 1524, 19151, 15318, 7558, 18920, 9309, 5251, 3400, 18202, 10573, 17615, 8622, 2226, 4433, 5697, 20755, 7573, 2151, 18804, 12895, 2928, 18217, 12795, 16366, 10101, 18117, 10357, 10226, 2497, 646, 5581, 13110, 4117, 7201, 9052, 20770, 18919, 18432, 7588, 3043, 16481, 12423, 10572, 1092, 2456, 11961, 761, 630, 11861, 2381, 9067, 5852, 20298, 5396, 3414, 4547, 17398, 9769, 2496, 17429, 3760, 58, 14504, 13009, 15216, 7587, 3885, 16967, 18331, 14629, 18587, 9107, 6413, 991, 2711, 9884, 4331, 19264, 9784, 7446, 17182, 3513, 7602, 18215, 5033, 15908, 12206, 19866, 19379, 775, 5710, 2364, 8304, 17097, 13395, 16479, 11188, 5148, 18717, 14659, 16379, 12321, 10957, 1477, 5048, 19981, 18130, 17643, 12221, 2610, 13841, 11990, 17799, 13741, 17181, 5850, 15361, 14874, 10716, 20452, 20321, 8634, 4932, 2981, 287, 19765, 12005, 2394, 17327, 87, 5378, 20798, 12551, 5278, 1445, 16865, 10469, 16765, 14427, 17542, 15591, 13740, 17798, 9682, 17211, 15716, 17080, 6236, 2178, 20682, 15129, 14642, 16493, 18700, 11071, 1104, 1460, 4575, 19864, 4344, 17913, 9797, 4375, 7715, 1706, 19202, 18715, 2839, 5046, 16408, 5077, 15821, 12606, 15690, 19392, 10268, 4003, 4846, 8286, 10137, 15459, 8317, 2408, 4615, 3541, 14772, 11070, 3341, 14797, 12103, 8532, 772, 14341, 16548, 672, 2392, 5863, 18945, 8978, 20696, 16638, 20334, 14425, 9490, 6796, 10854, 14456, 1143, 2507, 16076, 13738, 15002, 6365, 4283, 16878, 1002, 1845, 12720, 6680, 15704, 13853, 1158, 5993, 19562, 17711, 19075, 15242, 15629, 12935, 2091, 9233, 6926, 1373, 12735, 12148, 17439, 2537, 3901, 4744, 17695, 4513, 455, 19315, 5777, 13306, 5190, 3339, 12719, 7297, 2877, 14239, 16446, 10050, 11314, 7743, 9463, 4041, 5761, 18843, 12934, 5792, 5305, 18743, 11114, 10627, 8776, 14941, 14454, 14810, 18412, 14354, 17338, 8701, 2792, 98, 4156, 14023, 9478, 5776, 13436, 11585, 11098, 3694, 19114, 15056, 16776, 4958, 20378, 3494, 17453, 6122, 1056, 10080, 17253, 13064, 5922, 2089, 18742, 3840, 18642, 12733, 20393, 18411, 17924, 12502, 8931, 11915, 715, 18080, 16229, 19444, 8113, 353, 2073, 7395, 16906, 12848, 6939, 18170, 16319, 4857, 799, 2906, 1055, 2419, 17708, 2219, 368, 4426, 13450, 3352, 15070, 7310, 2765, 14839, 11137, 20161, 1070, 14152, 10450, 6392, 9963, 483, 17136, 19343, 11227, 5674, 11127, 7425, 2003, 5574, 8789, 9401, 6707, 4856, 13003, 14367, 16087, 5243, 17838, 6507, 17738, 2218, 11729, 8027, 3482, 1987, 3707, 13218, 9160, 20391, 11267, 20160, 14738, 13664, 4671, 8242, 482, 251, 19242, 13820, 10118, 7424, 9631, 1871, 19142, 15440, 10895, 1284, 10795, 12515, 828, 1184, 12059, 13779, 2448, 15886, 7995, 366, 15655, 16919, 1399, 16332, 5001, 8472, 8828, 8341, 16001, 10448, 4539, 13563, 13919, 8141, 7654, 9861, 18885, 12976, 11125, 2001, 15083, 5603, 10894, 5472, 16834, 20405, 16703, 11281, 14365, 7092, 14265, 16472, 6992, 2447, 15885, 19843, 13934, 7538, 2016, 34, 14967, 11752, 1785, 1298, 18438, 7107, 5256, 20189, 18338, 15413, 24, 15800, 13462, 17033, 11967, 2487, 12644, 9429, 6735, 17966, 5271, 6504, 1082, 12444, 12313, 8255, 17766, 16271, 4453, 6660, 751, 2115, 10231, 16040, 13346, 11495, 2015, 3735, 15453, 11395, 12759, 13115, 4122, 1428, 3635, 7237, 18468, 12072, 10221, 19957, 16255, 16155, 11610, 6188, 2030, 179, 3750, 7221, 10336, 9328, 18708, 16857, 13576, 15783, 8154, 7567, 4352, 3865, 8410, 7467, 5616, 3765, 1914, 3278, 3534, 2816, 2847, 13947, 4467, 19269, 9789, 2029, 17087, 8840, 14549, 12467, 4351, 19153, 13731, 13244, 3764, 16715, 3664, 12557, 5284, 3433, 2946, 1095, 8855, 17879, 14177, 1126, 8268, 14433, 13946, 15797, 13846, 16053, 8424, 9788, 2515, 19168, 11895, 15466, 7706, 13159, 11308, 18450, 20301, 4912, 12572, 4681, 15912, 16755, 10846, 4937, 19870, 19383, 12110, 6201, 15712, 15581, 18696, 14994, 13143, 3663, 7234, 14894, 18465, 13399, 9341, 5639, 11092, 8623, 994, 19985, 18134, 13976, 19654, 6116, 3778, 17216, 18936, 11663, 13027, 332, 20687, 14291, 14647, 18736, 16398, 12340, 10976, 6200, 15711, 13373, 9315, 3762, 19538, 14993, 15380, 13042, 14762, 16613, 5282, 3431, 14793, 8753, 1124, 20115, 14562, 8653, 4851, 4233, 19653, 4264, 5884, 14777, 8868, 12339, 2859, 15810, 19768, 15710, 4379, 15966, 5512, 1354, 20701, 6676, 3817, 5081, 18519, 18032, 13974, 792, 13156, 4163, 19096, 19321, 16627, 14776, 11561, 9841, 5296, 230, 12825, 3345, 1494, 2858, 19867, 8667, 10874, 1394, 2627, 11651, 3014, 15122, 7849, 19436, 17585, 1709, 11576, 3360, 6931, 15824, 922, 19426, 12378, 1047, 19551, 3675, 19451, 15393, 13055, 17013, 15162, 7046, 3831, 9153, 12237, 10517, 20028, 8922, 4377, 20153, 14244, 9699, 10542, 7261, 7161, 9368, 17028, 12483, 14690, 7061, 3359, 18648, 10888, 12608, 16179, 5335, 8450, 4261, 2410, 11434, 9970, 5912, 1854, 20714, 14805, 16881, 19119, 12723, 20383, 18532, 16194, 8565, 805, 10316, 7978, 11936, 19465, 9367, 3945, 16440, 16796, 16309, 12251, 8549, 15622, 720, 6011, 6854, 13440, 3960, 9251, 20613, 15191, 18762, 12853, 15060, 16424, 7431, 3373, 3729, 12266, 19926, 18300, 1060, 20051, 17713, 12291, 6513, 8233, 6382, 4531, 13555, 11704, 17126, 6282, 14688, 5695, 9266, 20497, 12381, 3388, 16208, 10786, 8448, 10655, 2539, 16108, 15977, 4777, 4290, 10555, 20743, 17041, 12852, 1652, 3728, 16810, 16679, 3628, 3141, 8563, 14372, 12034, 7099, 703, 603, 2354, 19132, 18645, 9165, 8678, 16825, 10429, 8578, 5363, 1305, 6727, 8478, 131])\n",
            "Row(movieId=9, users=[9438, 5380, 15318, 14433, 19297, 10573, 10552, 6821, 15337, 6713, 10263, 16580, 10082, 16349, 879, 7644, 10440, 8102, 2680, 829, 3057, 15762, 16597, 729, 13701, 9245, 18675, 20476, 18625, 19481, 13064, 18465, 5639, 13370, 16543, 7969, 2547, 18742, 3382, 1531, 13270, 16464, 8623, 7738, 19985, 5300, 13976, 19267, 8931, 13816, 3857, 6564, 1092, 17135, 1746, 840, 12121, 17006, 6968, 2381, 12319, 18707, 10976, 12667, 14826, 9315, 3720, 6914, 18035, 1740, 5311, 3054, 3431, 7570, 14793, 19686, 19199, 8653, 2765, 487, 16509, 11566, 20161, 11335, 533, 16707, 18537, 11764, 19343, 20636, 19264, 7425, 5574, 19185, 1974, 17182, 18983, 19360, 4856, 3950, 7602, 5751, 5641, 7492, 8437, 2986, 13301, 12814, 9751, 11858, 1412, 5949, 12962, 8027, 20672, 971, 5508, 15883, 5081, 6801, 20391, 13139, 13445, 19833, 8502, 6622, 6928, 16837, 5048, 9564, 10043, 4134, 7176, 7482, 12019, 13820, 17014, 1167, 11461, 7424, 13283, 2858, 17689, 15084, 9094, 8667, 2627, 10845, 15361, 3920, 4886, 18374, 3014, 7551, 3770, 14920, 18572, 4505, 6225, 12940, 18341, 7489, 15824, 12711, 9642, 19580, 16886, 4539, 3675, 1316, 8170, 5811, 13919, 4439, 8976, 5274, 4389, 8368, 6517, 5603, 5980, 19947, 16834, 15716, 3084, 1212, 8922, 12066, 6157, 13249, 11398, 10534, 2703, 12612, 8533, 11677, 20570, 2016, 18648, 13603, 14438, 10380, 20318, 14380, 12000, 6222, 9285, 9264, 18715, 16458, 15413, 430, 2260, 7632, 17570, 4540, 8090, 10268, 19698, 1034, 19648, 6008, 2714, 9102, 7141, 19011, 19388, 20710, 5829, 18830, 4763, 18680, 18672, 17766, 8532, 12053, 3437, 17383, 193, 7437, 5188, 15453, 8659, 7237, 12130, 3019, 19324, 15622, 9713, 6854, 1932, 4089, 18056, 1243, 8974, 13113, 10296, 1214, 4387, 9382, 2507, 18304, 16076, 17440, 15191, 20105, 3292, 18733, 7402, 12266, 14046, 1393, 5799, 8972, 13357, 20122, 3767, 11964, 20051, 1010, 12291, 8254, 4531, 15325, 12720, 4989, 3138, 17126, 20757, 8481, 14819, 8431, 3865, 10690, 1985, 20497, 17753, 2241, 10786, 10655, 5691, 638, 4290, 7840, 10018, 5939, 20235, 12475, 20054, 8134, 882, 963, 5798, 376, 2206, 5269, 14830, 7099, 2025, 17864, 14112, 20102, 5009, 12719, 7297, 13177, 9983, 14868, 851, 191, 6558, 19690, 2877, 16446, 13731, 13244, 8330, 1455, 4251, 11322, 12686, 16825, 4091, 6756, 12934, 4239, 18714, 16486, 20544, 1961])\n",
            "Row(movieId=10, users=[3958, 18760, 9767, 5709, 7916, 6842, 3627, 3140, 16709, 12164, 14371, 10800, 6742, 17973, 10213, 8718, 10082, 12189, 15791, 15304, 13453, 17024, 17511, 7544, 1635, 19262, 9651, 20526, 18675, 6857, 1435, 17957, 12535, 16106, 17857, 12435, 10097, 2337, 7559, 7072, 8923, 9279, 3757, 1063, 8692, 18559, 20279, 5246, 1188, 14270, 17841, 8361, 2452, 16021, 17741, 12319, 8261, 5923, 17641, 13583, 1765, 3972, 15334, 9425, 7930, 6079, 7312, 5461, 14972, 14485, 16336, 5492, 5005, 16236, 18443, 11170, 10683, 3054, 4774, 5261, 14285, 15649, 16005, 16492, 17856, 10096, 2467, 4187, 15905, 11847, 7789, 8145, 4087, 19245, 11029, 19045, 13136, 9078, 2682, 16120, 4689, 631, 1995, 6053, 6278, 17640, 19360, 19847, 10367, 6309, 3971, 20624, 2020, 3740, 16822, 3153, 16722, 18086, 12177, 8606, 5391, 10813, 14284, 14640, 5160, 4673, 971, 12333, 6424, 8631, 17168, 13953, 6193, 3499, 3855, 7457, 2035, 14630, 11415, 9564, 6870, 18457, 16119, 14268, 11184, 4788, 2350, 499, 9879, 19390, 1663, 5621, 3770, 4126, 19059, 18572, 11299, 10812, 7110, 5259, 18341, 8374, 15903, 4703, 15447, 17654, 10025, 13852, 11514, 2390, 13621, 3167, 1316, 14398, 5274, 12447, 11960, 13811, 2480, 8258, 16049, 8289, 17407, 298, 19645, 13249, 9678, 11042, 5976, 3282, 5489, 16364, 14513, 12662, 10942, 10811, 3182, 16751, 12562, 14282, 1231, 19735, 2495, 4571, 20347, 15802, 11744, 12100, 2133, 6222, 9793, 3753, 17322, 9693, 3553, 19850, 14653, 4686, 2835, 984, 20462, 18124, 11628, 18801, 16950, 3412, 20552, 16850, 7370, 9577, 18957, 17106, 11197, 12917, 5288, 3437, 1586, 4801, 18726, 5188, 8759, 15445, 8659, 8172, 6321, 18039, 12130, 5734, 14758, 16965, 1932, 18585, 20792, 1832, 4916, 7610, 8974, 18485, 18841, 11212, 8874, 3452, 1601, 20105, 12832, 12345, 20005, 15947, 16303, 12245, 10038, 10394, 17567, 17436, 19643, 10163, 19056, 9576, 18956, 14411, 8989, 5774, 18856, 4831, 2493, 16062, 19633, 2393, 542, 2749, 8171, 17551, 11642, 10278, 4369, 16964, 7840, 80, 15500, 11211, 5302, 8873, 20235, 10755, 13839, 14195, 8642, 2733, 882, 17666, 15815, 10393, 9906, 2633, 17079, 13864, 10293, 7955, 682, 2046, 15128, 11426, 6004, 3310, 16879, 18599, 13177, 11326, 3697, 1846, 4930, 18855, 20575, 11095, 8757, 6906, 12846, 19888, 12259, 18037, 19788, 15243, 3912, 4268, 13292, 9721, 1961, 3325, 13061, 11210, 12574, 5301, 20590, 7408, 1012, 12730, 19903, 19416, 325, 18829, 10061, 8210, 581, 15383, 8110, 18985, 15283, 14796, 12945, 4829, 20605, 12845, 8787, 10507, 15473, 17680, 2291, 6605, 13647, 465, 9489, 5431, 1242, 14324, 10753, 8902, 4844, 6564, 20133, 12373, 2893, 1398, 2531, 11911, 224, 3795, 17364, 6033, 11324, 4182, 16646, 3595, 14826, 16546, 16415, 20017, 16315, 14464, 17579, 12157, 12513, 19786, 4397, 3910, 17835, 595, 16892, 11470, 11826, 11339, 17248, 9488, 1859, 5430, 7050, 5199, 11008, 12728, 6463, 2761, 18537, 18050, 10421, 15743, 13405, 11554, 4412, 9734, 15025, 3825, 7396, 2330, 18983, 3950, 20603, 12487, 4727, 2876, 18652, 4627, 4983, 925, 4040, 17965, 4652, 14032, 7767, 9974, 18998, 13445, 14809, 5329, 12989, 16560, 7436, 4742, 11007, 16460, 15973, 8213, 940, 2304, 19669, 8825, 19700, 10089, 4180, 2329, 3693, 19469, 18982, 9502, 10866, 7164, 1742, 20733, 20246, 10766, 5344, 16088, 9040, 924, 16700, 16213, 824, 11924, 9717, 4295, 3708, 5915, 11368, 11724, 1757, 19253, 5584, 1039, 16815, 10906, 6361, 8568, 15741, 6617, 16128, 14277, 8368, 6517, 15541, 11352, 4079, 17517, 13459, 12972, 15666, 7419, 18294, 16343, 18063, 18550, 19914, 10434, 8583, 15625, 4294, 17507, 11954, 15525, 9747, 17632, 13443, 392, 1625, 7434, 3376, 16458, 5127, 838, 2202, 19698, 12425, 6029, 11838, 5829, 5342, 16573, 10664, 14622, 12771, 8226, 953, 2673, 822, 8482, 722, 2929, 4680, 2829, 4193, 491, 6044, 19126, 13704, 15424, 2242, 17175, 10779, 7077, 3019, 20159, 9053, 16713, 12655, 8953, 20184, 16126, 15639, 14175, 5928, 506, 17159, 11250, 9299, 9199, 7348, 1795, 20430, 8481, 6630, 2572, 721, 3836, 6043, 17405, 11852, 11365, 6074, 1885, 877, 5812, 9901, 12985, 11134, 2010, 15223, 3274, 14505, 20314, 16256, 13918, 8009, 4307, 17876, 7778, 992, 9985, 8165, 7678, 4463, 8034, 17545, 11149, 5727, 5009, 18578, 3189, 2702, 4553, 17860, 2827, 19611, 12338, 14058, 17273, 6429, 33, 20744, 9900, 9413, 18793, 13371, 14735, 5742, 5124, 20544, 16486, 18206, 17875, 11379, 5470, 15337, 11279, 5857, 7577, 16826, 12768, 10917, 18577, 19941, 9453, 6759, 10817, 3057, 14288, 6659, 619, 20097, 13701, 11850, 8279, 4121, 7948, 188, 13270, 20412, 7230, 20443, 18592, 7130, 13816, 8881, 1121, 11996, 14203, 6799, 890, 8032, 15205, 9783, 2154, 3874, 7832, 16856, 12667, 12211, 12567, 10847, 3087, 1236, 14674, 6914, 6427, 8278, 10485, 7691, 2269, 4476, 8534, 13013, 20542, 3302, 16384, 9111, 10831, 16509, 16022, 633, 17773, 15922, 533, 11764, 11277, 15335, 13515, 20557, 12797, 3673, 8864, 1235, 20226, 20095, 2986, 4706, 4219, 1004, 6070, 10128, 15937, 20772, 18921, 17070, 15606, 11904, 10053, 9566, 5508, 15019, 17226, 5408, 1350, 3070, 18003, 12581, 14788, 16152, 20210, 7028, 6541, 17903, 17772, 663, 15465, 10043, 5985, 7705, 16077, 9812, 9681, 19192, 18705, 5523, 9094, 1821, 14903, 14416, 12565, 878, 19738, 778, 2985, 18274, 12009, 13729, 19638, 10870, 6812, 2267, 4474, 15836, 12134, 2654, 6225, 2523, 2036, 16969, 15118, 18233, 13167, 7745, 9109, 1349, 18133, 12711, 14918, 12580, 9009, 7158, 10985, 6927, 5076, 17671, 12249, 13969, 7704, 5853, 431, 12149, 13513, 19291, 7604, 4389, 2538, 2051, 13413, 16984, 13282, 19191, 9224, 5166, 8637, 4579, 5422, 3084, 18860, 10613, 16422, 15935, 13628, 13984, 17199, 8075, 4017, 9826, 5637, 18719, 13166, 7744, 17124, 13066, 3099, 20595, 12966, 20108, 8908, 2999, 19652, 20008, 11892, 2768, 17570, 8090, 5752, 330, 17339, 6008, 19090, 14545, 1850, 20710, 13081, 11230, 18016, 1263, 2983, 1132, 17916, 12007, 6585, 6941, 8792, 5998, 8205, 6710, 15734, 10181, 2552, 19205, 10081, 6023, 114, 19105, 17254, 18487, 7287, 8420, 18287, 18156, 19907, 18056, 4874, 4387, 15749, 15618, 9709, 7402, 6915, 18146, 9022, 18758, 16907, 12849, 12362, 15833, 4989, 931, 13526, 16997, 9724, 7386, 18617, 7417, 7286, 9006, 12477, 3484, 20006, 10526, 2897, 4617, 559, 14484, 19450, 18963, 5781, 359, 2566, 11946, 9608, 7757, 3112, 15186, 14699, 7070, 6583, 14599, 11905, 15963, 930, 11805, 474, 830, 343, 699, 19690, 11930, 6021, 112, 5921, 4070, 14814, 3614, 5334, 12507, 7085, 6598, 10169, 10656, 14127, 10425, 4872, 8474, 6623, 9838, 10681, 16003, 9738, 7756, 127, 1491, 19118, 13209, 5936, 9507, 3598, 14342, 7069, 16580, 20151, 20020, 15962, 14111, 14498, 10440, 8589, 4887, 829, 7515, 13324, 4200, 7771, 10886, 7184, 1631, 20622, 16433, 8804, 5102, 3251, 16464, 3151, 2664, 12175, 13895, 15746, 2695, 3051, 19704, 20481, 13208, 17135, 4084, 9375, 8919, 8332, 2910, 6481, 10539, 17712, 19919, 9952, 19950, 6281, 8001, 372, 17381, 12315, 3712, 15430, 7670, 3612, 5332, 3481, 5819, 9390, 20265, 16563, 7570, 8934, 17827, 17727, 19447, 19703, 15645, 10223, 3827, 2363, 512, 25, 20380, 17165, 5834, 5347, 3496, 20280, 20149, 10669, 6967, 2909, 20180, 9074, 10794, 5372, 4785, 6149, 17380, 9751, 7900, 2478, 6049, 9620, 19131, 11858, 13222, 5949, 14842, 18413, 9420, 1660, 8702, 14024, 16231, 15775, 17982, 15644, 4313, 13824, 16031, 11486, 6064, 12750, 5477, 3495, 11511, 7453, 12288, 10924, 19817, 8617, 4915, 14295, 19261, 18774, 16923, 11626, 16948, 14154, 6881, 6394, 8601, 10352, 6294, 8501, 741, 20088, 17394, 9634, 19014, 15312, 9534, 4112, 13492, 12905, 20047, 11054, 9203, 12318, 14525, 6634, 16014, 2476, 13607, 15327, 5847, 1658, 3409, 4773, 17855, 18567, 20318, 10838, 12558, 8987, 4442, 5285, 14309, 15673, 11971, 19244, 10251, 2491, 640, 17780, 7813, 5862, 1542, 16962, 18682, 13260, 20533, 20433, 18582, 11309, 9102, 5400, 16631, 4813, 2475, 9648, 2019, 1888, 17308, 18672, 8184, 2144, 17077, 9804, 11037, 193, 18697, 12788, 5515, 5028, 14408, 10837, 6779, 18010, 13952, 17523, 2621, 9763, 2490, 6448, 11770, 18912, 11639, 4010, 5630, 1572, 3292, 14654, 20432, 12216, 14423, 10365, 1010, 4581, 15943, 15325, 9547, 3638, 3994, 9447, 4025, 2174, 5745, 9316, 11167, 20678, 16976, 16489, 20547, 3438, 1587, 6878, 8729, 16389, 17753, 18365, 7034, 2976, 2489, 638, 18265, 10018, 2289, 1802, 18942, 13520, 11669, 13033, 7611, 1702, 18842, 7736, 16760, 18480, 20331, 10851, 4942, 1240, 20231, 14322, 1140, 8313, 13635, 13148, 14868, 5875, 4024, 322, 191, 13760, 15124, 7364, 1455, 11322, 5413, 18495, 16644, 12099, 10735, 6677, 19759, 14337, 10635, 6577, 2519, 668, 6090, 13263, 12255, 15826, 12124, 6346, 4495, 2644, 9917, 15470, 15726, 9330, 5659, 3221, 12601, 10263, 4841, 19512, 17661, 908, 421, 17692, 18048, 11652, 1685, 14767, 9345, 9245, 6907, 9114, 998, 3205, 20476, 18625, 14080, 4956, 3461, 2974, 8783, 17807, 11767, 8196, 4007, 19427, 14882, 4038, 2187, 1700, 16758, 18478, 5427, 1725, 3089, 14320, 2989, 1138, 2889, 12269, 5873, 1815, 9475, 19211, 13302, 16873, 9600, 10864, 3591, 1740, 10733, 8913, 10633, 3004, 13617, 1930, 2317, 9815, 16757, 11335, 3706, 5070, 10748, 3119, 781, 681, 19672, 16326, 937, 4021, 806, 17459, 350, 5641, 7492, 17359, 13301, 119, 16772, 9012, 4954, 10276, 1283, 13416, 9845, 16887, 10978, 6920, 18151, 14093, 14449, 7176, 10747, 1136, 18407, 20127, 20614, 14218, 17820, 2787, 6358, 15869, 8109, 4051, 3920, 5671, 3820, 18978, 12713, 14920, 3589, 1738, 9398, 12482, 10762, 14720, 16084, 10175, 4166, 4066, 5786, 1953, 19580, 16886, 7893, 13184, 6042, 9126, 16786, 13084, 3604, 4968, 5811, 10746, 20157, 1066, 13661, 13174, 11679, 2555, 3919, 12066, 19208, 6157, 15050, 7777, 17157, 16570, 8941, 7090, 2545, 2901, 19685, 6859, 5008, 1306, 19810, 17859, 13801, 10876, 19900, 14347, 1296, 2660, 15967, 11032, 1065, 6843, 834, 10991, 3362, 3718, 9140, 15080, 9171, 16669, 12611, 13454, 9396, 2123, 1636, 14618, 6371, 19940, 9486, 10329, 849, 362, 2213, 15164, 6171, 7535, 11106, 1882, 13113, 5353, 5222, 18791, 8824, 6973, 15866, 2328, 14046, 17130, 5799, 3948, 733, 2940, 13328, 19493, 19006, 3130, 1279, 20757, 12510, 10659, 1179, 10690, 6988, 8221, 16012, 15881, 17601, 15750, 19808, 3055, 261, 13699, 5583, 5939, 5452, 14963, 16327, 17170, 12525, 11161, 2558, 20054, 18203, 8592, 863, 3947, 5798, 17516, 15665, 17029, 3847, 632, 11507, 14591, 15078, 9169, 7318, 10889, 19036, 18549, 12640, 5723, 1178, 2798, 12178, 978, 8120, 17987, 17500, 2111, 15062, 7433, 1524, 5838, 3500, 18920, 18433, 11160, 9309, 5251, 3400, 18333, 20053, 18202, 10573, 10442, 12324, 17615, 8622, 6284, 15308, 13457, 6184, 5697, 19491, 5953, 14846, 13026, 16366, 10101, 8150, 10357, 8375, 13697, 9639, 415, 18919, 18432, 5381, 5737, 3043, 16481, 12423, 1092, 2456, 20083, 14043, 6283, 11961, 9754, 630, 15076, 10141, 3745, 5952, 43, 5852, 16727, 14876, 20298, 3545, 1076, 18216, 16365, 14514, 4547, 845, 15778, 6785, 9769, 2496, 17429, 15091, 11876, 3760, 58, 14504, 13009, 20538, 14629, 10571, 9107, 860, 19364, 6182, 19264, 7446, 3744, 17182, 429, 7571, 1662, 18933, 11173, 3900, 20066, 14644, 18215, 4677, 5033, 12693, 8635, 875, 19866, 18015, 12106, 9899, 4477, 9768, 775, 5710, 157, 8304, 2395, 8173, 13139, 11157, 18948, 11188, 10701, 5148, 18717, 10957, 1477, 18130, 19494, 10501, 15561, 5950, 17799, 13741, 15461, 15361, 16494, 10716, 2825, 20452, 16750, 14899, 12592, 16163, 8403, 2981, 1130, 2494, 12005, 3758, 17327, 17196, 9567, 5865, 5378, 3527, 13038, 11187, 1707, 9205, 16865, 18229, 10956, 10469, 6767, 16765, 14914, 14427, 16278, 2609, 18029, 16178, 14327, 13840, 17542, 8418, 6080, 2022, 16955, 6111, 9682, 3773, 4129, 17342, 17211, 9582, 6236, 7469, 20682, 13409, 18700, 14642, 1104, 18244, 16393, 13178, 15806, 8533, 4344, 12135, 9797, 7946, 5864, 2649, 18946, 13393, 1706, 16508, 2839, 5046, 18615, 8648, 3226, 4590, 10012, 15690, 6697, 2639, 8061, 2508, 10268, 15946, 19517, 19548, 11788, 3541, 19317, 18830, 3928, 11101, 12334, 3341, 1490, 5061, 14797, 16161, 8532, 772, 2979, 14341, 16061, 8301, 5863, 17094, 341, 16638, 5307, 8878, 18614, 19978, 10854, 3581, 1143, 16076, 14225, 11531, 13738, 13638, 15002, 4283, 225, 12720, 6680, 6711, 5993, 571, 84, 17711, 13391, 340, 3911, 15629, 12935, 5662, 1960, 3324, 12704, 10497, 16306, 13968, 14355, 15588, 4388, 2537, 686, 17695, 12273, 8215, 2306, 455, 17595, 13537, 19315, 9348, 13306, 14570, 12719, 7297, 8661, 10768, 14208, 5215, 4728, 14239, 16446, 8330, 10050, 2421, 11801, 2321, 4041, 5892, 11701, 14785, 5792, 7999, 18874, 15172, 16536, 11114, 1503, 20494, 14941, 12603, 6594, 2892, 17338, 6007, 4156, 98, 14023, 9478, 6263, 5776, 354, 1718, 13436, 8891, 5676, 11098, 3694, 15056, 16776, 4958, 8816, 10080, 8229, 600, 5891, 17253, 18973, 13551, 17122, 19460, 5922, 5660, 3840, 10982, 12733, 18542, 17924, 10295, 6237, 2535, 17468, 715, 19444, 8113, 2204, 353, 3924, 19344, 18857, 17006, 7395, 16906, 11484, 9146, 1386, 16806, 6708, 2650, 13881, 4757, 1055, 2419, 16344, 12286, 11799, 17708, 4526, 468, 5890, 15270, 4426, 17021, 13806, 3352, 20492, 6823, 914, 14839, 11137, 1170, 6492, 1070, 3277, 17236, 14021, 8599, 483, 2203, 17136, 16905, 11127, 3854, 5574, 8558, 4856, 3005, 14367, 17938, 17838, 6507, 8227, 6376, 10078, 17738, 4069, 12962, 3482, 19127, 17276, 13218, 7796, 7309, 3607, 18540, 13118, 19904, 9416, 5358, 20160, 10193, 1200, 1069, 4671, 613, 2333, 6035, 6160, 16904, 10118, 1871, 19142, 15084, 7193, 1771, 1284, 14366, 12515, 10308, 828, 12546, 12059, 13779, 17481, 19944, 12184, 13548, 8613, 17506, 18770, 2017, 1399, 16332, 4870, 12043, 3406, 8341, 16001, 481, 13563, 8141, 7654, 9861, 12976, 9274, 2001, 11512, 15083, 7810, 3265, 5472, 16703, 11150, 3390, 16472, 15985, 2934, 2447, 15885, 9976, 13934, 6305, 7538, 5231, 2016, 34, 1785, 18438, 14736, 7107, 5256, 1067, 20189, 18338, 20545, 12429, 19471, 6420, 5933, 9991, 15800, 13462, 8396, 2487, 15082, 49, 16702, 9429, 6991, 6504, 12444, 8742, 16271, 10362, 9875, 10231, 10718, 16040, 13346, 10131, 7437, 2015, 3735, 15453, 12759, 4122, 20288, 11295, 12659, 12528, 6750, 3535, 1197, 18468, 18337, 12072, 12428, 10833, 10346, 6288, 2617, 6188, 19139, 11510, 3750, 19039, 16732, 12674, 18096, 10823, 10336, 9328, 6990, 2932, 20559, 12799, 19972, 13576, 15783, 8154, 881, 11625, 8054, 7567, 2014, 5616, 5485, 3534, 20674, 18336, 16485, 19956, 2847, 5054, 9989, 19856, 13591, 13947, 14434, 8525, 19400, 17062, 19269, 6087, 534, 9071, 5369, 18938, 17087, 8971, 5169, 1111, 3318, 8153, 524, 37, 19515, 11755, 6558, 3864, 10129, 162, 19153, 13731, 4251, 62, 18566, 20773, 3664, 5871, 7104, 17102, 3433, 1095, 18366, 17879, 14177, 10731, 19755, 4366, 2515, 6086, 7937, 19168, 18681, 11895, 16830, 7706, 18581, 12672, 18450, 7606, 4912, 18481, 14779, 6663, 3448, 10846, 4450, 15812, 12110, 6688, 6201, 8052, 16068, 15581, 7952, 10159, 192, 3763, 18696, 16845, 14994, 10936, 1943, 7234, 7721, 20803, 13399, 11548, 9341, 11061, 5639, 20085, 2845, 19985, 18134, 12225, 19885, 19267, 4365, 6116, 11051, 3778, 17216, 18936, 5754, 14778, 14291, 18349, 5654, 18736, 10489, 2860, 4580, 10389, 2629, 17562, 9802, 11522, 19538, 14993, 15380, 14762, 5282, 14793, 12942, 12224, 19884, 19653, 15595, 3777, 20786, 3546, 17115, 16628, 8868, 12339, 15810, 6686, 15710, 15579, 4379, 5512, 1354, 18494, 13072, 20701, 7388, 115, 6801, 16312, 692, 13156, 19096, 17470, 11205, 9841, 7990, 230, 16396, 3345, 5065, 16783, 19867, 8667, 10874, 3114, 2627, 16196, 11651, 807, 15122, 13271, 4278, 7849, 17585, 5898, 1709, 9369, 5667, 7031, 12840, 1509, 5080, 15824, 2773, 2642, 12153, 14229, 15593, 11891, 1047, 13642, 4162, 6369, 5782, 18377, 15162, 20584, 7046, 19997, 10517, 20028, 4377, 9699, 4277, 10542, 7648, 15177, 12483, 14690, 9268, 10632, 5435, 18648, 12608, 7186, 6699, 14359, 690, 13772, 6012, 9583, 103, 15523, 9970, 1367, 20714, 18863, 12598, 20227, 19119, 15061, 13210, 12723, 18532, 13987, 2656, 8434, 19796, 10316, 8465, 4763, 17483, 7516, 16896, 12838, 3845, 18160, 12251, 5465, 6729, 2540, 13902, 15622, 720, 7862, 4160, 8218, 7631, 5780, 20713, 15291, 13440, 20613, 15191, 13340, 11489, 12853, 15060, 16424, 20126, 7431, 8795, 11002, 18175, 12266, 4993, 14017, 17588, 18300, 10184, 6482, 1060, 17844, 6513, 8233, 6382, 19464, 13555, 14919, 6282, 3944, 20597, 3357, 20497, 16439, 12381, 6472, 12637, 7084, 3026, 8448, 10655, 14257, 10555, 4290, 588, 12306, 9612, 2339, 13083, 17041, 16554, 11132, 7074, 1652, 9281, 16679, 7199, 1777, 3141, 19794, 17943, 12521, 12034, 7099, 10183, 6512, 6025, 13554, 2354, 1867, 17512, 15174, 7901, 19132, 16794, 8678, 13123, 10916, 8578, 1305, 4776, 231, 17371, 7760])\n",
            "Row(movieId=11, users=[12255, 13975, 12124, 2207, 306, 3958, 17040, 1570, 9767, 12801, 18660, 9180, 3140, 9130, 7279, 3221, 8512, 16709, 14015, 14371, 16222, 883, 6742, 12114, 8899, 4841, 17973, 19693, 8493, 19512, 2759, 4123, 421, 13990, 15791, 5743, 15254, 13403, 15123, 17461, 1635, 3792, 15073, 7394, 18675, 16337, 8708, 6857, 1435, 14080, 4956, 17957, 14055, 4007, 8146, 13518, 11667, 7609, 1700, 7559, 5708, 15269, 8923, 18303, 16758, 13543, 18478, 16708, 3089, 18509, 16121, 17841, 18328, 1138, 10568, 4740, 4253, 10518, 15971, 5873, 17641, 13583, 4022, 9475, 15203, 7930, 19211, 13302, 9600, 7262, 14485, 5492, 8526, 17956, 11170, 5261, 4774, 8913, 18343, 14285, 16492, 10227, 6525, 2467, 4187, 17525, 691, 13823, 16888, 11335, 4889, 13086, 781, 19772, 8360, 13863, 4739, 19672, 13763, 15970, 16326, 19897, 2170, 10367, 6665, 400, 7492, 20624, 17409, 11581, 17359, 3153, 16722, 12177, 3540, 6705, 1283, 2822, 12333, 18111, 19475, 17655, 17168, 13466, 6193, 11696, 13416, 9845, 18788, 2035, 16887, 20539, 13266, 14630, 14499, 18151, 961, 10747, 18457, 1136, 11184, 12417, 4788, 20127, 7076, 986, 2350, 14068, 12167, 1663, 15638, 5671, 1613, 5621, 13150, 9398, 12482, 10762, 18341, 1151, 14720, 4672, 15903, 15316, 4066, 15347, 3754, 16886, 1903, 7893, 13621, 3604, 5811, 14398, 5274, 12447, 11960, 4818, 16049, 1066, 13174, 6157, 9728, 17438, 3282, 15050, 5489, 14513, 10942, 12612, 7190, 19835, 4852, 16570, 7090, 17884, 2901, 2495, 8579, 463, 11744, 19810, 6141, 12000, 6222, 9306, 17859, 13801, 9793, 9743, 132, 8619, 1346, 14347, 1296, 14653, 9231, 7380, 6893, 11032, 12165, 19388, 4305, 9321, 14643, 9577, 20371, 9171, 16669, 13454, 18957, 11197, 12917, 5288, 3437, 7008, 10710, 9296, 7445, 18726, 6908, 14618, 8659, 6808, 19940, 10329, 12130, 6171, 11106, 16965, 18585, 20792, 8974, 10775, 5353, 18485, 18841, 12932, 4816, 1601, 1114, 16534, 5122, 12832, 12345, 2428, 10494, 1014, 10575, 4666, 20005, 6336, 14046, 5974, 65, 9576, 7238, 5337, 1279, 20757, 3567, 1179, 10253, 4831, 6551, 10690, 16062, 17782, 2393, 8171, 14030, 15750, 19808, 10278, 11998, 667, 11948, 19658, 16964, 261, 6120, 7840, 19121, 13699, 5939, 16864, 11211, 8517, 16714, 11161, 20235, 10755, 13839, 20054, 16352, 882, 12163, 8055, 5798, 17566, 15228, 7955, 17516, 17872, 682, 2046, 4334, 15128, 11426, 11507, 18649, 13177, 12690, 16748, 18549, 4930, 1665, 17004, 16517, 12459, 2021, 14616, 18187, 6500, 3285, 17781, 12715, 12228, 9144, 14516, 19888, 2111, 5632, 17300, 18664, 7689, 11210, 18920, 7002, 4664, 20003, 10442, 4533, 17615, 10342, 19416, 12143, 6234, 7598, 6184, 11375, 3615, 13045, 8110, 5416, 1714, 18317, 20605, 12845, 16366, 8325, 17399, 14184, 7738, 20770, 14861, 18432, 1242, 14324, 16531, 10753, 4844, 16481, 2943, 16075, 18232, 14043, 10828, 6283, 17564, 17514, 2531, 4819, 1117, 11555, 4282, 16927, 15076, 580, 93, 2381, 15513, 16877, 3745, 10918, 5852, 1794, 11224, 18934, 3464, 20248, 5265, 1076, 7422, 20067, 1026, 12307, 20017, 17629, 8018, 19786, 4397, 3910, 17398, 9232, 3760, 16892, 11339, 9132, 16842, 7281, 14504, 9488, 17017, 2034, 6463, 4612, 2761, 16330, 19314, 13405, 9784, 7446, 3744, 16876, 7396, 1974, 17182, 1662, 18933, 3950, 11173, 7115, 18215, 1025, 5033, 10049, 12206, 19916, 18065, 19866, 19379, 4040, 12106, 4477, 17965, 2139, 5710, 14132, 13595, 14032, 17197, 13139, 3578, 11188, 9337, 11138, 5229, 10957, 1477, 14609, 17693, 990, 10907, 6849, 8213, 19569, 11453, 3693, 2279, 18982, 15361, 7114, 18882, 1205, 10766, 10716, 2956, 16088, 9040, 12692, 8453, 2981, 1130, 15626, 16063, 11518, 17327, 3708, 6, 9567, 7716, 3658, 16790, 13575, 5378, 11237, 20798, 10931, 1757, 13038, 3558, 9205, 1445, 16865, 16378, 10956, 16815, 10906, 6361, 16765, 14427, 15741, 18029, 4410, 14327, 17898, 2509, 658, 8368, 6517, 17798, 6111, 9682, 9551, 9632, 17342, 17211, 17517, 13459, 7469, 20682, 16493, 1947, 16443, 16880, 6832, 4575, 8583, 2574, 236, 11517, 4375, 7946, 18946, 2112, 5277, 11136, 2012, 1525, 16458, 2839, 20466, 5077, 3226, 19929, 2739, 6797, 2202, 6697, 2995, 19698, 3351, 12425, 2864, 10137, 14095, 8317, 19111, 557, 11838, 9987, 2177, 5829, 9350, 7012, 15209, 20094, 2904, 10970, 3341, 16473, 5061, 14135, 8226, 16161, 14391, 13904, 8482, 20250, 6631, 14697, 10639, 4730, 4680, 2829, 14110, 5863, 391, 10829, 5357, 3506, 16638, 3019, 20159, 9184, 10904, 9053, 18614, 14556, 9490, 10854, 16713, 16226, 1243, 14406, 15639, 16076, 250, 4258, 17746, 8266, 6415, 150, 19060, 5928, 17159, 225, 1845, 7348, 10432, 12720, 1258, 15704, 9745, 4323, 15604, 5993, 11852, 11365, 15504, 5812, 340, 2060, 7563, 2141, 4348, 5712, 13291, 1960, 18257, 6926, 10934, 13968, 16206, 17439, 4388, 19240, 199, 7778, 17695, 19496, 2306, 455, 5877, 9348, 17545, 13000, 11149, 1438, 18578, 16240, 2702, 14208, 10637, 2958, 16446, 8330, 4628, 17273, 14058, 6429, 2371, 11801, 13521, 7743, 9463, 4041, 2140, 1653, 12934, 15222, 5742, 1503, 14635, 18206, 10933, 20494, 9438, 14941, 14273, 19776, 20032, 17338, 4156, 6363, 11379, 14023, 15337, 11279, 5857, 17138, 13436, 8891, 5676, 9197, 4131, 16776, 20784, 14875, 9097, 20378, 9453, 16676, 6759, 10817, 850, 7196, 3494, 619, 6609, 213, 17759, 12337, 11850, 6559, 6428, 6022, 3684, 5891, 17253, 2089, 12006, 1958, 7948, 7411, 10982, 3222, 18155, 11369, 20443, 5460, 18105, 7130, 16691, 18055, 10295, 17955, 2485, 14253, 17824, 4236, 17593, 13354, 7576, 17006, 9633, 9146, 12667, 2906, 16038, 2419, 6914, 2725, 2269, 17121, 4426, 368, 318, 12782, 20492, 15070, 9111, 11137, 16640, 5228, 1170, 2890, 1070, 12351, 533, 14021, 18987, 13515, 14748, 10640, 5574, 6707, 4856, 20195, 3005, 7144, 9351, 16574, 5243, 14673, 20176, 10128, 2855, 15987, 11929, 4219, 6426, 10078, 10028, 8177, 15887, 17070, 12962, 6176, 9616, 15606, 10053, 5508, 3657, 17226, 5408, 11267, 5358, 813, 14788, 14738, 6135, 17903, 6978, 17853, 15465, 5985, 19473, 3822, 2052, 201, 10118, 151, 1821, 3185, 7324, 5473, 1771, 14903, 14416, 878, 13002, 12059, 13779, 20125, 18274, 2448, 14085, 10870, 2267, 416, 12184, 11697, 2217, 6225, 13935, 6175, 7489, 18770, 18233, 5051, 19026, 12761, 16332, 12630, 10860, 12580, 9009, 4951, 19803, 7158, 10985, 7704, 431, 13563, 8141, 6290, 9861, 13513, 17084, 2051, 9274, 18835, 7423, 5166, 15083, 5472, 4935, 11150, 14265, 16372, 17199, 3967, 7538, 13397, 9826, 346, 3430, 1579, 16918, 16868, 13653, 16687, 20776, 3586, 3099, 1248, 10728, 5256, 20595, 2999, 19652, 20008, 19521, 611, 9991, 9454, 817, 9404, 2487, 6008, 9660, 15338, 11280, 16702, 20710, 13081, 18016, 14314, 8892, 6504, 5998, 8205, 6660, 10231, 2115, 13883, 12032, 13396, 6610, 4272, 10131, 7437, 2015, 6023, 20519, 9594, 15453, 1478, 19105, 1428, 20775, 16230, 14379, 12528, 18437, 9444, 6750, 12122, 10808, 18468, 12072, 5105, 10883, 10833, 18056, 4874, 8039, 2617, 7552, 12047, 11510, 13667, 7402, 10973, 5064, 3163, 16295, 4964, 10823, 8972, 12362, 12799, 2832, 15833, 13982, 19972, 10898, 3088, 8460, 8054, 2014, 7517, 13326, 7417, 18698, 11213, 9006, 2220, 5791, 7155, 11244, 18823, 20006, 11013, 4617, 9839, 2335, 17187, 17087, 8971, 20252, 8840, 7070, 6583, 14112, 19615, 14549, 17714, 524, 15376, 2244, 4095, 17177, 343, 19690, 19640, 19153, 5971, 9623, 9979, 3664, 3614, 7054, 20623, 1095, 10656, 18366, 17879, 20573, 8268, 12407, 8705, 10425, 3152, 19855, 8524, 12532, 10681, 9788, 4366, 7937, 10144, 16003, 4185, 11895, 13128, 7706, 16780, 14929, 18581, 7606, 4912, 5349, 6713, 16580, 18169, 14111, 14061, 10846, 4937, 10440, 8589, 4887, 15812, 6201, 2143, 7515, 7871, 192, 12837, 9572, 15431, 3176, 11061, 12862, 18234, 19985, 19885, 19267, 12075, 6116, 20481, 11713, 4084, 9375, 1746, 8919, 14778, 14291, 8332, 18736, 2860, 8101, 10389, 8001, 15711, 728, 17381, 15480, 14993, 11778, 13092, 7670, 15380, 1274, 13042, 7083, 14743, 6983, 12274, 19447, 4058, 1149, 15645, 13794, 19653, 13207, 15414, 9505, 512, 15008, 11793, 7735, 5834, 8868, 10669, 5247, 6967, 2909, 20180, 17842, 10569, 5372, 6686, 4785, 15710, 15579, 9801, 6049, 13272, 19131, 5512, 11858, 3661, 5949, 7669, 5412, 1354, 9420, 12454, 3817, 1966, 115, 7388, 10553, 5131, 5000, 1379, 14024, 16231, 16312, 15825, 18032, 4900, 842, 10403, 792, 15644, 6164, 19296, 17445, 13387, 6114, 19246, 11486, 5527, 13237, 12750, 19096, 3626, 15263, 9841, 15213, 11511, 14676, 7403, 10924, 16427, 16296, 8667, 6766, 16196, 2658, 807, 2527, 19180, 4278, 7849, 16923, 1940, 17585, 8932, 5230, 7518, 5667, 1509, 8245, 8601, 16311, 20319, 16261, 4493, 2642, 19782, 3956, 8807, 17750, 9634, 2361, 12278, 13642, 6319, 4468, 17113, 8997, 15343, 11641, 12955, 12468, 15162, 10617, 19997, 18227, 20028, 15658, 20153, 6047, 9699, 10542, 17765, 15427, 15327, 9549, 7648, 5797, 9855, 20649, 17028, 4773, 12483, 14690, 16491, 5435, 18648, 12608, 16179, 19831, 12558, 8987, 4929, 10220, 16566, 740, 10170, 2541, 13822, 10607, 7813, 15523, 53, 5862, 20227, 11590, 16881, 18732, 18682, 1492, 3780, 16731, 9102, 6714, 6227, 16631, 12573, 13937, 17995, 8078, 10185, 11986, 7878, 5540, 17614, 3945, 17027, 15176, 5615, 3845, 10987, 6879, 16440, 12251, 14539, 3077, 8093, 19861, 13952, 14308, 13821, 9763, 10250, 2490, 7993, 8168, 6317, 9532, 11820, 14027, 11639, 20713, 3960, 15191, 16911, 12853, 16424, 18762, 20076, 2705, 6357, 14554, 18300, 12035, 11854, 4581, 6513, 6382, 15325, 11704, 9497, 6282, 20728, 11117, 5695, 1637, 16976, 18340, 20547, 3357, 20497, 14669, 7134, 12637, 3026, 14794, 12456, 7034, 638, 4777, 4290, 18265, 15571, 10018, 13133, 15340, 17628, 7611, 20743, 9331, 17041, 19067, 14959, 16679, 7199, 20331, 18480, 13058, 19844, 3141, 14322, 15942, 11834, 13554, 5925, 13635, 14868, 15174, 191, 3793, 19132, 18595, 9065, 5007, 818, 20296, 13850, 15520, 19659, 1851])\n",
            "Partition 2 :\n",
            "Row(movieId=14, users=[2207, 5380, 9438, 14273, 9767, 7916, 17338, 18660, 8701, 2792, 14023, 3221, 17138, 16776, 19899, 7644, 15354, 17561, 16676, 850, 15791, 619, 3792, 17759, 6857, 5972, 17122, 13370, 18742, 7411, 20443, 10345, 8931, 10295, 18361, 15567, 15038, 4236, 12700, 19394, 19642, 12848, 9633, 1865, 15840, 1055, 13302, 20444, 120, 5492, 15270, 4824, 4426, 11170, 17021, 10633, 14285, 6525, 7789, 4566, 11137, 691, 5228, 4741, 20161, 12351, 16888, 2384, 15235, 5218, 7425, 3542, 19360, 3136, 4856, 10367, 7492, 8814, 10128, 17201, 11729, 6705, 15606, 971, 14053, 8144, 20391, 14838, 14738, 2035, 6035, 432, 1565, 5225, 7424, 9631, 13283, 17689, 5523, 18118, 19738, 366, 6225, 7489, 16919, 15547, 10481, 11745, 4951, 4066, 8828, 4241, 16886, 13671, 16001, 6927, 5811, 9861, 13513, 4389, 12976, 7423, 2001, 5472, 7092, 1670, 16472, 1431, 15885, 14950, 17636, 3032, 5231, 13603, 20347, 18488, 900, 413, 18438, 3934, 17066, 6222, 8908, 9264, 20139, 9693, 14230, 15413, 430, 18536, 9454, 4032, 6718, 13462, 11611, 2885, 14653, 5173, 586, 6843, 18603, 3701, 11280, 6693, 4305, 14214, 1561, 3181, 17766, 5998, 16271, 15653, 11197, 15734, 13396, 3437, 6610, 2065, 18726, 7437, 15453, 2313, 4122, 8659, 10379, 849, 4420, 17452, 8974, 13063, 8337, 12345, 18733, 12824, 5064, 7271, 15947, 20353, 19468, 14046, 1393, 12674, 4435, 17923, 20122, 11964, 6055, 1866, 20757, 11675, 3080, 10253, 3815, 5616, 13326, 1914, 2393, 7417, 8171, 5691, 8856, 13699, 17012, 5319, 5798, 18401, 7955, 6583, 11426, 3797, 14112, 15376, 18855, 6987, 112, 10558, 9623, 12309, 6756, 18037, 3664, 3614, 5632, 160, 1126, 10781, 15318, 5251, 9788, 2515, 12830, 7002, 15466, 10036, 15895, 19416, 7200, 7019, 16580, 18656, 10061, 17234, 18598, 16349, 19383, 10738, 1962, 14159, 4267, 17399, 1531, 4117, 5300, 14861, 6564, 16481, 18232, 1398, 19771, 2531, 11961, 14291, 7018, 11911, 6133, 6489, 12340, 17364, 10976, 11761, 12190, 9315, 14564, 14993, 20017, 17150, 20273, 3910, 19199, 14743, 2446, 5530, 8653, 14504, 487, 7587, 16967, 19653, 2711, 6850, 1776, 15256, 13405, 7983, 17494, 3825, 12776, 9472, 10925, 7602, 15579, 13809, 15131, 925, 5949, 40, 875, 1173, 157, 15883, 892, 18032, 15296, 792, 16131, 17882, 3776, 14659, 16379, 10957, 19981, 11692, 11205, 13891, 4767, 8419, 8288, 11461, 7801, 9015, 16544, 16625, 17585, 19734, 15626, 18312, 14691, 14054, 1757, 2592, 18766, 16915, 16378, 2361, 12278, 10906, 460, 6361, 18029, 3831, 17080, 15129, 16493, 10534, 15071, 14492, 8583, 773, 5310, 7161, 14690, 18648, 11773, 7715, 12608, 20318, 5227, 1904, 10012, 9433, 6697, 4003, 18732, 13310, 19698, 17310, 4615, 19111, 2714, 5829, 19796, 118, 16821, 13606, 3995, 5565, 18210, 16796, 13704, 5863, 19861, 20696, 2490, 11085, 9713, 6011, 14077, 8168, 1293, 9490, 20563, 150, 11431, 5043, 4283, 18779, 20051, 1010, 10003, 6513, 4531, 15325, 17126, 6282, 17992, 1158, 4323, 12431, 1985, 20497, 12381, 11852, 19562, 7563, 11571, 12754, 12306, 15190, 1571, 3901, 13818, 4388, 2762, 16810, 3628, 5777, 355, 7099, 13000, 18372, 13735, 4959, 5438, 15174, 191, 20546, 20446, 15024, 18595, 12686, 4578, 16825, 6379, 7743, 8578, 8049, 1653, 4239, 8776, 1503, 18206])\n",
            "Row(movieId=16, users=[356, 4008, 306, 387, 9817, 9767, 3371, 18660, 18173, 18610, 3140, 8999, 1370, 8512, 12601, 12114, 4841, 8493, 10082, 19512, 15404, 4073, 13990, 15791, 17511, 12089, 17024, 15254, 9345, 7494, 3436, 3792, 15073, 9651, 9164, 15023, 9245, 7394, 18675, 3205, 16337, 20476, 18625, 3286, 4825, 12404, 16543, 2924, 8296, 8246, 17807, 20014, 17676, 8196, 4007, 11717, 7072, 1519, 9310, 14601, 20591, 8692, 6841, 15038, 8998, 1238, 5246, 2989, 8261, 4203, 7724, 5873, 14947, 15384, 20625, 6079, 13302, 5461, 19030, 1740, 18443, 3104, 11170, 5261, 18393, 10764, 14285, 17856, 13617, 4574, 19070, 5757, 17525, 11435, 9078, 10748, 3119, 4839, 731, 19672, 13763, 14475, 19360, 17509, 6309, 5822, 400, 10367, 17459, 7492, 5641, 17409, 11987, 9780, 3740, 17309, 18623, 13201, 16285, 16772, 12177, 5391, 6705, 3003, 971, 12333, 8144, 17218, 17655, 18011, 11746, 5706, 9845, 7457, 19225, 2035, 10978, 14630, 20489, 18151, 20358, 3168, 3249, 5456, 10747, 16119, 14268, 4788, 14705, 7076, 17870, 17689, 499, 2787, 6258, 19390, 3920, 12994, 14795, 5671, 5184, 5621, 13200, 18978, 18572, 3589, 10812, 3539, 9398, 12482, 18341, 19655, 1101, 15903, 8761, 10125, 4166, 1828, 15397, 17117, 4066, 5786, 12001, 5605, 19580, 16886, 13184, 133, 15472, 11414, 13621, 5811, 10696, 5274, 12447, 11960, 20157, 10059, 13174, 15381, 3919, 12066, 6157, 3819, 13249, 7827, 20422, 1868, 14513, 10942, 12512, 14313, 2495, 463, 1306, 11744, 19810, 12000, 6222, 19710, 2520, 14628, 9206, 20487, 8619, 2660, 2885, 6537, 6893, 984, 11032, 7330, 6843, 19975, 12652, 19875, 18024, 19388, 4049, 11628, 834, 6337, 6693, 4305, 3899, 9577, 20371, 13454, 9396, 17106, 5288, 3437, 8859, 12511, 18726, 10123, 4570, 2313, 15445, 4520, 8659, 10023, 2263, 412, 10329, 9842, 849, 12130, 11643, 5734, 312, 15164, 7354, 4089, 17221, 18941, 20792, 1832, 8974, 13469, 10775, 18485, 18841, 11212, 12932, 12882, 12395, 12345, 8287, 16353, 10575, 20005, 15947, 6386, 12245, 2328, 6336, 7700, 14046, 17923, 13865, 733, 17336, 7856, 19493, 7238, 46, 12560, 20757, 12510, 4881, 4831, 10690, 12410, 2393, 8171, 15750, 18038, 17551, 19839, 4369, 10228, 12029, 7840, 16914, 19121, 15500, 3245, 9104, 17170, 20335, 12575, 10724, 10674, 20235, 3045, 13839, 20054, 14632, 2733, 882, 963, 12194, 4434, 17922, 8442, 17516, 4334, 15128, 11426, 1946, 18649, 14591, 3747, 1409, 11326, 1846, 3210, 16698, 5417, 5723, 3385, 10608, 6500, 12715, 9144, 15880, 19888, 18037, 17550, 6269, 9921, 7970, 7483, 15680, 2061, 7433, 19151, 7202, 11210, 3937, 9309, 3400, 12830, 7408, 1499, 18202, 1012, 10573, 10086, 12730, 10473, 8622, 8135, 9936, 10292, 13944, 15308, 11606, 9886, 18829, 11375, 5953, 18954, 5416, 18985, 7573, 16110, 7473, 20605, 8837, 16416, 8787, 2778, 10226, 20143, 6605, 2547, 17399, 5581, 10076, 8225, 7738, 5837, 9489, 20770, 5300, 18432, 7588, 3043, 14324, 10753, 4844, 16481, 12423, 20133, 2456, 6770, 8977, 15713, 12011, 3018, 17514, 2531, 11961, 630, 4282, 10141, 17364, 10918, 5852, 3595, 11174, 14826, 16546, 16415, 14564, 19786, 4397, 9769, 2009, 9719, 17429, 7381, 17248, 58, 7768, 1859, 5736, 12828, 7050, 7406, 1984, 14629, 1091, 14579, 1041, 9107, 10471, 6769, 18537, 9934, 8083, 16280, 14429, 13405, 11554, 19751, 7983, 15512, 9247, 3825, 1974, 9472, 4000, 1662, 3950, 11173, 9322, 20603, 12487, 14694, 18215, 5164, 975, 4627, 925, 875, 19866, 825, 775, 5710, 2364, 11925, 6016, 2801, 17247, 19454, 11338, 7636, 19404, 13139, 13495, 15346, 3578, 5379, 15296, 13445, 14809, 18948, 11188, 16479, 18717, 16379, 12321, 10957, 5048, 16329, 6849, 8213, 17643, 15792, 10501, 13841, 15561, 7801, 10089, 2329, 2279, 9015, 15361, 10716, 9040, 924, 4932, 12592, 19734, 10741, 2981, 15626, 19765, 9717, 724, 17327, 5915, 1857, 17277, 20361, 5378, 16659, 20798, 16740, 3558, 5278, 5584, 3733, 6948, 14527, 10956, 18666, 5047, 10906, 4997, 16765, 14914, 6361, 8568, 2609, 15741, 4410, 13840, 14277, 2022, 11533, 9682, 3642, 3723, 17211, 15716, 5749, 11608, 1997, 18700, 9707, 5649, 6832, 13178, 4575, 18550, 8583, 18094, 19327, 773, 15625, 4344, 12135, 4294, 12004, 11517, 4375, 17632, 17145, 392, 9822, 2062, 9285, 16458, 2839, 988, 10499, 19929, 10449, 4896, 15821, 19392, 12119, 2202, 10268, 2639, 19698, 14276, 12425, 2995, 4003, 7880, 6029, 8236, 8317, 11838, 8267, 19417, 19011, 5829, 5342, 9400, 20631, 15209, 5598, 2904, 3341, 5061, 10920, 16423, 3516, 14797, 12103, 20300, 14391, 17962, 2979, 20250, 16548, 20119, 17862, 672, 4193, 11416, 13704, 15424, 5863, 1705, 16638, 3019, 14606, 18614, 7283, 9490, 10854, 3175, 14406, 17490, 20184, 2457, 11968, 6415, 150, 3721, 11431, 15002, 16803, 9530, 4283, 14721, 9299, 15158, 16878, 18729, 9199, 7348, 3109, 10332, 15704, 4860, 6580, 17811, 11852, 6074, 17711, 19431, 1885, 4348, 5662, 14605, 1373, 13968, 20314, 6695, 17976, 13918, 4307, 17439, 4388, 4744, 11836, 7778, 17695, 4513, 455, 19315, 9348, 17545, 18859, 18372, 2025, 13306, 5190, 3339, 5009, 14570, 18578, 4553, 14158, 4678, 16446, 8330, 14189, 17273, 7743, 9463, 20744, 8049, 1653, 12934, 5305, 20644, 3891, 20594, 15172, 18743, 11114, 18206, 20494, 9438, 16124, 14273, 14354, 17875, 2405, 6544, 20032, 17338, 2792, 6363, 11379, 13586, 14023, 9478, 5420, 5776, 15337, 13486, 12999, 17057, 17138, 3519, 13436, 11585, 9197, 19114, 15056, 16776, 3288, 18577, 18090, 19941, 4958, 19891, 3057, 3494, 14419, 20197, 14288, 10717, 619, 14188, 12337, 11850, 13701, 17759, 6559, 8279, 469, 1833, 17122, 2089, 1602, 1958, 7948, 4246, 188, 13320, 3840, 19179, 3222, 965, 20393, 4436, 17924, 11915, 4236, 8163, 19444, 5775, 7982, 9783, 9733, 13254, 11047, 16906, 12848, 16856, 13154, 12667, 18657, 7245, 16319, 799, 2906, 1055, 5113, 6914, 10485, 15857, 2188, 15888, 18972, 19328, 2269, 8128, 4426, 9798, 14633, 12782, 15070, 2715, 11137, 3021, 1170, 5228, 20161, 6542, 19980, 15922, 17236, 14021, 6392, 15822, 8062, 13434, 13515, 14748, 5218, 7425, 3673, 6707, 14904, 4856, 14773, 7144, 18425, 13003, 20226, 16037, 10128, 17838, 15450, 5970, 17738, 8177, 7640, 20772, 17070, 19358, 12962, 3482, 9616, 16839, 11417, 5508, 3657, 13218, 18540, 9416, 5358, 19854, 20210, 12581, 6672, 20160, 6978, 16052, 2383, 15465, 5985, 2589, 2102, 251, 3822, 4259, 201, 10118, 2002, 5523, 17291, 13233, 11382, 16804, 1465, 3672, 13183, 14903, 9094, 4986, 1284, 20275, 5423, 19738, 12465, 778, 18324, 1134, 2448, 12009, 6812, 2654, 6225, 17506, 9796, 3837, 15118, 7489, 18770, 12861, 12761, 16332, 12630, 12580, 1380, 7158, 8341, 1555, 5076, 6440, 10448, 968, 4539, 13613, 6340, 9861, 2588, 7604, 18885, 12976, 16984, 2001, 13282, 15083, 16884, 5472, 5422, 1233, 14265, 16472, 2934, 19537, 13628, 19843, 13934, 8156, 7538, 19306, 9826, 3430, 16918, 2016, 34, 14967, 17124, 13066, 16637, 3586, 3099, 18438, 7107, 5256, 2918, 8908, 18338, 661, 12429, 14149, 14586, 24, 15363, 19502, 8090, 15800, 2668, 17033, 4032, 9454, 9404, 2487, 6008, 5521, 18603, 9123, 9479, 8992, 1313, 14445, 11230, 14314, 1263, 1213, 1082, 12007, 12313, 5998, 16271, 10231, 15734, 751, 13396, 2115, 9825, 13833, 16040, 11495, 7437, 3735, 10081, 9594, 15453, 12759, 13115, 19105, 4122, 1428, 12709, 9494, 6800, 14329, 10758, 18468, 2998, 1147, 12072, 10221, 8370, 15949, 14098, 4618, 916, 10477, 10833, 19907, 18056, 8576, 6725, 10296, 11610, 6188, 15618, 18783, 19139, 229, 2030, 7402, 7221, 14394, 18708, 16857, 10948, 15833, 13982, 931, 2295, 7567, 19335, 17484, 4302, 3815, 5616, 18617, 63, 7417, 11244, 20674, 3484, 8806, 559, 2666, 13947, 11559, 9789, 2029, 11946, 11328, 7757, 9427, 3162, 9021, 18938, 14749, 20608, 12979, 15186, 6583, 14243, 14549, 930, 343, 17889, 4351, 19690, 3864, 15145, 19153, 112, 15532, 5921, 1863, 12, 3664, 4020, 7235, 3614, 18466, 12557, 7004, 1095, 1126, 8268, 14127, 8705, 6723, 4872, 15616, 10681, 4416, 9788, 2515, 4722, 16003, 19168, 13209, 16780, 1797, 13159, 11308, 18450, 13109, 9407, 12572, 12928, 14779, 16580, 15962, 5118, 10896, 1416, 15912, 16349, 4937, 10440, 2680, 829, 10209, 6151, 15712, 7515, 15581, 12837, 5564, 18696, 14994, 7721, 7234, 7184, 14894, 1275, 13399, 9341, 9291, 5102, 3251, 16464, 18671, 3201, 8704, 6853, 4515, 2664, 12225, 12175, 11688, 19885, 19398, 9837, 13489, 11638, 19267, 257, 3778, 13077, 4084, 9375, 13027, 332, 12977, 7555, 5217, 14291, 7018, 10539, 18736, 4480, 2629, 6200, 8001, 15711, 4380, 7951, 13679, 7770, 19538, 17687, 14993, 8207, 15430, 5332, 3481, 13042, 14762, 12992, 7570, 8934, 14793, 8884, 14743, 18314, 11818, 4851, 1149, 17852, 13794, 10223, 19653, 10173, 3777, 13207, 20330, 20280, 1726, 8868, 18379, 2909, 12339, 2859, 4785, 9751, 2478, 15610, 15966, 10057, 5512, 3661, 5949, 4098, 14842, 9420, 10784, 20701, 8883, 3817, 14611, 10553, 7338, 8702, 18082, 16231, 10322, 18032, 16131, 255, 10172, 16031, 6064, 13156, 13237, 12750, 19096, 3626, 15263, 11205, 9841, 9304, 11024, 15163, 16477, 12775, 8667, 1394, 2627, 8567, 11651, 2477, 15122, 13271, 19436, 14891, 1709, 5848, 1659, 11576, 5667, 9319, 8832, 14691, 1509, 14510, 8732, 6394, 20369, 15824, 12203, 10352, 8501, 8014, 19782, 13742, 17881, 20088, 2848, 2361, 4081, 19451, 13542, 17113, 15343, 5732, 15162, 12468, 7046, 20178, 20047, 10567, 10517, 12237, 12318, 20028, 8129, 6634, 4377, 16014, 11956, 20153, 14244, 10542, 7848, 19616, 15427, 4227, 17228, 13607, 20749, 7211, 7648, 20780, 7161, 1608, 12533, 7111, 18879, 17028, 12483, 14690, 20418, 18567, 18648, 20368, 12608, 20318, 18467, 8987, 4798, 16566, 8450, 13822, 10607, 2491, 13772, 7813, 15523, 19044, 20714, 18732, 18682, 19119, 3243, 9102, 16325, 13987, 6714, 10285, 16631, 4763, 2506, 9648, 3739, 1888, 5540, 16821, 8184, 4482, 3945, 17077, 193, 14689, 18210, 3177, 4441, 10300, 18010, 2490, 15622, 720, 8168, 13540, 4060, 20763, 1672, 13440, 3960, 20613, 15191, 12853, 16424, 7431, 5580, 18225, 20432, 6894, 5043, 6407, 10415, 4993, 804, 19926, 398, 18300, 10184, 1060, 8770, 1010, 17713, 12291, 523, 4581, 6513, 8233, 10034, 15325, 8183, 9547, 3638, 5845, 11704, 6282, 9316, 5695, 20497, 12381, 11017, 14669, 16389, 10655, 14794, 2539, 638, 15977, 4777, 588, 11869, 10018, 4596, 12306, 15877, 9431, 1802, 4009, 13083, 1671, 18455, 13033, 16604, 20743, 9331, 17041, 1652, 7430, 18711, 15009, 5398, 9050, 16629, 1240, 15736, 12034, 7099, 16173, 14322, 703, 8363, 4611, 2354, 14868, 9933, 5875, 4024, 15174, 9215, 18645, 91, 1455, 8678, 19082, 9115, 13123, 8578, 5363, 12536, 231, 4726, 7760])\n",
            "Row(movieId=17, users=[2207, 17140, 15289, 19347, 3958, 156, 11387, 4991, 16709, 6742, 11577, 8231, 602, 4073, 7644, 17024, 15073, 20039, 3286, 17957, 12535, 18800, 17857, 20064, 9510, 12981, 8923, 9279, 3039, 14757, 18328, 20079, 10468, 1865, 4072, 17641, 13583, 15303, 15790, 7930, 14972, 14485, 5492, 3641, 16236, 13021, 11170, 5261, 14285, 16492, 17856, 10096, 15549, 6425, 4087, 29, 17525, 11485, 1418, 18558, 13136, 8591, 2682, 14400, 8360, 731, 1995, 17640, 15789, 19360, 10367, 6178, 20624, 19160, 16822, 3771, 3153, 12177, 3540, 5160, 1102, 2822, 3309, 7367, 17755, 18111, 19475, 871, 18011, 11746, 7557, 19275, 2035, 184, 20539, 13266, 11184, 12417, 4788, 12448, 10110, 17770, 14068, 4101, 1663, 15232, 9448, 16134, 4316, 15903, 4216, 9994, 15316, 1778, 20769, 13365, 3754, 13621, 83, 5374, 7225, 16736, 14885, 14398, 10340, 5274, 12447, 1893, 19645, 9678, 1431, 1331, 19835, 8991, 3082, 16164, 16033, 11975, 8273, 869, 900, 413, 6191, 15702, 17066, 3753, 16835, 9693, 10926, 7255, 8619, 1346, 14428, 15140, 9231, 5173, 7380, 1471, 6337, 6693, 9808, 11528, 5619, 3768, 18701, 9577, 5519, 10710, 3437, 18726, 4570, 15932, 8659, 13981, 16965, 12907, 18585, 20792, 18485, 13063, 18841, 1114, 12832, 1014, 20005, 10394, 2534, 2403, 7238, 7625, 5774, 11096, 4831, 6551, 4700, 8402, 16062, 14211, 17782, 2393, 2618, 17551, 5733, 16964, 13262, 8327, 4269, 13162, 10855, 11211, 19748, 6822, 6335, 15228, 7955, 326, 6104, 17822, 15128, 6004, 1946, 95, 7368, 7268, 17004, 20575, 12459, 9244, 6906, 17781, 9144, 12228, 12615, 6219, 3912, 5632, 3781, 7870, 3325, 1699, 11210, 12474, 10623, 5201, 7408, 12374, 12730, 4970, 7598, 9805, 3896, 16978, 9836, 13276, 581, 13663, 16747, 13532, 13045, 18598, 1714, 18854, 4829, 20118, 8787, 4985, 19787, 11540, 4267, 13647, 10076, 7738, 9489, 1242, 16662, 16531, 6564, 2406, 17564, 12142, 19771, 6720, 2531, 6133, 4282, 17364, 13175, 11324, 10737, 1744, 20248, 20017, 14464, 20273, 12026, 6248, 4397, 3910, 19199, 13290, 5530, 20463, 16761, 11339, 9619, 9488, 15297, 12959, 7050, 18768, 6850, 4512, 19314, 15256, 13405, 17463, 9734, 6032, 3338, 9472, 7621, 15768, 13074, 11223, 14694, 9272, 10049, 18065, 15727, 4040, 338, 17965, 19329, 12412, 4652, 14032, 11338, 9974, 15296, 12989, 5229, 14122, 10907, 12527, 17849, 11453, 18982, 13560, 7164, 1742, 18882, 11253, 10766, 9040, 16700, 16213, 11568, 11924, 11955, 13675, 5915, 15426, 5815, 1757, 1526, 14477, 10906, 6361, 20286, 8468, 839, 4410, 12070, 14277, 6517, 4079, 2097, 13459, 15666, 14492, 10459, 9385, 18765, 3863, 1525, 16458, 13243, 16358, 4540, 2202, 19698, 14276, 16483, 8236, 19111, 2227, 19367, 5829, 9400, 20631, 14722, 2904, 10920, 4524, 822, 17962, 8482, 6631, 14160, 622, 13573, 17175, 7564, 20159, 16944, 14250, 10679, 6846, 9053, 1293, 14506, 12168, 16126, 15639, 6646, 15539, 17746, 6059, 6415, 2357, 9530, 18779, 16828, 14490, 1795, 20430, 14877, 1208, 12439, 4323, 6043, 134, 11365, 4223, 20745, 11621, 13341, 7563, 2141, 12754, 1910, 3274, 5025, 6745, 20314, 12067, 6645, 8009, 19240, 10247, 7778, 2356, 8134, 13456, 2256, 17545, 2025, 6760, 8867, 2958, 14189, 6429, 4578, 4091, 7793, 13958, 15322, 18893, 9900, 8049, 10677, 7462, 8826, 18206, 5380, 14304, 11379, 404, 15337, 11279, 1668, 14875, 9453, 6759, 850, 14775, 619, 17759, 6072, 4121, 2008, 15221, 12006, 13270, 20412, 6874, 7230, 20443, 10345, 1352, 12096, 2485, 17418, 15567, 4236, 19394, 7576, 7832, 1923, 12667, 18120, 1236, 18020, 14674, 6914, 518, 2725, 17658, 13956, 418, 16971, 11062, 5153, 16384, 1351, 14789, 14171, 10600, 4691, 20111, 15922, 2871, 533, 11277, 9426, 15235, 14748, 5755, 3673, 3542, 20195, 2368, 2268, 15606, 11417, 10053, 17226, 15375, 5408, 8979, 14432, 14788, 3457, 10143, 15465, 432, 1565, 3772, 13283, 5523, 101, 3672, 6887, 7243, 9094, 18118, 12565, 878, 19738, 18274, 10870, 4505, 6225, 15118, 7489, 9696, 2423, 7358, 18233, 20440, 7389, 9009, 7158, 13969, 918, 431, 13513, 13382, 19191, 7860, 5422, 3084, 17009, 5191, 19637, 13728, 4604, 9926, 4017, 19793, 15735, 11677, 9826, 9339, 16868, 13653, 3686, 5893, 1348, 13066, 3586, 7157, 1248, 8877, 19752, 14230, 430, 9454, 4032, 7372, 20454, 18603, 3701, 20710, 10643, 17685, 10056, 8205, 576, 13883, 6610, 2065, 4172, 4949, 10758, 2998, 20007, 16205, 2667, 15618, 11560, 18733, 13311, 16882, 13080, 1393, 20122, 12362, 3138, 5766, 17484, 13326, 19104, 7417, 5079, 7286, 2220, 7155, 14684, 3484, 8775, 20006, 11013, 4617, 18186, 4517, 5781, 5650, 17012, 4186, 9477, 11228, 3955, 18401, 7070, 14112, 17227, 15376, 112, 12, 14814, 7054, 20267, 20136, 10656, 16203, 10425, 3152, 4872, 19805, 14383, 12532, 16003, 7756, 15416, 14929, 7787, 6713, 7069, 14111, 14498, 8589, 4887, 9722, 7871, 15044, 13193, 9035, 20135, 9291, 5233, 14613, 6853, 18084, 13895, 17397, 9637, 9506, 9375, 382, 18886, 20150, 14597, 3397, 8332, 19563, 11803, 10339, 8001, 16017, 19588, 17150, 13092, 9390, 3481, 7570, 14743, 14256, 20034, 20521, 12274, 943, 18214, 15876, 11818, 17596, 4058, 4770, 15645, 13794, 10223, 8372, 7885, 3827, 13694, 13207, 2363, 4083, 20380, 17165, 1776, 20636, 14727, 7098, 8818, 3396, 2909, 4760, 9305, 10669, 10925, 5016, 10794, 12058, 4785, 727, 6049, 16793, 5949, 7313, 7669, 9420, 3511, 1660, 9189, 5131, 3280, 10553, 16231, 5031, 17495, 17882, 19246, 11973, 7428, 2362, 12750, 7328, 9048, 55, 6189, 17064, 11511, 8717, 8586, 8617, 370, 13939, 16146, 3841, 18774, 9519, 5817, 18312, 6394, 4543, 14054, 2592, 17750, 12328, 9634, 2361, 8170, 6319, 9403, 15343, 10567, 18227, 1212, 15658, 6534, 1112, 15558, 17765, 4583, 15814, 15327, 4773, 1071, 19054, 5029, 10807, 20318, 19831, 10838, 10220, 740, 15673, 10607, 2491, 4698, 10020, 1904, 3624, 19044, 11284, 5862, 16831, 3780, 16731, 17995, 12573, 12086, 13937, 6177, 16821, 13606, 5846, 3995, 7466, 5615, 193, 1557, 7366, 6879, 2821, 14539, 19861, 17523, 14308, 10250, 4341, 2490, 6448, 8168, 10019, 15241, 3292, 18712, 16374, 8745, 6894, 6307, 1010, 523, 19414, 20678, 16976, 18340, 12331, 3076, 4827, 638, 9662, 13133, 15340, 1802, 16604, 7611, 19067, 7736, 1340, 20331, 11984, 6075, 19157, 13735, 13635, 11784, 14868, 5875, 7595, 191, 9702, 91, 18595, 5057, 5413, 12099, 10735, 15570, 13719, 8428, 4239, 19172, 15826, 12124, 306, 19297, 13875, 5759, 14652, 5528, 18610, 12701, 9130, 19874, 12601, 12114, 16172, 8899, 18148, 19512, 17692, 15354, 17561, 321, 19312, 14767, 15123, 9345, 8858, 9245, 7394, 10965, 18625, 16287, 19858, 2974, 14692, 17807, 4038, 1700, 16758, 11336, 18478, 1725, 3089, 18865, 12600, 14320, 4253, 4022, 15384, 11682, 9475, 5773, 13302, 20444, 9600, 1740, 3104, 4824, 10633, 19557, 5888, 7964, 691, 16888, 10979, 11335, 19772, 16557, 19185, 13763, 6259, 7492, 17003, 11581, 17359, 12814, 16772, 7292, 896, 18036, 10763, 796, 8681, 10045, 2285, 14003, 12152, 11696, 13416, 9845, 18738, 17920, 14218, 5225, 2887, 13531, 4051, 9829, 15282, 15638, 17002, 9242, 1613, 5184, 20604, 12713, 9398, 7547, 10762, 20142, 4266, 20042, 12282, 13646, 15397, 4066, 1953, 16886, 7893, 9126, 13215, 14448, 3604, 12984, 11133, 8339, 4637, 15868, 3919, 15637, 6157, 6026, 15050, 3719, 3232, 9041, 7190, 2901, 19810, 3934, 17859, 15165, 7405, 10876, 4967, 3116, 18536, 14347, 3503, 12396, 11032, 5123, 1065, 1421, 11809, 12165, 5669, 9271, 3362, 4205, 9171, 7189, 7545, 9396, 7445, 4751, 1536, 14618, 6371, 19940, 15882, 11693, 10329, 362, 6171, 11849, 15420, 20742, 18891, 5222, 1164, 14246, 8337, 2428, 20055, 19568, 10575, 14046, 9988, 3717, 19493, 20757, 8452, 18319, 10690, 13774, 8352, 19808, 15750, 8964, 717, 12079, 5683, 261, 13699, 10905, 11161, 20054, 14632, 20410, 5021, 245, 13327, 11476, 4334, 3847, 632, 20500, 18649, 14591, 5367, 6987, 5136, 8507, 3731, 15318, 7689, 7558, 5251, 1062, 7002, 6871, 17615, 11606, 6184, 11862, 15433, 20755, 16110, 12895, 14159, 10944, 19481, 9870, 6655, 4804, 14184, 13597, 13110, 9052, 415, 18919, 18819, 10572, 2943, 2456, 8977, 4432, 17514, 2481, 630, 16927, 10141, 5596, 2381, 16827, 9554, 1794, 1307, 5396, 1207, 1076, 14645, 12794, 845, 14414, 6785, 17042, 2496, 16942, 13727, 18562, 7587, 16967, 14629, 5636, 9107, 5049, 991, 2711, 860, 6413, 6769, 16280, 6182, 760, 9297, 1662, 15131, 18215, 12206, 875, 17528, 2139, 8304, 11388, 2395, 17197, 19404, 17097, 15246, 14659, 16379, 8263, 19981, 15436, 8519, 4330, 2479, 8288, 5494, 14874, 5750, 10716, 20321, 12692, 14899, 8634, 8990, 2981, 19634, 17327, 9567, 7716, 3658, 5378, 10931, 11187, 5278, 1445, 20436, 12707, 12220, 14427, 18029, 14327, 13840, 17898, 8418, 2509, 2022, 15591, 6111, 9682, 17342, 16724, 16493, 9707, 12791, 1591, 3311, 1460, 15029, 4575, 773, 7715, 18946, 16508, 18715, 12806, 2839, 20466, 5077, 6797, 6697, 2639, 2995, 4003, 19648, 15946, 11888, 17310, 4615, 557, 5779, 9350, 10714, 16036, 16392, 12334, 1490, 18012, 14797, 14697, 14110, 15474, 13036, 20696, 15274, 3456, 1243, 2994, 1143, 2507, 16076, 17796, 200, 2407, 19060, 6009, 6365, 13538, 11069, 9249, 6124, 5993, 4142, 19562, 340, 2060, 11571, 9233, 18257, 6926, 10497, 13968, 7182, 6595, 12273, 8084, 455, 5777, 5290, 7984, 9348, 12719, 9148, 14208, 18297, 10050, 4628, 11314, 13521, 9463, 4041, 5761, 339, 5792, 10627, 8776, 3354, 1016, 20232, 16561, 20032, 17338, 11916, 8701, 4156, 98, 14023, 9478, 17138, 15287, 11229, 11585, 13436, 8891, 2982, 18527, 16676, 7196, 3494, 12031, 6609, 213, 1056, 6022, 469, 13551, 13064, 18742, 13320, 3840, 3222, 18155, 12733, 6824, 7180, 18542, 17924, 8931, 815, 2535, 16104, 14253, 17468, 17593, 15742, 7982, 18857, 11584, 3824, 9633, 1386, 18657, 4757, 2906, 1055, 2419, 6477, 12286, 19328, 368, 11599, 12963, 20492, 15070, 7310, 6823, 3021, 5228, 20161, 2790, 17236, 14021, 9963, 483, 2203, 19343, 2103, 20607, 3854, 7425, 6707, 4856, 16574, 6607, 11929, 10078, 15887, 3582, 1731, 9878, 6176, 7540, 20391, 14482, 11267, 14838, 9416, 10780, 14738, 14251, 6035, 8242, 13820, 10118, 7424, 2002, 3722, 15440, 7324, 5473, 9044, 1771, 10895, 18555, 20275, 14366, 20175, 12059, 2448, 13548, 8613, 9846, 366, 15655, 17019, 1986, 18770, 12861, 16332, 12630, 8828, 2819, 2332, 8141, 2588, 12976, 7554, 7910, 7423, 15083, 16447, 5472, 11150, 7092, 8712, 2447, 4654, 16372, 19943, 19843, 3967, 5687, 7538, 11627, 16918, 5231, 1529, 16687, 1298, 17074, 14736, 3405, 16487, 611, 11842, 2718, 24, 9891, 9660, 3620, 11280, 18453, 6504, 12444, 17766, 16271, 16140, 10231, 11495, 10131, 4222, 1428, 3635, 13015, 12528, 12072, 1097, 2230, 19370, 16155, 8039, 18783, 19139, 11510, 179, 18552, 18096, 18452, 13030, 10823, 8972, 9328, 7477, 11048, 19972, 3088, 2601, 11625, 8410, 2014, 1914, 7592, 7105, 18823, 20187, 16485, 8856, 14078, 13591, 19013, 19856, 4467, 11153, 6087, 47, 18938, 18451, 8971, 12929, 624, 19615, 19515, 17889, 12467, 9773, 2013, 15451, 4251, 16715, 3664, 4020, 20317, 2946, 20573, 16515, 14664, 17879, 6548, 1126, 19855, 12582, 4822, 17904, 13846, 9788, 19168, 11895, 15466, 18581, 4912, 6663, 7019, 8870, 6888, 2830, 979, 14061, 10846, 15712, 10159, 13143, 9572, 7721, 7234, 3176, 14894, 11061, 3432, 7003, 16514, 18234, 994, 16414, 19885, 10274, 5729, 3778, 11176, 7018, 18736, 16885, 10976, 6918, 2860, 1009, 10389, 13373, 13629, 11778, 13142, 14993, 16613, 7620, 7133, 3918, 9827, 14562, 8653, 4851, 8422, 1149, 19653, 15108, 11793, 7735, 20330, 8868, 3446, 8281, 15810, 6686, 19768, 6099, 19181, 13272, 9701, 1941, 3661, 5512, 13172, 18494, 16643, 12585, 12454, 12810, 1479, 5081, 10859, 1379, 892, 16312, 19883, 10403, 792, 13387, 4163, 17470, 18834, 11561, 7990, 11461, 3345, 1494, 5065, 5552, 16427, 8667, 6816, 8536, 16196, 2527, 7849, 11807, 17585, 9469, 7618, 17129, 7518, 1609, 1122, 2973, 17675, 4493, 6956, 15980, 12278, 1824, 18864, 12955, 3831, 12368, 11004, 8666, 20028, 2526, 4733, 9699, 10055, 15377, 16641, 9855, 7161, 5310, 1608, 18879, 18392, 18648, 6699, 16566, 690, 7863, 15523, 20227, 18532, 13987, 16194, 8465, 10672, 15994, 7878, 6027, 2325, 16996, 9367, 2094, 3358, 18647, 12251, 14489, 8580, 8093, 10300, 9713, 720, 6011, 6854, 8218, 19449, 11820, 7631, 1722, 15291, 13440, 7531, 15191, 18762, 16424, 3373, 18175, 4993, 6357, 8564, 4762, 7746, 4531, 17613, 9497, 6282, 20728, 20597, 5695, 1637, 1150, 9266, 18290, 16695, 8935, 3026, 4777, 10455, 4190, 17628, 11719, 1265, 15190, 9281, 16810, 14959, 10414, 7199, 3141, 8563, 17943, 2554, 10083, 1967, 11347, 5925, 4074, 15174, 19132, 18645, 16794, 5463, 16825, 12636, 5007, 6727, 8578, 13313])\n",
            "Row(movieId=18, users=[3660, 5380, 7608, 20232, 9438, 5838, 10731, 13011, 16053, 15189, 5251, 1499, 1012, 17317, 3698, 14979, 10086, 933, 3140, 15387, 8622, 18450, 10800, 3498, 13436, 14779, 7069, 7040, 13407, 3448, 5189, 16776, 18577, 4937, 19412, 20378, 2680, 7573, 3494, 19820, 10738, 8837, 3792, 2928, 19233, 9164, 13701, 11850, 13193, 12795, 10051, 4956, 3105, 10226, 15221, 2547, 18742, 5102, 3251, 3840, 10982, 13270, 18642, 4515, 20393, 19267, 17039, 8931, 9279, 13816, 17468, 18303, 4236, 3605, 11663, 19394, 17522, 15205, 10291, 20687, 17006, 8332, 16906, 1923, 9146, 1865, 15840, 15303, 3414, 9315, 16525, 16415, 8257, 13071, 17629, 1740, 20273, 14762, 13450, 2038, 10633, 17835, 6038, 5530, 17298, 15070, 8653, 1351, 487, 10192, 17525, 20211, 17852, 10223, 1578, 8322, 15922, 533, 1876, 9107, 18537, 13405, 15235, 7983, 11177, 8768, 10925, 16216, 1843, 18983, 17509, 3950, 16087, 16872, 17838, 8685, 5949, 12643, 6734, 19866, 5870, 10255, 19350, 2516, 14640, 12333, 14540, 10503, 434, 13445, 14788, 16131, 19833, 14738, 14251, 7457, 6949, 6064, 16379, 10978, 16837, 5527, 18151, 20358, 19096, 5985, 3626, 1136, 251, 6618, 9812, 10118, 7424, 13283, 1494, 2858, 5523, 15461, 17181, 1465, 3672, 5850, 6816, 8667, 19817, 2627, 19340, 3870, 14795, 7064, 3333, 10383, 18572, 3539, 12482, 1638, 2981, 3837, 11924, 19765, 9696, 14691, 8732, 8245, 12630, 5378, 11724, 7158, 12153, 5765, 741, 10171, 19580, 9990, 3675, 10419, 11762, 13969, 3167, 5811, 6311, 9840, 10696, 5274, 8091, 18377, 20207, 14298, 12070, 11960, 12447, 12905, 7423, 15591, 9682, 2736, 1872, 17211, 20405, 5066, 6126, 11150, 15666, 8385, 16472, 9707, 9699, 10534, 1431, 18600, 15000, 12772, 17707, 18550, 14950, 12612, 13934, 20780, 8991, 5310, 5687, 17913, 2087, 2545, 14313, 1508, 8273, 13166, 13603, 10401, 20318, 19810, 9385, 3586, 6222, 11136, 4261, 17016, 19223, 16508, 18715, 9285, 18686, 17780, 19521, 15900, 430, 2260, 14905, 18078, 19392, 17033, 4003, 9760, 2885, 1034, 9231, 10137, 15459, 4636, 20433, 2714, 9102, 9479, 11738, 13479, 5829, 16623, 6177, 755, 20631, 9321, 14214, 19696, 10614, 11936, 13606, 17766, 5998, 5317, 2115, 17077, 3437, 16061, 17383, 2392, 18210, 4570, 9217, 11903, 15453, 8659, 4114, 3585, 10329, 12130, 3506, 3019, 9763, 12072, 10221, 1932, 20792, 18056, 1722, 1651, 18354, 13898, 18762, 20126, 10575, 4666, 3142, 5799, 3571, 11535, 13865, 18300, 9328, 4283, 7956, 3767, 16857, 6055, 8233, 4531, 19493, 15783, 3130, 6282, 16220, 20757, 10332, 3865, 5695, 12918, 4700, 10690, 12381, 6074, 17753, 8171, 19075, 5079, 2241, 390, 10836, 11244, 15650, 12935, 2489, 5662, 11084, 15113, 7840, 6795, 14476, 12575, 17439, 12475, 13839, 17012, 11946, 8134, 15865, 19496, 15286, 15257, 17087, 12542, 17943, 9348, 10670, 276, 4682, 6004, 14112, 18649, 5009, 12719, 13177, 2354, 503, 5875, 10129, 19690, 11095, 7016, 15501, 18297, 16446, 6987, 19611, 9165, 7314, 5463, 5921, 19053, 9900, 8049, 1145, 5305, 14735, 4776, 7970, 18743, 11114, 13313, 6904, 131])\n",
            "Row(movieId=24, users=[9438, 9032, 306, 1272, 13875, 15239, 4793, 17040, 9767, 17338, 18660, 16809, 14502, 15337, 4891, 5857, 20709, 11229, 17973, 7040, 6511, 10082, 3288, 6817, 4073, 10817, 20378, 3494, 16139, 3973, 14767, 7494, 619, 9651, 9164, 11850, 7742, 20476, 6857, 4956, 16106, 3222, 7311, 9031, 13518, 18542, 17924, 13816, 18303, 13716, 13006, 2204, 2154, 18857, 15990, 2452, 14220, 16906, 9633, 19492, 19840, 799, 9475, 11632, 89, 6914, 9600, 5542, 10964, 13252, 19378, 7691, 1740, 17956, 5261, 14285, 16005, 16492, 14235, 20492, 3252, 4616, 17219, 17525, 16509, 15922, 9128, 14500, 16707, 9078, 781, 2103, 8360, 16151, 5705, 16020, 9276, 12797, 9451, 11781, 14954, 2170, 10367, 12087, 400, 17409, 14673, 17359, 13301, 14267, 17838, 4219, 1483, 12177, 15350, 3582, 10326, 3540, 5739, 12962, 15606, 3788, 1450, 10045, 4136, 12333, 1169, 6135, 15086, 16052, 4284, 9177, 2383, 13664, 13266, 6035, 9564, 482, 5506, 18151, 15771, 2152, 4309, 3672, 18605, 14416, 878, 3820, 18274, 19638, 2448, 10870, 18572, 9398, 7489, 7439, 10481, 20042, 12630, 11745, 10381, 12580, 4066, 16886, 13184, 16307, 5018, 918, 5811, 13513, 18885, 8926, 1166, 13811, 11960, 17471, 13282, 14248, 20157, 8208, 5066, 18423, 12514, 19258, 12066, 6157, 13249, 11398, 17388, 5620, 3769, 9091, 13934, 20322, 3967, 7538, 3082, 3430, 2901, 20570, 1529, 8273, 463, 19810, 3934, 10678, 8827, 17016, 13801, 18338, 19702, 12429, 6570, 1017, 15900, 14347, 330, 11032, 5958, 3620, 16354, 19875, 6256, 14932, 11230, 15767, 17487, 4355, 17568, 6635, 2396, 6883, 11776, 20371, 10281, 16271, 12569, 8511, 11197, 15734, 2115, 5288, 3437, 9296, 13833, 13346, 18726, 12330, 3735, 1428, 8659, 9007, 12528, 8907, 19701, 7535, 8370, 20007, 1932, 10883, 18056, 8974, 4916, 2180, 5353, 7552, 15749, 766, 2130, 18783, 10575, 4666, 13130, 14444, 14046, 4964, 10336, 9328, 7477, 14221, 2932, 7956, 3767, 5220, 65, 10511, 15833, 13982, 7238, 16270, 20807, 46, 20757, 7088, 19691, 2014, 2493, 10690, 20120, 16062, 15931, 7417, 2749, 14030, 19808, 18923, 20245, 11244, 3484, 7840, 11013, 7790, 5939, 20037, 30, 10426, 10674, 9608, 16352, 2733, 17087, 15228, 17516, 4334, 5169, 13277, 11507, 13177, 11326, 4095, 1846, 18549, 8582, 10789, 6558, 19690, 17839, 6906, 12896, 20038, 7822, 12715, 15045, 11343, 18037, 4020, 12557, 2111, 13879, 12507, 7085, 2846, 10425, 18889, 3152, 8045, 1780, 5251, 9788, 7052, 14979, 5986, 77, 13209, 15416, 8622, 19903, 11258, 5349, 3011, 14779, 19135, 19491, 11375, 16349, 2680, 3515, 7473, 20605, 18267, 8300, 12837, 9622, 14159, 4498, 9341, 5639, 11977, 2895, 3251, 16464, 3201, 1829, 2664, 17597, 5300, 19267, 14324, 8415, 6564, 16481, 17135, 16729, 17085, 1746, 11207, 14291, 11076, 17364, 2381, 15026, 17233, 9125, 9802, 7951, 1076, 16415, 3283, 15480, 12257, 12563, 3481, 11678, 14762, 17935, 12026, 6604, 9290, 12274, 3760, 9488, 6621, 10223, 6521, 19653, 12778, 15108, 15545, 7735, 19364, 18916, 13405, 10132, 1974, 10794, 18983, 13074, 5322, 12545, 10338, 3463, 4785, 11173, 17867, 10586, 19131, 925, 5949, 2247, 7313, 4477, 5710, 4652, 14561, 6801, 1379, 13445, 17495, 8015, 16560, 14172, 16379, 5179, 990, 1956, 12750, 17643, 10501, 3097, 15561, 3345, 5981, 9502, 10866, 16196, 4378, 18824, 2477, 3841, 7849, 10535, 445, 12213, 924, 17098, 14849, 1709, 2981, 11568, 11039, 8303, 3758, 20550, 2344, 8732, 15824, 20361, 5378, 13088, 2773, 922, 14889, 6294, 3956, 741, 3783, 16865, 1295, 15741, 12468, 11939, 12905, 8368, 1972, 10567, 9682, 9153, 10517, 17211, 11789, 20028, 9582, 15658, 4227, 18113, 18550, 15327, 1658, 9855, 4294, 14690, 17863, 20318, 4929, 13037, 17930, 20616, 16458, 20029, 4648, 17293, 9185, 5127, 8648, 11821, 2739, 18334, 3830, 10087, 14226, 19119, 19111, 13558, 16731, 9102, 6714, 16631, 5829, 14772, 755, 13887, 20631, 17895, 20094, 1003, 9019, 17483, 10689, 193, 4730, 20548, 11466, 8382, 4680, 10002, 391, 13523, 14308, 2490, 15622, 6846, 11739, 3144, 17242, 14027, 10854, 20284, 14862, 1243, 6696, 15639, 1093, 3423, 150, 3721, 11431, 6894, 3092, 225, 8770, 11854, 4712, 1010, 3209, 8233, 3159, 9547, 1258, 15704, 12489, 15306, 20678, 18827, 20547, 20497, 16389, 17355, 19431, 5812, 390, 10836, 2191, 15192, 4348, 8885, 8398, 638, 4777, 6010, 10018, 4109, 6926, 16356, 18563, 1373, 13968, 1802, 12067, 17439, 2537, 18711, 17695, 1827, 8215, 19315, 17943, 17545, 2075, 1588, 1488, 14570, 12719, 851, 1817, 18520, 10637, 191, 16446, 8330, 1455, 8280, 17710, 13602, 20744, 20296, 3106, 6677, 8041, 12884, 18743, 181, 15520, 16486, 18206, 7891])\n",
            "Partition 3 :\n",
            "Row(movieId=3, users=[15826, 12124, 15289, 306, 13338, 9180, 3140, 14371, 19874, 2634, 15404, 2709, 7644, 17561, 9882, 19312, 14767, 1585, 9651, 9164, 18675, 20476, 18625, 6857, 14080, 16287, 12404, 2874, 12435, 2387, 11767, 7709, 2287, 4007, 1700, 17039, 8923, 20691, 5708, 12881, 15038, 18328, 17841, 10568, 14220, 16021, 4203, 5923, 501, 1865, 8211, 9475, 5592, 3641, 1740, 4824, 17956, 6625, 18343, 16492, 16005, 6038, 13823, 13286, 9228, 15574, 1418, 11335, 7277, 19772, 13813, 19185, 10417, 6359, 15789, 2170, 10367, 17590, 400, 6178, 13401, 20624, 19210, 18623, 8656, 14028, 12177, 8069, 1283, 14103, 17755, 12333, 2672, 17168, 7557, 19325, 11696, 9845, 11515, 7457, 2035, 16887, 16837, 16350, 20489, 18151, 14093, 961, 16119, 1136, 20127, 5225, 17689, 17770, 9929, 3920, 19340, 1663, 1788, 9498, 18572, 20779, 9448, 12482, 8374, 4316, 16084, 19655, 6523, 15547, 15903, 4703, 9994, 8224, 4066, 8299, 19580, 16886, 7893, 13184, 13215, 3167, 14448, 1316, 5811, 10827, 8976, 5274, 12497, 20207, 12447, 18306, 14248, 1066, 4637, 5951, 12066, 6157, 11398, 1431, 5439, 14513, 10942, 14950, 13099, 12612, 14900, 3032, 8273, 20347, 14438, 900, 17603, 19810, 6191, 11563, 3934, 17066, 6222, 2520, 12777, 15015, 4967, 20256, 12627, 14347, 3503, 14653, 6537, 6893, 7520, 9577, 13454, 2123, 11197, 12917, 3437, 4751, 18726, 5188, 14618, 18139, 13594, 8659, 10023, 2263, 4064, 849, 4420, 6171, 18816, 13394, 16965, 1932, 17271, 15420, 20792, 8974, 4916, 1214, 13063, 18841, 18304, 8337, 8287, 19568, 16353, 20005, 4179, 10038, 7700, 3948, 17923, 196, 11964, 1866, 7238, 46, 20757, 3567, 8452, 16162, 1179, 7038, 18319, 2493, 13774, 4700, 10690, 4781, 2393, 14161, 19808, 717, 261, 4269, 7840, 11848, 5939, 5352, 13839, 20410, 16352, 2733, 15228, 4384, 17516, 682, 2046, 17822, 17335, 20500, 18649, 7268, 5723, 18855, 16517, 9244, 12715, 9144, 6756, 17581, 2598, 2111, 9771, 3862, 19201, 18714, 13292, 14656, 6069, 13111, 15318, 7202, 3500, 5251, 12830, 5201, 10573, 5020, 4533, 10473, 8622, 9805, 9836, 2432, 17284, 11375, 18598, 14796, 16516, 10738, 18448, 16597, 18804, 12895, 5316, 8837, 9324, 12795, 14159, 19481, 14234, 2547, 4267, 646, 11927, 7738, 465, 5837, 5431, 5787, 5300, 18432, 16968, 16481, 7001, 19771, 13943, 2531, 11961, 11911, 11992, 15076, 17364, 2381, 17314, 11761, 10918, 18035, 14414, 4934, 20273, 876, 6298, 2496, 3760, 9619, 9488, 15216, 7100, 3885, 17017, 16967, 18331, 18768, 6463, 16380, 9107, 6413, 991, 2711, 8083, 9884, 15256, 15562, 4362, 9297, 3744, 1974, 2330, 4000, 3950, 7602, 12974, 9272, 15131, 18215, 4627, 1412, 15908, 875, 19866, 19379, 775, 5710, 12412, 15883, 19454, 3578, 13139, 13445, 11138, 5229, 18717, 16379, 14609, 17643, 12527, 19669, 8419, 8288, 11453, 5850, 9015, 15361, 3056, 16544, 7551, 7064, 16625, 14287, 16444, 20321, 8634, 14493, 20221, 4832, 2981, 6196, 11924, 19765, 10154, 2394, 5915, 11418, 9567, 7716, 87, 16790, 20361, 5378, 1757, 14402, 12551, 1576, 1445, 9642, 989, 8568, 16765, 8468, 708, 8368, 9682, 5980, 17211, 9582, 7469, 13459, 5699, 15129, 1591, 10534, 12772, 19864, 1310, 19327, 15625, 17913, 4375, 673, 4063, 17195, 2649, 13443, 2062, 9285, 18715, 16458, 13243, 2839, 5046, 6797, 4540, 10268, 4003, 19698, 1144, 13789, 7880, 19648, 6029, 17310, 4615, 2714, 11788, 5829, 17110, 14772, 5292, 20631, 11101, 5061, 4524, 16648, 4243, 11466, 4680, 10002, 11722, 18945, 5763, 341, 15274, 3019, 11085, 3456, 20159, 14606, 9184, 1293, 20184, 6646, 4308, 17440, 250, 13738, 5928, 17159, 11069, 18779, 13357, 225, 14977, 9199, 12589, 16191, 1158, 13803, 6074, 19562, 5812, 390, 340, 13341, 11571, 9233, 3324, 836, 4975, 6645, 19290, 17439, 8446, 3901, 13818, 2843, 8134, 4076, 12273, 19496, 8084, 13456, 9885, 7984, 17545, 13000, 11149, 3876, 1438, 5009, 12719, 9148, 18091, 16446, 8330, 19124, 5942, 4091, 13602, 8049, 10627, 8776, 4718, 18206, 5380, 14404, 4793, 12016, 10165, 4743, 635, 17338, 2842, 13636, 11785, 8701, 4156, 6363, 11379, 7627, 15337, 16776, 20784, 9453, 20378, 850, 17990, 14775, 6659, 1056, 14188, 11494, 12337, 6559, 15502, 19460, 13064, 9718, 1602, 7948, 18742, 3222, 20443, 12552, 10345, 12502, 8931, 13816, 16104, 14253, 15567, 4236, 9883, 2691, 2204, 12121, 15692, 13354, 2073, 2154, 13435, 9246, 1923, 9633, 9146, 18707, 12667, 9046, 2650, 799, 1236, 2906, 1055, 16394, 5113, 6914, 20046, 518, 4526, 418, 19328, 368, 5740, 15657, 16971, 14633, 12782, 20492, 14352, 16509, 19980, 17236, 9963, 9913, 14748, 14698, 11127, 10640, 7425, 8789, 1822, 6657, 748, 8814, 2268, 17070, 11729, 12962, 20672, 3482, 15606, 15019, 8979, 14838, 3457, 20160, 14738, 14251, 6622, 4771, 6135, 17772, 6928, 2383, 11944, 2333, 15465, 5904, 18986, 4309, 9812, 16904, 7424, 2002, 151, 13283, 4209, 101, 15440, 14903, 10845, 7143, 18505, 17887, 18274, 10870, 2267, 2623, 16192, 366, 17506, 8026, 15118, 7489, 2423, 16919, 1399, 9109, 16332, 4951, 7158, 2919, 2819, 4539, 8091, 4389, 18885, 16984, 10894, 5472, 7092, 20043, 1033, 8612, 13628, 13447, 3967, 5687, 16868, 3686, 1348, 1298, 13066, 3586, 8908, 19702, 20139, 15413, 430, 9991, 511, 15363, 15800, 9891, 9760, 2000, 6008, 7372, 3670, 9660, 9529, 18553, 15338, 18016, 10643, 15528, 12313, 4684, 4634, 17766, 15784, 12032, 13396, 4172, 15453, 16767, 6800, 20775, 7237, 12528, 18468, 8420, 12072, 8676, 10883, 18056, 8039, 6188, 766, 11560, 18733, 179, 4964, 8972, 12899, 9328, 2932, 16907, 12362, 3369, 16857, 12262, 10898, 2295, 3865, 9674, 19104, 7417, 9006, 7155, 18823, 8856, 11013, 2897, 6468, 3980, 2079, 3393, 534, 11328, 3162, 18401, 17864, 1030, 624, 14112, 17714, 19690, 15501, 15582, 19153, 3764, 15532, 16715, 4020, 3533, 20136, 1095, 10606, 8755, 10069, 8705, 8574, 6723, 12582, 6623, 4772, 16053, 15466, 13209, 18450, 20251, 6713, 14779, 7019, 2830, 979, 12260, 16399, 10846, 8152, 16349, 4937, 8589, 13424, 7515, 729, 5664, 18746, 12837, 15044, 9622, 18696, 3663, 7671, 18721, 1531, 3251, 5102, 8623, 994, 10861, 19267, 19217, 19654, 14828, 8919, 20687, 7018, 1109, 8332, 12340, 10976, 19563, 11803, 20000, 2629, 9315, 15480, 17150, 1761, 20671, 16613, 14762, 5332, 3431, 9290, 8884, 8753, 1124, 5082, 18214, 8653, 19447, 4058, 10192, 8422, 15645, 4183, 13694, 11793, 20380, 15314, 5347, 20636, 5247, 8281, 5016, 10794, 12058, 4785, 13809, 10107, 15610, 13272, 9701, 13222, 5949, 14842, 6676, 3817, 19156, 18669, 16818, 5000, 5081, 14024, 16231, 5031, 19883, 18032, 2643, 15775, 19296, 742, 4263, 13337, 4163, 12750, 19321, 11561, 17014, 3345, 2858, 8717, 3164, 2627, 13908, 2658, 3014, 15659, 19230, 19311, 757, 5867, 445, 18949, 395, 1709, 9369, 18312, 12890, 1122, 10989, 14510, 8245, 15824, 14054, 12203, 10352, 6294, 741, 10171, 12278, 3675, 9534, 2261, 15343, 18864, 3831, 12905, 15112, 10567, 14575, 4427, 1212, 2526, 14244, 8335, 15071, 4227, 13607, 15814, 7648, 5797, 5310, 5260, 12970, 12483, 20418, 18648, 20318, 6599, 16160, 7863, 13235, 1904, 2260, 2160, 11234, 18732, 9739, 16831, 11053, 19119, 15061, 11359, 20433, 16731, 16194, 6714, 16631, 4813, 11986, 13606, 9367, 17077, 193, 8730, 16796, 16309, 14458, 14308, 19324, 4160, 9532, 14027, 15391, 358, 11639, 2159, 8895, 12853, 3373, 16374, 18175, 6357, 18125, 19845, 18075, 18300, 1060, 20051, 1010, 4581, 8233, 4531, 5895, 17126, 20728, 14819, 5695, 1637, 12431, 20497, 11017, 17753, 14357, 3026, 14794, 4827, 2489, 638, 15977, 4290, 4240, 4596, 10455, 1671, 9281, 16810, 10770, 14422, 9000, 18430, 2554, 2354, 13635, 18926, 14868, 1817, 15174, 191, 20546, 18695, 19132, 19082, 18595, 5463, 16825, 6727, 2975, 8478, 17908, 15570, 8428, 4239, 15520, 19659, 7760, 131])\n",
            "Row(movieId=7, users=[15826, 16959, 9767, 5659, 18660, 9180, 3140, 14371, 19874, 4841, 6205, 14271, 8231, 602, 421, 19899, 2709, 17561, 7644, 4023, 8858, 15073, 9164, 7394, 18675, 998, 20476, 3286, 5006, 14080, 16287, 17957, 12404, 4644, 11767, 6345, 8196, 4007, 9510, 6295, 1700, 17039, 3988, 5708, 16708, 20279, 5246, 17841, 10568, 4740, 4609, 4203, 5923, 15840, 401, 11682, 11195, 9475, 15203, 20444, 5055, 3641, 1740, 4824, 13021, 8963, 5261, 8913, 18343, 14285, 16492, 17856, 2467, 6038, 17525, 6194, 11485, 17475, 6063, 13286, 3269, 10979, 5070, 3119, 16607, 19772, 8360, 13813, 19672, 19185, 13763, 15789, 19360, 2170, 10367, 400, 6178, 13401, 20624, 17409, 19210, 12814, 3771, 4954, 896, 12177, 16185, 8069, 19706, 971, 12333, 14003, 17168, 11746, 13466, 7557, 9845, 9308, 19225, 2035, 16887, 16837, 18151, 20358, 961, 3168, 7307, 11184, 5225, 14068, 13531, 9829, 4407, 3920, 4001, 19340, 1663, 5671, 5621, 9498, 4953, 5309, 10762, 12482, 8374, 4316, 15903, 9994, 13646, 4522, 1778, 4066, 9357, 1953, 13315, 1903, 7893, 11333, 6042, 13215, 14398, 8976, 5274, 12497, 11960, 6538, 18306, 4637, 9778, 6157, 11398, 5976, 3232, 14513, 12612, 7190, 19835, 4852, 4521, 11744, 900, 19810, 3934, 15702, 19223, 16835, 15065, 18536, 14653, 9231, 1471, 11032, 13479, 11628, 19825, 11378, 9171, 7189, 1636, 11197, 5288, 3437, 9296, 4751, 18726, 14618, 4570, 8659, 10379, 9973, 4420, 6171, 17452, 16965, 1932, 18585, 20792, 1214, 18485, 13063, 1164, 8874, 16534, 2428, 12345, 19568, 16353, 10394, 6336, 7700, 15410, 7875, 5924, 1866, 7238, 20757, 3567, 1179, 11096, 6551, 10690, 4781, 8352, 16062, 2393, 19808, 717, 11998, 15650, 261, 4269, 13699, 10855, 707, 2733, 15228, 6591, 682, 13814, 15128, 17335, 7368, 20500, 11507, 14591, 18649, 16748, 3697, 7268, 18549, 13127, 18855, 12896, 18187, 6987, 12715, 9144, 11822, 6756, 18037, 4012, 17581, 2111, 7483, 5632, 6069, 1961, 18664, 15318, 14831, 16682, 7558, 11210, 7002, 10086, 20490, 10573, 4533, 10342, 9936, 10242, 9836, 13276, 11375, 18598, 13045, 5316, 18804, 16110, 9324, 8787, 12795, 16366, 9870, 7969, 2547, 4267, 8225, 19019, 18919, 16662, 16481, 12423, 14043, 10828, 19771, 2531, 680, 1117, 11555, 6133, 16927, 15076, 5596, 17364, 9554, 10918, 5396, 1026, 20017, 14464, 18035, 926, 17629, 14414, 4934, 20273, 19786, 2596, 17398, 2496, 5530, 3760, 20463, 9619, 8, 3885, 16967, 18331, 3248, 12322, 9107, 8083, 9884, 4331, 15256, 13405, 9297, 3744, 2330, 15768, 11223, 3950, 7602, 9272, 18215, 18652, 8685, 1412, 18065, 15727, 6734, 10305, 338, 17965, 19329, 2139, 12412, 5710, 107, 19454, 14032, 17197, 3578, 15296, 13445, 16479, 5229, 11007, 14659, 4692, 1477, 14609, 14122, 15842, 990, 8263, 10907, 12527, 15561, 15511, 5494, 5850, 18982, 9015, 1742, 10766, 7064, 16625, 12923, 14287, 1592, 20808, 20321, 14899, 8634, 8990, 6196, 2981, 11924, 8353, 724, 2394, 17327, 5915, 11418, 9567, 7716, 11318, 12551, 1445, 1526, 16378, 989, 8468, 839, 14327, 2022, 6517, 15591, 9682, 5980, 558, 13690, 17211, 15229, 11171, 17517, 13459, 11608, 15666, 20682, 7469, 10534, 20451, 4575, 12772, 17707, 18550, 8533, 15756, 12541, 6632, 17913, 11517, 4375, 5, 7715, 17632, 19433, 18946, 9385, 2062, 5714, 5227, 18715, 16458, 13243, 2839, 5077, 3226, 18078, 4540, 2639, 4003, 19698, 16483, 12425, 19648, 17310, 4615, 2714, 19367, 3541, 5829, 5779, 20631, 7012, 14722, 16036, 18680, 4524, 10689, 17812, 622, 14110, 2829, 13036, 5407, 17175, 7564, 8928, 15274, 16638, 11085, 3456, 20159, 4995, 1293, 1243, 19747, 2507, 15639, 4308, 8266, 6415, 2357, 3721, 456, 11069, 225, 14721, 20449, 6911, 14977, 7348, 1795, 14877, 17992, 1158, 12439, 13803, 4323, 15604, 11365, 19562, 4223, 2241, 2191, 340, 2060, 12935, 3274, 6926, 10934, 836, 13968, 6645, 8009, 19290, 17439, 15588, 199, 7778, 2356, 4076, 13456, 4463, 5777, 17545, 7984, 9348, 11149, 1438, 5009, 12719, 9148, 1338, 10637, 2421, 5942, 4091, 11314, 13521, 9463, 2677, 13958, 5761, 8049, 12934, 11083, 14735, 3891, 11033, 10627, 8776, 14635, 18206, 1016, 9438, 5380, 14354, 8445, 20032, 17338, 11916, 2842, 8701, 6363, 11379, 14023, 15337, 11585, 8891, 9197, 20478, 3644, 13155, 18090, 9453, 8966, 850, 4858, 17990, 14775, 6659, 17453, 6609, 1056, 13064, 9718, 15221, 13370, 7948, 18742, 13320, 3222, 18642, 1808, 11369, 20443, 3609, 12502, 16104, 14253, 2485, 11996, 2691, 19394, 15692, 2073, 13354, 11097, 9246, 16906, 1517, 18220, 12667, 9046, 3137, 2906, 14674, 16394, 1055, 6914, 518, 7741, 2219, 368, 5740, 17021, 11062, 12782, 18285, 20492, 2765, 12682, 5228, 1170, 20080, 2890, 4691, 2871, 8162, 533, 17236, 14021, 9963, 483, 2203, 15335, 14748, 5755, 11127, 10640, 7425, 8789, 12797, 18962, 4856, 14417, 7144, 18425, 4219, 6426, 6376, 19458, 2268, 20772, 317, 12962, 15606, 15375, 5408, 4921, 14482, 14838, 8979, 9060, 9416, 16639, 3457, 14738, 14251, 4284, 4234, 6035, 18986, 13820, 7424, 13283, 5523, 101, 7324, 9044, 14416, 14366, 18505, 4886, 20175, 18274, 12009, 2448, 2267, 2217, 366, 6175, 15118, 7489, 9696, 18770, 12630, 9009, 19803, 2919, 8141, 13513, 8091, 4389, 7423, 18785, 5166, 5603, 20455, 5422, 11150, 3521, 7092, 4604, 16372, 3967, 5687, 5768, 346, 3430, 1579, 13653, 3686, 1348, 17124, 1298, 3586, 1248, 8958, 2918, 9264, 12429, 16000, 20139, 19652, 611, 19521, 17751, 15413, 430, 9991, 511, 8090, 9454, 9760, 6008, 15569, 9660, 10843, 18553, 15338, 7141, 9429, 13081, 10643, 5998, 17766, 2652, 15653, 13396, 2065, 13833, 11495, 7437, 4222, 20519, 4172, 11395, 19105, 6800, 4949, 12659, 12528, 2998, 12072, 18156, 5105, 10883, 18056, 8039, 2617, 11560, 18783, 229, 11510, 18733, 179, 7402, 5064, 1393, 10823, 20122, 2932, 12362, 16857, 2832, 15833, 10898, 13526, 7923, 3865, 2014, 7517, 1914, 7417, 2220, 7155, 14815, 5691, 18823, 16485, 20006, 4617, 4517, 4467, 7501, 3393, 7757, 2335, 11228, 9021, 5319, 14749, 20252, 14112, 20102, 19615, 2731, 474, 13244, 3764, 9623, 3664, 4020, 14814, 10656, 10169, 1532, 1126, 16203, 10425, 14433, 12582, 19318, 19755, 4772, 16053, 9788, 15466, 13209, 18450, 7606, 4912, 20251, 6713, 6663, 16580, 18169, 14061, 16349, 8589, 15762, 19333, 13424, 2093, 1962, 5564, 9572, 3663, 3176, 13399, 9341, 11061, 16514, 1531, 2845, 994, 6853, 13976, 11638, 19217, 6166, 19298, 3778, 8332, 12340, 10976, 8282, 1009, 12290, 11803, 20000, 10439, 12240, 11522, 9315, 17737, 11778, 6356, 17150, 15380, 13042, 16613, 7083, 20521, 4695, 12274, 14562, 5082, 18214, 8653, 19447, 4058, 10223, 15108, 13694, 13207, 15414, 9505, 512, 15008, 20380, 9405, 1776, 1726, 20636, 14727, 5247, 4760, 8818, 8768, 12776, 5016, 10794, 6686, 12058, 4785, 6099, 9751, 9701, 5512, 5949, 7669, 40, 3511, 18007, 1660, 6676, 12810, 3817, 18669, 5131, 6851, 7338, 5081, 20420, 892, 5031, 18519, 15825, 18032, 19883, 10403, 19833, 2643, 16131, 17495, 19296, 13387, 11973, 3726, 4163, 12750, 11205, 17064, 7403, 3345, 1494, 2858, 5552, 2627, 19411, 16196, 370, 19311, 7849, 5817, 17585, 2973, 18312, 14691, 6931, 16848, 8245, 4493, 872, 12328, 12278, 3675, 9534, 15343, 12955, 9253, 12905, 10567, 20028, 12624, 17915, 1212, 4377, 2526, 15658, 10542, 17765, 15427, 4227, 13607, 15327, 9855, 5797, 20418, 18648, 10888, 20318, 16566, 740, 15673, 10607, 2491, 11434, 17780, 13235, 15523, 1904, 2260, 2160, 18732, 16831, 11053, 3780, 20433, 16631, 805, 6177, 13606, 9367, 18210, 2821, 14458, 3258, 8580, 10300, 13821, 10250, 9713, 6011, 6448, 5830, 14027, 20713, 13440, 3473, 15241, 18762, 3373, 16374, 18175, 19926, 18300, 14242, 11854, 20051, 4581, 4531, 14819, 20678, 5695, 1637, 20497, 16439, 11017, 1050, 18496, 3026, 4596, 12306, 10455, 15340, 7611, 17041, 15190, 3628, 7199, 10770, 6612, 17356, 603, 5438, 13635, 1817, 5388, 15174, 191, 19132, 9165, 5463, 18595, 12686, 16825, 1355, 6727, 17908, 15570, 13719, 8428, 4239, 19578, 13313, 19659, 131])\n",
            "Row(movieId=13, users=[6956, 16886, 15616, 6767, 14477, 20024, 3525, 9965, 19416, 11889, 3265, 17342, 9959, 3084, 7469, 16095, 1112, 5620, 5235, 19964, 6659, 8279, 7538, 17709, 16164, 17884, 19858, 20062, 5058, 18190, 19810, 14380, 18359, 16691, 19521, 19267, 74, 176, 1519, 17468, 6564, 6797, 9687, 19698, 20279, 8317, 14951, 9529, 19388, 2177, 11628, 15026, 11682, 11195, 14826, 5998, 17614, 4547, 9317, 5869, 10639, 4730, 4955, 11466, 8659, 1734, 6525, 15499, 11085, 20159, 10883, 5228, 5830, 20619, 15922, 6950, 7552, 15639, 6515, 2203, 687, 11127, 19845, 10132, 937, 4021, 17844, 4154, 3900, 5641, 3109, 4219, 8452, 19285, 8729, 16062, 18413, 8048, 12962, 2749, 19808, 7265, 19635, 2191, 3657, 18132, 7796, 3557, 6120, 20006, 4596, 17495, 3457, 10193, 6135, 713, 19856, 12371, 836, 7501, 18151, 6595, 13839, 11184, 12273, 9094, 13631, 3897, 9502, 7368, 14845, 1846, 9700, 18274, 12009, 19261, 851, 7668, 8990, 9398, 3125, 11568, 3075, 9463, 15984, 19280, 9080, 11999, 5378, 20798, 1757, 13038])\n",
            "Row(movieId=20, users=[9438, 306, 14354, 9767, 10115, 1012, 17338, 7350, 13209, 14023, 8622, 19416, 14371, 15337, 13486, 8462, 14779, 17973, 10082, 16776, 8181, 4102, 16349, 4937, 13126, 2680, 829, 17024, 7515, 2899, 11850, 11452, 12795, 16366, 18675, 19183, 9245, 6857, 12404, 20622, 5639, 2547, 7948, 3382, 5102, 17857, 10982, 5073, 17807, 2316, 19985, 2664, 5300, 11159, 3043, 16481, 1092, 6116, 18965, 19444, 4084, 1746, 10291, 2531, 17006, 17841, 10539, 13335, 12848, 10489, 12667, 17562, 6914, 17629, 6785, 1740, 4426, 12157, 11170, 7570, 17398, 14793, 10633, 14285, 16492, 11012, 15905, 16892, 1422, 14106, 17046, 17017, 16509, 1070, 11008, 15922, 6463, 2384, 9107, 8599, 16707, 18050, 13515, 3744, 8281, 17559, 10794, 18983, 10367, 4856, 4785, 16087, 5641, 17409, 16922, 7492, 2986, 13301, 17838, 6536, 9751, 6507, 3153, 925, 5949, 20772, 20264, 18413, 12106, 12962, 5710, 9616, 11904, 971, 5000, 18032, 13445, 17982, 6193, 4284, 16052, 2035, 9177, 3349, 1477, 6035, 9564, 18151, 14093, 4309, 9681, 17341, 12267, 15084, 13581, 7601, 19738, 7551, 17489, 3820, 7849, 5621, 18753, 1759, 7995, 9398, 12482, 3002, 18341, 2981, 15118, 7489, 593, 14691, 137, 8732, 7716, 15824, 17277, 5378, 11724, 12711, 12203, 12580, 20798, 7158, 6294, 19580, 16886, 12278, 3683, 5811, 7654, 15741, 4389, 2967, 12905, 1066, 5472, 17211, 20028, 3898, 7469, 12972, 12066, 1104, 10542, 4227, 14513, 7240, 15327, 12612, 20649, 5768, 7090, 9797, 13347, 14690, 15177, 15656, 20570, 11009, 6422, 5914, 20318, 19810, 14736, 19252, 9285, 182, 18338, 12777, 9206, 4540, 18732, 19698, 178, 13558, 17718, 9102, 19011, 6714, 11628, 16631, 19825, 5829, 5342, 2983, 755, 4813, 20631, 5548, 14622, 5540, 9577, 953, 16271, 8532, 10231, 11197, 12917, 15734, 772, 3437, 13346, 18726, 13783, 11466, 16469, 4680, 7337, 8659, 12659, 849, 13952, 12072, 16965, 16457, 10883, 10854, 8974, 4916, 14456, 1214, 4387, 18485, 11589, 15639, 18791, 1093, 3292, 2894, 18712, 20432, 7402, 20005, 14952, 3163, 14046, 18300, 2403, 2882, 1010, 8233, 6382, 15833, 9547, 6282, 20757, 14848, 3517, 802, 7567, 2849, 10690, 20497, 10072, 17753, 12477, 5662, 4290, 6497, 2418, 10018, 16733, 16327, 8517, 20235, 2558, 2537, 1652, 3728, 1013, 11328, 7778, 882, 5021, 2306, 9000, 4384, 276, 5009, 12719, 16879, 4553, 191, 3008, 19690, 16446, 13731, 8330, 1455, 17273, 19082, 7314, 11322, 5921, 17123, 12934, 7970, 18743, 11114, 13292, 18206, 1961])\n",
            "Row(movieId=21, users=[2207, 3958, 15189, 9767, 18660, 9180, 3627, 14371, 6742, 8493, 8718, 10082, 4073, 15791, 17511, 17024, 1635, 15073, 9295, 9651, 9164, 6857, 1435, 948, 12535, 16106, 12404, 12435, 6295, 5708, 5221, 18303, 9310, 3757, 3270, 18428, 5246, 16121, 17841, 12419, 2452, 20079, 10112, 17641, 13583, 15303, 9425, 6079, 5461, 5005, 16236, 11170, 1203, 4774, 14285, 6525, 2467, 4187, 17756, 15905, 11847, 19120, 7789, 8145, 17525, 13823, 11516, 11029, 9078, 16607, 16120, 8360, 731, 6053, 17640, 10367, 6309, 400, 2120, 20624, 2020, 19160, 16822, 3771, 16722, 12177, 1102, 971, 12333, 18111, 8631, 871, 17168, 13466, 7457, 2035, 20539, 13266, 11415, 14630, 9564, 16119, 12417, 4788, 10110, 2350, 14068, 4101, 9879, 1663, 4126, 18572, 13150, 10812, 18341, 15903, 10125, 4703, 11745, 15316, 13265, 13621, 15472, 16836, 3167, 1316, 14885, 14398, 10696, 5274, 13811, 11960, 16049, 19258, 17407, 13249, 9678, 3282, 16851, 20422, 13149, 14513, 10942, 7240, 3182, 16751, 19835, 1231, 4571, 11744, 6222, 669, 14628, 12777, 10926, 8619, 14653, 9231, 5173, 4686, 6893, 11628, 7957, 9321, 9577, 11197, 10710, 3437, 18726, 5188, 8759, 4570, 15445, 8659, 12130, 5734, 14758, 7841, 1932, 4139, 18585, 20792, 11312, 1832, 8974, 18485, 18841, 12932, 3452, 1601, 1114, 12832, 12345, 6436, 1014, 15947, 16303, 12245, 15816, 10394, 6336, 13865, 17436, 2534, 2403, 65, 7238, 5774, 3080, 5287, 4831, 16062, 2393, 542, 2262, 8171, 11642, 10278, 4369, 16964, 6120, 7840, 80, 20335, 16277, 11211, 20235, 13839, 8642, 882, 6822, 9906, 8055, 426, 15228, 4384, 7955, 682, 2046, 15128, 11426, 6004, 3310, 16879, 18599, 13177, 11326, 12690, 18855, 17004, 20575, 11095, 10608, 12846, 12715, 12228, 9144, 19888, 14466, 18037, 9921, 15243, 7970, 4268, 15143, 13292, 4168, 1961, 13061, 11210, 12830, 12343, 7408, 20003, 14581, 19416, 11656, 18829, 7985, 94, 14796, 20605, 8787, 10507, 17680, 2547, 8325, 17349, 11927, 13647, 7738, 5431, 14324, 4844, 20133, 8802, 17564, 13862, 2531, 11911, 9704, 4282, 224, 17364, 15513, 19084, 11324, 4182, 1744, 3464, 8886, 20248, 14564, 1026, 19786, 12157, 12026, 4397, 3910, 595, 11339, 9132, 11008, 1041, 18537, 8083, 13405, 11554, 3825, 7396, 9472, 18983, 3950, 20603, 16545, 12487, 18652, 10049, 925, 825, 17965, 17478, 19329, 19554, 11925, 14132, 8354, 7867, 6016, 14032, 7636, 3578, 18998, 15296, 13445, 5329, 3478, 12989, 16560, 14609, 15973, 16329, 17693, 8213, 4767, 19569, 2329, 3693, 9015, 1742, 20246, 5344, 7551, 10535, 9040, 16700, 16213, 15626, 11955, 11824, 2344, 3708, 5915, 11368, 1757, 14708, 18666, 16815, 10906, 6361, 8568, 15741, 16128, 8368, 4079, 13459, 11121, 1641, 7419, 15079, 12741, 1541, 3261, 6832, 12772, 16343, 17707, 18550, 8583, 15756, 17507, 13443, 392, 12987, 9285, 2012, 16458, 2202, 19698, 14276, 12425, 6029, 11838, 19011, 11738, 5829, 10664, 8226, 14391, 8482, 11466, 4680, 2829, 13704, 15424, 10779, 3019, 20159, 9184, 14506, 14862, 16226, 16713, 20184, 16126, 8853, 1093, 606, 2457, 17746, 6059, 6415, 150, 3721, 17159, 9530, 2257, 14721, 7348, 3159, 6630, 1208, 721, 17992, 9745, 4323, 6043, 11852, 11365, 6074, 9514, 1885, 5812, 15323, 2141, 16943, 16456, 18663, 20314, 13918, 4925, 9860, 17876, 11836, 2843, 8165, 17545, 11149, 5009, 14189, 12338, 17273, 6429, 4578, 17173, 20744, 8049, 2140, 14735, 20544, 16486, 15999, 18206, 10933, 16124, 6544, 11379, 13586, 5470, 15337, 13486, 9915, 12768, 6759, 850, 3057, 14288, 6172, 619, 13701, 11850, 6559, 8279, 4121, 15221, 12006, 7948, 13270, 14990, 20443, 18592, 7130, 8494, 18361, 765, 2485, 4236, 6799, 8163, 4461, 8032, 9783, 5625, 7832, 12211, 12567, 10847, 7145, 1236, 14674, 6914, 10485, 11749, 2269, 4476, 2138, 5153, 1938, 9111, 14302, 16509, 8749, 3327, 633, 17773, 15922, 19980, 15822, 9913, 8062, 13515, 14748, 12797, 3673, 18962, 18475, 20195, 18375, 14673, 2986, 10128, 4219, 6426, 15450, 20772, 15606, 11904, 16839, 9566, 5508, 3657, 17226, 5408, 1350, 18003, 14788, 3457, 16052, 663, 2383, 15465, 5985, 7705, 4359, 201, 5523, 3672, 9094, 18118, 12565, 19738, 12465, 778, 18274, 12009, 13729, 10870, 6812, 6225, 2523, 16969, 15118, 7489, 18233, 13167, 12711, 12580, 10985, 10498, 5076, 16307, 12249, 7704, 12149, 13513, 4389, 2051, 19191, 19091, 4579, 1364, 5422, 17009, 1133, 8175, 13628, 4017, 17586, 9826, 5768, 3430, 1579, 18850, 20570, 13166, 17124, 18488, 3586, 3099, 1248, 7157, 20108, 8908, 2999, 20008, 11892, 14099, 15363, 17570, 9454, 2668, 817, 17339, 2437, 586, 7372, 1850, 8992, 11230, 2983, 17916, 12007, 6941, 545, 5998, 8205, 2652, 15734, 13396, 6610, 19205, 13296, 9594, 114, 19105, 12122, 8420, 2998, 18287, 18156, 916, 18056, 15718, 8576, 10296, 4387, 12047, 229, 13667, 7402, 16551, 16907, 12362, 15833, 13982, 931, 19304, 2551, 17484, 7517, 13326, 18617, 7417, 5079, 11213, 9006, 7155, 12477, 3484, 20137, 11013, 10526, 3253, 4617, 9839, 11559, 9352, 359, 17012, 11328, 2335, 15417, 20252, 14699, 7070, 6583, 2881, 17714, 474, 343, 19690, 15501, 2450, 112, 11343, 5921, 3614, 10656, 2896, 12407, 14127, 10425, 19318, 10681, 2565, 16003, 13209, 14929, 16193, 7556, 7069, 3011, 16580, 20151, 18169, 12260, 16349, 14498, 10440, 8589, 2680, 4887, 12060, 7515, 7871, 13324, 12837, 13193, 5564, 10886, 20622, 18771, 9291, 5233, 3382, 5102, 3251, 16464, 14613, 18671, 2664, 13895, 357, 19704, 11588, 15546, 13208, 9375, 382, 8332, 10539, 3166, 19950, 8001, 728, 17381, 5332, 1274, 3481, 12992, 7570, 9290, 19447, 11818, 4058, 18339, 13794, 10223, 7885, 2363, 5447, 25, 20380, 5834, 5347, 20280, 20149, 9305, 10669, 2909, 10569, 9074, 5372, 4785, 10238, 9751, 6049, 9620, 13222, 5949, 4098, 7669, 14842, 9420, 19156, 20520, 10553, 7338, 8702, 16231, 6264, 15775, 16131, 15644, 17982, 8502, 2593, 17882, 19246, 11486, 13693, 4213, 13237, 12750, 11511, 5602, 9204, 10924, 8617, 16146, 2477, 9519, 11626, 9319, 8601, 16261, 12203, 6294, 8501, 2592, 741, 20088, 17394, 17750, 15312, 8170, 4112, 4468, 6319, 9534, 15343, 12905, 12318, 8129, 18352, 14294, 15658, 16014, 2476, 19616, 4227, 13607, 15327, 3409, 4773, 18467, 19831, 10838, 4929, 4442, 15673, 19244, 10251, 10607, 2491, 17780, 7813, 20764, 5862, 16962, 18682, 3780, 10922, 20433, 16731, 18095, 9102, 16631, 17895, 11986, 7441, 9648, 17308, 16821, 18672, 19028, 4482, 2144, 2044, 5615, 18210, 9217, 5028, 14539, 14408, 8143, 19861, 13952, 17523, 13821, 2621, 2490, 6448, 10019, 11639, 1672, 3292, 20076, 20432, 16274, 12216, 398, 11854, 1010, 523, 4581, 3994, 9316, 18340, 20547, 3438, 14669, 7134, 14794, 18365, 19729, 2489, 638, 18265, 14207, 10018, 4596, 19529, 13133, 16604, 7611, 19067, 15009, 7736, 19844, 14322, 13635, 14868, 5875, 4024, 20546, 3793, 1455, 20446, 16388, 18595, 5413, 6677, 8041, 2975, 6577, 19659, 15470, 12255, 12124, 4495, 306, 9817, 12801, 7279, 8512, 16172, 12114, 296, 19512, 18048, 15354, 19412, 11652, 14767, 9345, 3436, 1585, 3792, 14536, 7394, 6907, 9114, 3205, 18625, 10865, 4956, 8783, 17807, 20014, 13618, 11767, 8196, 4007, 19427, 13518, 11667, 14882, 2187, 15269, 14651, 5171, 15038, 12700, 18478, 5427, 18509, 14320, 1138, 5873, 19211, 13302, 13658, 16742, 9600, 14922, 18493, 11220, 1740, 3104, 18393, 10633, 2317, 16757, 12699, 5070, 18508, 13086, 16170, 3119, 781, 13863, 681, 19672, 13763, 16326, 7492, 5672, 16285, 9012, 4954, 6705, 10276, 4136, 434, 17218, 4523, 13416, 9845, 6920, 14093, 14449, 7176, 1136, 14705, 7076, 17689, 13531, 9473, 4051, 6258, 3920, 5184, 12713, 14920, 3589, 1738, 3102, 9398, 12482, 10762, 16084, 4066, 5786, 1953, 19580, 16886, 9126, 16786, 11364, 4968, 5811, 12984, 15968, 10059, 1066, 2555, 3919, 6157, 12612, 8941, 19685, 6859, 5008, 8579, 1306, 17472, 6141, 17859, 132, 2885, 11032, 7330, 4305, 3362, 3718, 9140, 12611, 13454, 10760, 7545, 2313, 19940, 15882, 9973, 11693, 10329, 849, 6171, 2113, 7535, 11106, 13113, 12982, 10775, 5353, 8924, 1651, 18791, 12395, 18204, 16353, 10575, 10444, 6386, 14046, 6286, 733, 11964, 15048, 19493, 9039, 46, 20757, 10690, 12410, 6988, 8221, 19808, 15750, 3055, 19839, 13799, 11948, 13699, 16327, 14476, 11161, 2558, 707, 20054, 14632, 16352, 832, 17516, 632, 11507, 18649, 9169, 7318, 5723, 7087, 2021, 3385, 14616, 6987, 6500, 20425, 15880, 12178, 2598, 2111, 19251, 15062, 9284, 7433, 17300, 18664, 7689, 18920, 5251, 7002, 10573, 10342, 4433, 6184, 19135, 11375, 5953, 8160, 20755, 20655, 12895, 7473, 16010, 12795, 16366, 10101, 15423, 10357, 4317, 17399, 2497, 9639, 9052, 7201, 20770, 14861, 18432, 3043, 16481, 12423, 1092, 10828, 6283, 13943, 11961, 761, 630, 2381, 3745, 5852, 3545, 1076, 16365, 3183, 845, 17629, 14414, 8018, 389, 17429, 11876, 58, 11158, 20538, 14629, 5149, 16380, 9107, 7256, 10471, 19364, 4331, 9784, 7446, 3744, 7571, 1662, 18933, 20553, 20066, 18215, 5033, 12206, 8635, 19379, 5710, 13595, 8173, 11157, 1677, 13395, 16479, 11188, 5148, 18717, 16379, 12321, 10957, 8263, 1477, 18130, 17643, 10501, 13741, 15361, 14874, 11659, 7114, 10716, 14899, 10841, 16163, 19734, 8403, 2981, 1130, 19765, 19634, 6096, 543, 17327, 17196, 10931, 5378, 13038, 3558, 5765, 5634, 16865, 10956, 10469, 3196, 16765, 14914, 14427, 18029, 17798, 6111, 9682, 17342, 17211, 9582, 5749, 20682, 13409, 16493, 14642, 12791, 9707, 1460, 16393, 13178, 4575, 8533, 12135, 15575, 11517, 9797, 2649, 18946, 16508, 2839, 18615, 3226, 2739, 10268, 10137, 19517, 15459, 8317, 2408, 557, 19417, 3541, 5292, 20094, 12334, 3341, 1490, 5061, 14797, 16161, 8532, 772, 16548, 20119, 8301, 185, 16638, 8878, 18614, 19978, 9490, 10854, 887, 14456, 16076, 13738, 13638, 6365, 13051, 225, 12720, 3109, 1258, 6680, 4273, 5993, 19075, 13391, 12935, 5662, 5175, 1960, 18257, 12348, 12704, 6926, 10497, 12248, 13968, 16206, 12148, 17439, 2537, 17695, 5877, 455, 19315, 9348, 12719, 7297, 12619, 8561, 10768, 14208, 10637, 5215, 11124, 14239, 16446, 8330, 7843, 9463, 4041, 12934, 5792, 16536, 18743, 11114, 2867, 20232, 7181, 14354, 17338, 8701, 6007, 4156, 6363, 14023, 9478, 5776, 123, 3694, 13205, 16776, 4958, 20378, 16676, 3494, 1156, 11900, 2907, 10080, 8229, 469, 9718, 13320, 15527, 9618, 10982, 12733, 3609, 20393, 18542, 18055, 10295, 4386, 11915, 19444, 8113, 353, 19344, 18857, 17006, 7395, 16906, 11484, 12848, 9633, 9146, 18657, 6739, 2906, 1055, 2419, 17708, 11799, 4526, 468, 5890, 15888, 15270, 4426, 368, 13450, 17021, 3352, 15070, 4616, 6823, 11137, 6492, 1070, 14152, 14021, 8599, 17136, 2103, 13334, 5218, 5087, 4856, 16574, 17938, 5243, 17838, 11929, 10078, 4069, 2218, 5820, 3482, 9616, 3707, 13218, 7796, 20391, 14969, 20260, 5358, 14738, 6978, 4284, 13664, 482, 15415, 12069, 7524, 738, 4309, 151, 16804, 5473, 1771, 1284, 12646, 13002, 10795, 13779, 19944, 15886, 16242, 11697, 17506, 12630, 13563, 13919, 8141, 4439, 12976, 13819, 11125, 5703, 9274, 2001, 15083, 5472, 18423, 14365, 11150, 14265, 15985, 16472, 2934, 2447, 17636, 13578, 13934, 6305, 4454, 7538, 11140, 5231, 2016, 14967, 18438, 7107, 18338, 16487, 12429, 16000, 611, 19958, 15900, 9991, 24, 15800, 17520, 9404, 2487, 2000, 9529, 20404, 14495, 15338, 6735, 7122, 6991, 6504, 12444, 18122, 16271, 4453, 6660, 2115, 10231, 13833, 13346, 16040, 7437, 15453, 13115, 4122, 3635, 11295, 16230, 12528, 6750, 1197, 18468, 18337, 12072, 10477, 11610, 6188, 19139, 11510, 1799, 18096, 20072, 12799, 13576, 15783, 8154, 8054, 7567, 294, 2501, 3865, 5616, 20774, 3534, 3403, 18823, 2847, 19856, 13591, 14434, 17062, 19269, 9789, 9427, 17087, 15236, 8971, 624, 19615, 12342, 524, 11755, 13962, 17889, 6558, 10129, 2013, 162, 19153, 4251, 18566, 3664, 4020, 18466, 8855, 3433, 7004, 1095, 18366, 14177, 1126, 6904, 19855, 12582, 9788, 4366, 2515, 7937, 11895, 13128, 18581, 18450, 4912, 6663, 6888, 10846, 4937, 12110, 6201, 15712, 15581, 192, 18696, 16845, 7721, 3176, 20803, 18109, 16614, 9341, 11061, 7003, 18721, 2845, 3201, 19985, 5729, 6116, 3778, 17216, 13027, 20687, 14291, 7018, 18736, 6918, 2860, 15711, 9802, 7820, 14993, 13142, 15380, 13042, 14762, 15249, 5282, 14793, 20571, 17777, 4851, 19653, 19166, 7735, 8868, 8281, 2859, 15810, 10388, 6686, 15710, 15579, 4379, 19181, 13272, 5512, 3661, 18494, 3817, 18032, 13974, 792, 13387, 692, 13156, 5527, 11205, 7990, 20098, 3345, 16427, 14576, 16783, 8667, 10874, 2627, 16196, 11651, 320, 13271, 6129, 7849, 4016, 17585, 14891, 5667, 1122, 3329, 14691, 1509, 5080, 15824, 2773, 922, 19782, 12153, 14229, 10658, 15980, 13642, 8220, 4162, 6369, 15393, 18377, 15162, 20584, 7046, 3831, 3344, 10517, 20028, 4377, 20153, 14244, 11906, 9699, 10055, 10542, 7261, 7648, 9368, 18879, 17028, 20112, 14690, 10632, 5435, 18648, 8450, 10170, 1177, 690, 10201, 15492, 15523, 9970, 20714, 20227, 12598, 18732, 19119, 20383, 18045, 13987, 6714, 2656, 10285, 13887, 8465, 4763, 7878, 17614, 3945, 5665, 3845, 16440, 5465, 8093, 2540, 13902, 15622, 4160, 19449, 20713, 13440, 9382, 3960, 7044, 11489, 15060, 16424, 3729, 18175, 10415, 4993, 18300, 6513, 8233, 13555, 11704, 9497, 6282, 373, 5695, 12381, 12637, 8935, 8448, 3026, 14257, 4777, 12306, 17628, 17041, 16554, 1652, 1877, 14959, 16679, 3141, 12034, 7099, 5248, 11834, 13554, 2354, 15174, 11472, 19132, 18645, 10429, 8578, 10198, 13313, 3702, 131])\n"
          ],
          "name": "stdout"
        }
      ]
    },
    {
      "cell_type": "markdown",
      "metadata": {
        "id": "1HMdxu1haBNH",
        "colab_type": "text"
      },
      "source": [
        "### Fonction de similarité"
      ]
    },
    {
      "cell_type": "markdown",
      "metadata": {
        "id": "6WFDTAVB4Aj8",
        "colab_type": "text"
      },
      "source": [
        "Construire à partir de ratings2MPersistantesParMovie un dataset FilmsParUser(user,films)"
      ]
    },
    {
      "cell_type": "code",
      "metadata": {
        "id": "oD7qBJe91Ol6",
        "colab_type": "code",
        "outputId": "9e68287d-78bd-4646-9caf-5957a92aade1",
        "colab": {
          "base_uri": "https://localhost:8080/",
          "height": 208
        }
      },
      "source": [
        "ratings2MPersistantesParMovie.show(5)"
      ],
      "execution_count": 58,
      "outputs": [
        {
          "output_type": "stream",
          "text": [
            "+-------+--------------------+\n",
            "|movieId|               users|\n",
            "+-------+--------------------+\n",
            "|      2|[2207, 3958, 743,...|\n",
            "|      4|[15826, 2207, 943...|\n",
            "|      5|[6215, 15289, 306...|\n",
            "|      8|[16886, 7893, 152...|\n",
            "|     12|[5380, 15318, 857...|\n",
            "+-------+--------------------+\n",
            "only showing top 5 rows\n",
            "\n"
          ],
          "name": "stdout"
        }
      ]
    },
    {
      "cell_type": "code",
      "metadata": {
        "id": "eE06akqo1Evh",
        "colab_type": "code",
        "colab": {
          "base_uri": "https://localhost:8080/",
          "height": 693
        },
        "outputId": "bf9a74db-1ca5-4ddd-fc67-998fc22bfad8"
      },
      "source": [
        "#explode\n",
        "FilmParUser2=ratings2MPersistantesParMovie.withColumn(\"user\",explode(\"users\")).select(\"movieId\",\"user\")\n",
        "FilmParUser2.show()\n",
        "print(\"FilmParUser2\",FilmParUser2.count())\n",
        "print(\"ratings2M\",ratings2M.count())\n",
        "FilmParUser2=FilmParUser2.groupBy('user').agg(collect_set('movieId').alias('films'))\n",
        "FilmParUser2.show(5)"
      ],
      "execution_count": 59,
      "outputs": [
        {
          "output_type": "stream",
          "text": [
            "+-------+-----+\n",
            "|movieId| user|\n",
            "+-------+-----+\n",
            "|      2| 2207|\n",
            "|      2| 3958|\n",
            "|      2|  743|\n",
            "|      2|11131|\n",
            "|      2|12851|\n",
            "|      2| 7916|\n",
            "|      2| 3371|\n",
            "|      2|18660|\n",
            "|      2|18173|\n",
            "|      2|20024|\n",
            "|      2| 9180|\n",
            "|      2| 6842|\n",
            "|      2|14371|\n",
            "|      2| 6742|\n",
            "|      2|12064|\n",
            "|      2| 8493|\n",
            "|      2|10213|\n",
            "|      2|10082|\n",
            "|      2|17255|\n",
            "|      2| 9982|\n",
            "+-------+-----+\n",
            "only showing top 20 rows\n",
            "\n",
            "FilmParUser2 2000000\n",
            "ratings2M 2000000\n",
            "+----+--------------------+\n",
            "|user|               films|\n",
            "+----+--------------------+\n",
            "|  12|[356, 2136, 1730,...|\n",
            "|  13|[1965, 3258, 5804...|\n",
            "|  14|[168252, 2959, 31...|\n",
            "|  18|[912, 81, 1193, 1...|\n",
            "|  25|[161, 356, 153, 5...|\n",
            "+----+--------------------+\n",
            "only showing top 5 rows\n",
            "\n"
          ],
          "name": "stdout"
        }
      ]
    },
    {
      "cell_type": "code",
      "metadata": {
        "id": "Rp5cI4605qzr",
        "colab_type": "code",
        "colab": {
          "base_uri": "https://localhost:8080/",
          "height": 208
        },
        "outputId": "6d26b4bc-9bd0-4230-9232-9ac0bac2603e"
      },
      "source": [
        "FilmParUser2=ratings2MPersistantesParMovie.withColumn(\"user\",explode(\"users\")).groupBy('user').agg(collect_set('movieId').alias('films'))\n",
        "FilmParUser2.show(5)"
      ],
      "execution_count": 60,
      "outputs": [
        {
          "output_type": "stream",
          "text": [
            "+----+--------------------+\n",
            "|user|               films|\n",
            "+----+--------------------+\n",
            "|  12|[356, 2136, 1730,...|\n",
            "|  13|[1965, 3258, 5804...|\n",
            "|  14|[168252, 2959, 31...|\n",
            "|  18|[912, 81, 1193, 1...|\n",
            "|  25|[161, 356, 153, 5...|\n",
            "+----+--------------------+\n",
            "only showing top 5 rows\n",
            "\n"
          ],
          "name": "stdout"
        }
      ]
    },
    {
      "cell_type": "code",
      "metadata": {
        "id": "390kD0Ux5dOm",
        "colab_type": "code",
        "colab": {
          "base_uri": "https://localhost:8080/",
          "height": 245
        },
        "outputId": "4d80fac6-4093-481e-ee9e-cfc2405c5f11"
      },
      "source": [
        "FilmParUser2.explain()"
      ],
      "execution_count": 61,
      "outputs": [
        {
          "output_type": "stream",
          "text": [
            "== Physical Plan ==\n",
            "ObjectHashAggregate(keys=[user#1336], functions=[collect_set(movieId#942L, 0, 0)])\n",
            "+- Exchange hashpartitioning(user#1336, 4)\n",
            "   +- ObjectHashAggregate(keys=[user#1336], functions=[partial_collect_set(movieId#942L, 0, 0)])\n",
            "      +- Generate explode(users#1143), [movieId#942L], false, [user#1336]\n",
            "         +- InMemoryTableScan [movieId#942L, users#1143]\n",
            "               +- InMemoryRelation [movieId#942L, users#1143], StorageLevel(disk, memory, 1 replicas)\n",
            "                     +- ObjectHashAggregate(keys=[movieId#942L], functions=[collect_set(userId#941, 0, 0)])\n",
            "                        +- Exchange hashpartitioning(movieId#942L, 4)\n",
            "                           +- ObjectHashAggregate(keys=[movieId#942L], functions=[partial_collect_set(userId#941, 0, 0)])\n",
            "                              +- *(1) Project [nU#933 AS userId#941, nF#934L AS movieId#942L]\n",
            "                                 +- *(1) FileScan csv [nU#933,nF#934L] Batched: false, Format: CSV, Location: InMemoryFileIndex[file:/content/ratings2M.csv], PartitionFilters: [], PushedFilters: [], ReadSchema: struct<nU:int,nF:bigint>\n"
          ],
          "name": "stdout"
        }
      ]
    },
    {
      "cell_type": "code",
      "metadata": {
        "id": "-UEHdijgcmyA",
        "colab_type": "code",
        "outputId": "1298941f-877b-4ea9-c06b-9d45a5f240d9",
        "colab": {
          "base_uri": "https://localhost:8080/",
          "height": 243
        }
      },
      "source": [
        "%%time\n",
        "movieUsers1 = FilmParUser2.selectExpr(\"user as user1\", \"films as films1\")\n",
        "movieUsers2 = FilmParUser2.selectExpr(\"user as user2\", \"films as films2\")\n",
        "\n",
        "Paire2 = movieUsers1.crossJoin(movieUsers2).where(\"films1 > films2\").\\\n",
        "  withColumn(\"sim\", sim_jaccard( movieUsers1.films1, movieUsers2.films2 )).\\\n",
        "  where(\"sim>0\").\\\n",
        "  select(\"user1\",\"user2\",\"sim\")\n",
        "  # orderBy(\"sim\",ascending=False)\n",
        "\n",
        "Paire2.show(5)"
      ],
      "execution_count": 62,
      "outputs": [
        {
          "output_type": "stream",
          "text": [
            "+-----+-----+-----------+\n",
            "|user1|user2|        sim|\n",
            "+-----+-----+-----------+\n",
            "|   12|   25| 0.02930403|\n",
            "|   12|   56|0.115207374|\n",
            "|   12|  135|0.003875969|\n",
            "|   12|  150| 0.18660969|\n",
            "|   12|  161|0.030927835|\n",
            "+-----+-----+-----------+\n",
            "only showing top 5 rows\n",
            "\n",
            "CPU times: user 7.16 ms, sys: 3.01 ms, total: 10.2 ms\n",
            "Wall time: 2.98 s\n"
          ],
          "name": "stdout"
        }
      ]
    },
    {
      "cell_type": "code",
      "metadata": {
        "id": "tlqRtX0qLFye",
        "colab_type": "code",
        "colab": {}
      },
      "source": [
        ""
      ],
      "execution_count": 0,
      "outputs": []
    },
    {
      "cell_type": "code",
      "metadata": {
        "id": "IYxSWhQZ9Seh",
        "colab_type": "code",
        "colab": {
          "base_uri": "https://localhost:8080/",
          "height": 453
        },
        "outputId": "566e8845-2f18-4904-ce3a-0526e8c7172c"
      },
      "source": [
        "Paire2.explain()"
      ],
      "execution_count": 63,
      "outputs": [
        {
          "output_type": "stream",
          "text": [
            "== Physical Plan ==\n",
            "*(4) Project [user1#1396, user2#1400, pythonUDF0#1516 AS sim#1409]\n",
            "+- BatchEvalPython [sim_jaccard(films1#1397, films2#1401)], [user1#1396, films1#1397, user2#1400, films2#1401, pythonUDF0#1516]\n",
            "   +- *(3) Project [user1#1396, films1#1397, user2#1400, films2#1401]\n",
            "      +- *(3) Filter (pythonUDF0#1515 > 0.0)\n",
            "         +- BatchEvalPython [sim_jaccard(films1#1397, films2#1401)], [user1#1396, films1#1397, user2#1400, films2#1401, pythonUDF0#1515]\n",
            "            +- CartesianProduct (films1#1397 > films2#1401)\n",
            "               :- *(1) Project [user#1336 AS user1#1396, films#1344 AS films1#1397]\n",
            "               :  +- *(1) Filter isnotnull(films#1344)\n",
            "               :     +- ObjectHashAggregate(keys=[user#1336], functions=[collect_set(movieId#942L, 0, 0)])\n",
            "               :        +- Exchange hashpartitioning(user#1336, 4)\n",
            "               :           +- ObjectHashAggregate(keys=[user#1336], functions=[partial_collect_set(movieId#942L, 0, 0)])\n",
            "               :              +- Generate explode(users#1143), [movieId#942L], false, [user#1336]\n",
            "               :                 +- InMemoryTableScan [movieId#942L, users#1143]\n",
            "               :                       +- InMemoryRelation [movieId#942L, users#1143], StorageLevel(disk, memory, 1 replicas)\n",
            "               :                             +- ObjectHashAggregate(keys=[movieId#942L], functions=[collect_set(userId#941, 0, 0)])\n",
            "               :                                +- Exchange hashpartitioning(movieId#942L, 4)\n",
            "               :                                   +- ObjectHashAggregate(keys=[movieId#942L], functions=[partial_collect_set(userId#941, 0, 0)])\n",
            "               :                                      +- *(1) Project [nU#933 AS userId#941, nF#934L AS movieId#942L]\n",
            "               :                                         +- *(1) FileScan csv [nU#933,nF#934L] Batched: false, Format: CSV, Location: InMemoryFileIndex[file:/content/ratings2M.csv], PartitionFilters: [], PushedFilters: [], ReadSchema: struct<nU:int,nF:bigint>\n",
            "               +- *(2) Project [user#1336 AS user2#1400, films#1344 AS films2#1401]\n",
            "                  +- *(2) Filter isnotnull(films#1344)\n",
            "                     +- ObjectHashAggregate(keys=[user#1336], functions=[collect_set(movieId#942L, 0, 0)])\n",
            "                        +- ReusedExchange [user#1336, buf#1364], Exchange hashpartitioning(user#1336, 4)\n"
          ],
          "name": "stdout"
        }
      ]
    },
    {
      "cell_type": "markdown",
      "metadata": {
        "id": "VeurIOajZ-Fw",
        "colab_type": "text"
      },
      "source": [
        "En supposant que chaque partition est stockée sur une machine différente, expliquer quelles données sont transférées lors du calcul de la similarité entre les paires d'utilisateurs. Remarque : l'implémentation de ce cas n°2 avec pyspark est optionnelle."
      ]
    },
    {
      "cell_type": "markdown",
      "metadata": {
        "id": "Na0iH3V_Lwmg",
        "colab_type": "text"
      },
      "source": [
        "#### EXPLICATION"
      ]
    },
    {
      "cell_type": "markdown",
      "metadata": {
        "id": "NBtAAuCGET61",
        "colab_type": "text"
      },
      "source": [
        "Cas 2\n",
        "InMemoryTableScan signifie qu'on accède aux données stockées en mémoire grâce au persist().\n",
        "Tout ce qui est avant InMemoryTableScan explique comment les données ont été mises en mémoire.\n",
        "C'est à partir de cet étape qu'on commence à analyser le plan d'exécution pour la requête en cours.\n",
        "\n",
        "Voici le plan d'exécution de la première table du crossJoin:\n",
        "\n",
        "+- InMemoryTableScan [movieId#942L, users#1143]\n",
        "On regarde à partir de InMemoryTableScan :\n",
        "On accède aux données stockées dans ratings2MPersistantesParMovie qui a été partitionné en 4 selon les movieId==> (movieId,users(list)) \n",
        "\n",
        "+- Generate explode(users#1143), [movieId#942L], false, [user#1336]\n",
        "On applique la fonction explode à ce dataset, ce qui nous permet d'avoir une ligne par moveId et par userId\n",
        "\n",
        "+- ObjectHashAggregate(keys=[user#1336], functions=[partial_collect_set(movieId#942L, 0, 0)])\n",
        "On fait un partial collect_set sur les movieId pour chaque user.\n",
        "Ce calcul se fait en local sur chaque partition d'ou le partial_collect_set. \n",
        "On n'aura que les films contenus dans cette partition avec leurs userId correspondant.\n",
        "Les données transferées seront: (userId, list(films))\n",
        "\n",
        "+- Exchange hashpartitioning(user#1336, 4):\n",
        "On échange les données entre les différentes machines avec la clé userId\n",
        "\n",
        "+- ObjectHashAggregate(keys=[user#1336], functions=[collect_set(movieId#942L, 0, 0)])\n",
        "on fait une aggrégation globale par userId, en fusionnant la liste des films. Ce calcul se fait toute partition confondue d'où un collect_set et non pas partial_collect_set.\n",
        "\n",
        "- *(1) Project [user#1336 AS user1#1396, films#1344 AS films1#1397]\n",
        "on projette les champs qui vont être utilisés: user1 and films1\n",
        "\n",
        "Voici le plan d'exécution de la 2ème table du crossJoin\n",
        " +- ReusedExchange [user#1336, buf#1364], Exchange hashpartitioning(user#1336, 4)\n",
        "On réutilise l'aggrégation de données faite dans la première table jusqu'à l'échange des données entre les différentes partitions.\n",
        "Les deux tables sont semblables.\n",
        "\n",
        "+- ObjectHashAggregate(keys=[user#1336], functions=[collect_set(movieId#942L, 0, 0)])\n",
        "on fait une aggrégation globale, toute partition confondue d'où un collect_set et non pas partial_collect_set.\n",
        "==> on aurait pu accèder directement à cet étape?\n",
        "\n",
        "+- *(2) Project [user#1336 AS user2#1400, films#1344 AS films2#1401]\n",
        "on projette les champs qui vont être utilisés: user2 and films2\n",
        "\n",
        "+- CartesianProduct (films1#1397 > films2#1401)\n",
        "On calcule le produit cartésien des deux tables avec la condition (films1#1397 > films2#1401)\n",
        "\n",
        "+- BatchEvalPython [sim_jaccard(films1#1397, films2#1401)], [user1#1396, films1#1397, user2#1400, films2#1401, pythonUDF0#1515]\n",
        "Spark va appeler et calculer la fonction sim_jaccard ==> pythonUDF0#1515\n",
        "\n",
        "+- *(3) Filter (pythonUDF0#1515 > 0.0)\n",
        "le filtre sur la sim est appliqué\n",
        "\n",
        "+- *(3) Project [user1#1396, films1#1397, user2#1400, films2#1401]\n",
        "on ne projette que les données suivantes [user1#1396, films1#1397, user2#1400, films2#1401] sans la sim\n",
        "\n",
        "+- BatchEvalPython [sim_jaccard(films1#1397, films2#1401)], [user1#1396, films1#1397, user2#1400, films2#1401, pythonUDF0#1516]\n",
        "La sim est appelée encore une autre fois ==> pythonUDF0#1516 (cette pythonUDF est différente de celle d'avant #1515)\n",
        "\n",
        "*(4) Project [user1#1396, user2#1400, pythonUDF0#1516 AS sim#1409]\n",
        "on projette les champs finaux"
      ]
    }
  ]
}